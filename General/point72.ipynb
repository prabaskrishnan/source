{
 "cells": [
  {
   "cell_type": "code",
   "execution_count": 19,
   "metadata": {},
   "outputs": [
    {
     "name": "stdout",
     "output_type": "stream",
     "text": [
      "reject\n"
     ]
    }
   ],
   "source": [
    "strInput = 'abaa'\n",
    "state = 1\n",
    "for i in range(len(strInput)):\n",
    "    if i < len(strInput)-1:\n",
    "        char1 = strInput[i]\n",
    "        char2 = strInput[i+1]\n",
    "        if char1+char2 == 'ab':\n",
    "            if state ==3:\n",
    "                state=state-2\n",
    "            else:state+=1\n",
    "\n",
    "        if char1+char2 == 'aa': state=state\n",
    "\n",
    "if state==3:\n",
    "    print('accept')\n",
    "else:\n",
    "    print('reject')\n",
    "i+=1\n"
   ]
  },
  {
   "cell_type": "code",
   "execution_count": 18,
   "metadata": {},
   "outputs": [
    {
     "data": {
      "text/plain": [
       "range(0, 5)"
      ]
     },
     "execution_count": 18,
     "metadata": {},
     "output_type": "execute_result"
    }
   ],
   "source": [
    "range(len(strInput))"
   ]
  },
  {
   "cell_type": "code",
   "execution_count": 6,
   "metadata": {},
   "outputs": [
    {
     "data": {
      "text/plain": [
       "5"
      ]
     },
     "execution_count": 6,
     "metadata": {},
     "output_type": "execute_result"
    }
   ],
   "source": [
    "len(str)"
   ]
  },
  {
   "cell_type": "code",
   "execution_count": 23,
   "metadata": {},
   "outputs": [
    {
     "name": "stdout",
     "output_type": "stream",
     "text": [
      "a 1\n",
      "b 2\n",
      "a 2\n",
      "b 3\n",
      "accept\n"
     ]
    }
   ],
   "source": [
    "strInput = 'abab'\n",
    "state = 1\n",
    "for i in range(len(strInput)):\n",
    "    if i < len(strInput):\n",
    "        char1 = strInput[i]\n",
    "        if char1 == 'b':\n",
    "            if state ==3:\n",
    "                state=state-2\n",
    "            else:state+=1\n",
    "        print(char1,state)\n",
    "\n",
    "if state==3:\n",
    "    print('accept')\n",
    "else:\n",
    "    print('reject')\n"
   ]
  },
  {
   "cell_type": "code",
   "execution_count": 26,
   "metadata": {},
   "outputs": [
    {
     "name": "stdout",
     "output_type": "stream",
     "text": [
      "4.2\n"
     ]
    }
   ],
   "source": [
    "import numpy as np\n",
    "a = np.array([1,2,3,4,5])\n",
    "p = np.percentile(a, 80) # return 50th percentile, e.g median.\n",
    "print (p)\n"
   ]
  },
  {
   "cell_type": "code",
   "execution_count": null,
   "metadata": {},
   "outputs": [],
   "source": [
    "lstPrice=[]\n",
    "for line in n:\n",
    "    n = line.split(',')\n",
    "    #print(line)\n",
    "    #lstPrice.append(int(n[0]))"
   ]
  }
 ],
 "metadata": {
  "kernelspec": {
   "display_name": "Python 3",
   "language": "python",
   "name": "python3"
  },
  "language_info": {
   "codemirror_mode": {
    "name": "ipython",
    "version": 3
   },
   "file_extension": ".py",
   "mimetype": "text/x-python",
   "name": "python",
   "nbconvert_exporter": "python",
   "pygments_lexer": "ipython3",
   "version": "3.6.5"
  }
 },
 "nbformat": 4,
 "nbformat_minor": 2
}
