{
 "cells": [
  {
   "cell_type": "markdown",
   "metadata": {},
   "source": [
    "# Python Fundamentals for Data Science: Midterm Exam\n",
    "### Fall 2017"
   ]
  },
  {
   "cell_type": "markdown",
   "metadata": {},
   "source": [
    "## Instructions\n",
    "The midterm exam is designed to evaluate your grasp of Python theory as well as Python coding.\n",
    "\n",
    "- This is an individual open book exam.\n",
    "- You have 24 hours to complete the exam, starting from the point at which you first access it.\n",
    "\n",
    "For the coding questions, follow best practices.  Partial credit may be given for submissions that are clearly commented and well organized."
   ]
  },
  {
   "cell_type": "markdown",
   "metadata": {},
   "source": [
    "# Short Questions (15 pts)\n",
    "\n",
    "- Python's dynamic typing allows one variable to refer to multiple types of objects within the same program execution.  This can speed program development.  Name one disadvantage of dynamic typing."
   ]
  },
  {
   "cell_type": "markdown",
   "metadata": {
    "collapsed": true
   },
   "source": [
    "In my opinion , the biggest disadvantage of dynamic typing is that the typecheck happens only at the run time , this will allow bugs in the program during the run time if it is not handled carefully."
   ]
  },
  {
   "cell_type": "markdown",
   "metadata": {},
   "source": [
    "- Compiled languages typically offer faster performance than interpreted languages.  Why would you choose an interpreted language like Python for the purpose of analyzing a data set?"
   ]
  },
  {
   "cell_type": "markdown",
   "metadata": {
    "collapsed": true
   },
   "source": [
    "In most cases in the data analysis effort , majority of the time is spent on handling the large volume of data in the pipelines and disk I/O. They introduce more latency than the actual execution of the program. So the advantage of using a compiled code is very minimal or not existent in this case. But advantages of using interpreted languages like Python for data analysis is very  high. It is very easy to learn and many pacakages that are readily availalbe that are well suited for data and statistical analysis. The size of the program is always smaller to implement for the same function compared to compiled code such as Java or C#."
   ]
  },
  {
   "cell_type": "markdown",
   "metadata": {},
   "source": [
    "* We have gone over FOR and WHILE loops.  Discuss one reason to use a for loop over a while loop and one reason to do the opposite. Please elaborate beyond a single word."
   ]
  },
  {
   "cell_type": "markdown",
   "metadata": {
    "collapsed": true
   },
   "source": [
    "When you know , you need to iterate through ALL the elements/items and do some action on/from  them in an any enumeratable list , it is a good idea to us the \"For\" loop. Diffrently , if you need to make sure certain condition is always met for each item in the list before each iteration , \"While\" loop is preferable.\n"
   ]
  },
  {
   "cell_type": "markdown",
   "metadata": {},
   "source": [
    "# Programming Styles (10 pts)\n",
    "\n",
    "We have taught you a number of ways to program python. These have included using scripts versus functions and using jupyter notebooks versus calling .py files from the command line. Describe a scenario in which you would use a script versus a function and the opposite. Then describe a senario in which you would use .py files from the command line over a jupyter notebook and the opposite. There are four cases and each answer should be about 1-2 sentences."
   ]
  },
  {
   "cell_type": "markdown",
   "metadata": {},
   "source": [
    " * I would use a jupyter notebook over .py files:\n",
    "\n",
    "\n",
    "\n",
    "* I would use .py files over a notebook:\n",
    "\n",
    "\n",
    "\n",
    "\n",
    "* I would use a script over a function:\n",
    "\n",
    "\n",
    "\n",
    "\n",
    "\n",
    "* I would use a function over a script:\n",
    "\n",
    "\n",
    "\n"
   ]
  },
  {
   "cell_type": "markdown",
   "metadata": {},
   "source": [
    "jupyter notebook over .py files:  When I am starting on a program and I want to execute block of code each seperately and see how it behaves and continue to build the program, it would be easier to try it out in the notebook.\n",
    "\n",
    ".py files over a notebook: When I want to run a program as a whole by calling from the command line and pass in arguments and also when I want to create pacakages that can be imported in another python program, I would use .py files than in the notebooks.\n",
    "\n",
    "script over a function: When I want to try out a block of code , I would just write a script which wouldn't require any arguments to be passed to the scripts.\n",
    "\n",
    "function over a script: When I want to reuse the block of code again and again that can take few parameters and return a value , I would use a function for that than just a script.\n",
    "\n"
   ]
  },
  {
   "cell_type": "markdown",
   "metadata": {},
   "source": [
    "# Dictionaries vs Lists (10 pts)\n",
    "\n",
    "Suppose we have the following problem.  We have a dictionary of names and ages and we would like to find the oldest person.\n",
    "\n",
    "```\n",
    "ages_dict = {'Bill':34, 'Fred':45, 'Alice':14, 'Betty':17}\n",
    "```"
   ]
  },
  {
   "cell_type": "markdown",
   "metadata": {},
   "source": [
    "### Dictionary approach\n",
    "Here is a loop that shows how to iterate through the dictionary:"
   ]
  },
  {
   "cell_type": "code",
   "execution_count": 5,
   "metadata": {},
   "outputs": [
    {
     "name": "stdout",
     "output_type": "stream",
     "text": [
      "Fred is the oldest\n"
     ]
    }
   ],
   "source": [
    "\n",
    "ages_dict = {'Bill':34, 'Fred':45, 'Alice':14, 'Betty':17}\n",
    "\n",
    "max_age = 0\n",
    "max_name = ''\n",
    "for name,age in ages_dict.items():\n",
    "    if age > max_age:\n",
    "        max_age = age\n",
    "        max_name = name\n",
    "        \n",
    "print(max_name, \"is the oldest\")  \n"
   ]
  },
  {
   "cell_type": "markdown",
   "metadata": {},
   "source": [
    "### List approach \n",
    "\n",
    "Your friend comes to you and says that this dictionary is hard to deal with and instead offers a different plan with 2 lists.\n",
    "\n",
    "```\n",
    "names = ['Bill', 'Fred', 'Alice', 'Betty']\n",
    "ages = [34, 45, 14, 17]\n",
    "```"
   ]
  },
  {
   "cell_type": "markdown",
   "metadata": {},
   "source": [
    "Instead of using a loop, your friend writes this code to find the oldest person."
   ]
  },
  {
   "cell_type": "code",
   "execution_count": 232,
   "metadata": {},
   "outputs": [
    {
     "name": "stdout",
     "output_type": "stream",
     "text": [
      "Fred is the oldest\n"
     ]
    }
   ],
   "source": [
    "names = ['Bill', 'Fred', 'Alice', 'Betty']\n",
    "ages = [34, 45, 14, 17]\n",
    "\n",
    "max_age = max(ages)\n",
    "index_max = ages.index(max_age)\n",
    "max_name = names[index_max]\n",
    "\n",
    "print(max_name, 'is the oldest')"
   ]
  },
  {
   "cell_type": "markdown",
   "metadata": {},
   "source": [
    "### Discussion\n",
    "\n",
    "Discuss the advantages and disadvantages of each of the approaches.  \n",
    "* Is one more efficient (i.e. faster) than the other?\n",
    "* Why would you prefer the dictionary?\n",
    "* Why would you prefer the 2 lists?"
   ]
  },
  {
   "cell_type": "markdown",
   "metadata": {},
   "source": [
    "It may not make a difference in the speed for the execution as both logic will be iterating through every item in the list/dictionary. Max function might need to do the same thing as well internally to find the maximum age.\n",
    "\n",
    "I would prefer dictionary to keep the key : value pair together, it is easier to understand and maintain the relationship between two data in an ongoing basis. It is difficult to keep two different list and maintain the relationship intact all the time. The list might go out of sync or might cause index error. Need to be careful to maintain the sequence and the length of the two lists intact.\n",
    "\n",
    "If I dont want to implement the logic for checking the maximum age by iterating all the items in the dictionary myself and take advantage of the built in 'max' function like above that applies to one of the list directly , the second method of implementation is preferable. We could use the max function in dictionary as well but it is easier and simplet using list.\n",
    "\n",
    "\n"
   ]
  },
  {
   "cell_type": "markdown",
   "metadata": {},
   "source": [
    "# Mutability Surprises (15 pts)\n",
    "\n",
    "In the asyncronous sessions, we discussed mutability. Please describe, in your own words, why mutability is a useful feature in Python lists and dictionaries."
   ]
  },
  {
   "cell_type": "markdown",
   "metadata": {},
   "source": [
    "Mutability helps to expand the object size of the list or dictionaries without creating additional objects/copies. So it will be space and time efficient in this scenario.  Also if you want to maintain single source of truth for your data that is in the original list, mutability is a great feature that helps to maintain/update the source copy all the time."
   ]
  },
  {
   "cell_type": "markdown",
   "metadata": {},
   "source": [
    "Mutability can also lead to unexpected behavior - specifically when multiple variables point to the same object or when mutable objects are nested inside each other. \n",
    "\n",
    "Please write some code demonstrating a situation where mutability could lead to unexpected behavior. Specifically, show how updating just one object (list_a) can change the value when you print a second variable (list_b)."
   ]
  },
  {
   "cell_type": "code",
   "execution_count": 22,
   "metadata": {},
   "outputs": [
    {
     "name": "stdout",
     "output_type": "stream",
     "text": [
      "List before making an update:  [111, 'Praba', [100, 98, 89]]\n",
      "List after making an update:  [111, 'Praba', [100, 88, 89]]\n"
     ]
    }
   ],
   "source": [
    "# Mutability issue , updating list_a  changes the value in list_b\n",
    "\n",
    "list_a = [111,'Praba',[100,98,89]]\n",
    "list_b = list_a\n",
    "print(\"List before making an update: \",list_b)\n",
    "list_a[2][1] = 88\n",
    "print(\"List after making an update: \",list_b)"
   ]
  },
  {
   "cell_type": "markdown",
   "metadata": {},
   "source": [
    "Show how \"copy\" or \"deepcopy\" could be used to prevent the unexpected problem you described, above."
   ]
  },
  {
   "cell_type": "code",
   "execution_count": 23,
   "metadata": {},
   "outputs": [
    {
     "name": "stdout",
     "output_type": "stream",
     "text": [
      "List before making an update:  [111, 'Praba', [100, 98, 89]]\n",
      "List after making an update:  [111, 'Praba', [100, 98, 89]]\n"
     ]
    }
   ],
   "source": [
    "# deepcopy addresses the mutability by creating seperate object\n",
    "\n",
    "import copy\n",
    "list_a = [111,'Praba',[100,98,89]]\n",
    "list_b = copy.deepcopy(list_a)\n",
    "print(\"List before making an update: \",list_b)\n",
    "list_a[2][1] = 88\n",
    "print(\"List after making an update: \",list_b)"
   ]
  },
  {
   "cell_type": "markdown",
   "metadata": {},
   "source": [
    "Now, show the same problem using two dictionaries. Again show how \"copy\" or \"deepcopy\" can fix the issue."
   ]
  },
  {
   "cell_type": "code",
   "execution_count": 24,
   "metadata": {},
   "outputs": [
    {
     "name": "stdout",
     "output_type": "stream",
     "text": [
      "Dictionary before making an update:  {'Id': 111, 'Name': 'Praba', 'Grades': [100, 98, 89]}\n",
      "Dictionary before making an update:  {'Id': 111, 'Name': 'Praba', 'Grades': [100, 88, 89]}\n",
      "Dictionary before making an update:  {'Id': 111, 'Name': 'Praba', 'Grades': [100, 98, 89]}\n",
      "Dictionary before making an update:  {'Id': 111, 'Name': 'Praba', 'Grades': [100, 98, 89]}\n"
     ]
    }
   ],
   "source": [
    "# Mutability issue , updating dict_a changes the value in dict_b\n",
    "dict_a = {'Id':111,'Name':'Praba','Grades':[100,98,89]}\n",
    "dict_b = dict_a\n",
    "print(\"Dictionary before making an update: \",dict_b)\n",
    "dict_a['Grades'][1] = 88\n",
    "print(\"Dictionary before making an update: \",dict_b)\n",
    "\n",
    "\n",
    "\n",
    "# deepcopy addresses the mutability by creating seperate object\n",
    "import copy\n",
    "dict_a = {'Id':111,'Name':'Praba','Grades':[100,98,89]}\n",
    "dict_b = copy.deepcopy(dict_a)\n",
    "print(\"Dictionary before making an update: \",dict_b)\n",
    "dict_a['Grades'][1] = 88\n",
    "\n",
    "print(\"Dictionary before making an update: \",dict_b)"
   ]
  },
  {
   "cell_type": "markdown",
   "metadata": {},
   "source": [
    "Can this unexpected behavior problem occur with tuples? Why, or why not?"
   ]
  },
  {
   "cell_type": "markdown",
   "metadata": {},
   "source": [
    "Tuples are immutable  , so changing the value is not permitted and it will throw TypeError. But if the Tuple contains one of the item as list , that list will still be mutable and can be modified.\n"
   ]
  },
  {
   "cell_type": "code",
   "execution_count": 32,
   "metadata": {},
   "outputs": [
    {
     "name": "stdout",
     "output_type": "stream",
     "text": [
      "Item assignment not permitted. \n",
      "(111, 'Praba', [100, 98, 89])\n",
      "(111, 'Praba', [100, 88, 89])\n"
     ]
    }
   ],
   "source": [
    "tuple_A = (111,'Praba',[100,98,89])\n",
    "tuple_B = tuple_A\n",
    "\n",
    "# this assigment will throw the error\n",
    "try:\n",
    "    tuple_A[1] = 'Santhanakrishnan'\n",
    "except TypeError:\n",
    "    print ('Item assignment not permitted. ')\n",
    "    \n",
    "\n",
    "    \n",
    "print(tuple_B)\n",
    "# but this will work , list is still mutable inside a tuple\n",
    "tuple_A[2][1] = 88\n",
    "print(tuple_B)"
   ]
  },
  {
   "cell_type": "markdown",
   "metadata": {},
   "source": [
    "# Tweet Analysis (15 pts)\n",
    "\n",
    "A tweet is a string that is between 1 and 140 characters long (inclusive). A username is a string of letters and/or digits that is between 1 and 14 characters long (inclusive). A username is mentioned in a tweet by including @username in the tweet. A retweet is way to share another user's tweet, and can be identified by the string RT, followed by the original username who tweeted it.\n",
    "\n",
    "Your job is to fill in the function count_retweets_by_username so that it returns a frequency dictionary that indicates how many times each username was retweeted."
   ]
  },
  {
   "cell_type": "code",
   "execution_count": 236,
   "metadata": {},
   "outputs": [],
   "source": [
    "tweets = [\"This is great! RT @fake_user: Can you believe this http://some-link.com\",\n",
    "         \"It's the refs! RT @dubsfan: Boo the refs and stuff wargarbal\",\n",
    "         \"That's right RT @ladodgers: The dodgers are destined to win the west!\",\n",
    "         \"RT @sportball: That sporting event was not cool\",\n",
    "         \"This is just a tweet about things @person, how could you\",\n",
    "         \"RT @ladodgers: The season is looking great!\",\n",
    "         \"RT @dubsfan: I can't believe it!\",\n",
    "         \"I can't believe it either! RT @dubsfan: I can't believe it\"]\n",
    "\n"
   ]
  },
  {
   "cell_type": "code",
   "execution_count": 237,
   "metadata": {},
   "outputs": [],
   "source": [
    "def count_retweets_by_username(tweet_list):\n",
    "    \"\"\" (list of tweets) -> dict of {username: int}\n",
    "    Returns a dictionary in which each key is a username that was \n",
    "    retweeted in tweet_list and each value is the total number of times this \n",
    "    username was retweeted.\n",
    "    \"\"\"\n",
    "    \n",
    "    # write code here and update return statement with your dictionary\n",
    "    # Find the user name by checking for keyword 'RT' and the 14 character string that follows it    \n",
    "    list_tweets = [item[item.find('RT') +3 :item.find('RT') + 14] for item in tweet_list if item.find('RT') > -1]\n",
    "    # Include the characters upto ':' in the user name\n",
    "    list_tweets = [item[0:item.find(':')] for item in list_tweets]\n",
    "    return {item:list_tweets.count(item) for item in list_tweets}\n"
   ]
  },
  {
   "cell_type": "code",
   "execution_count": 238,
   "metadata": {},
   "outputs": [
    {
     "name": "stdout",
     "output_type": "stream",
     "text": [
      "{'@fake_user': 1, '@dubsfan': 3, '@ladodgers': 2, '@sportball': 1}\n"
     ]
    }
   ],
   "source": [
    "# allow this code to work by implementing count_retweets_by_username function above\n",
    "print(count_retweets_by_username(tweets))"
   ]
  },
  {
   "cell_type": "markdown",
   "metadata": {},
   "source": [
    "# Looking for Minerals (20 pts)\n",
    "\n",
    "A mining company conducts a survey of an n-by-n square grid of land.  Each row of land is numbered from 0 to n-1 where 0 is the top and n-1 is the bottom, and each column is also numbered from 0 to n-1 where 0 is the left and n-1 is the right.  The company wishes to record which squares of this grid contain mineral deposits.\n",
    "\n",
    "The company decides to use a list of tuples to store the location of each deposit.  The first item in each tuple is the row of the deposit.  The second item is the column.  The third item is a non-negative number representing the size of the deposit, in tons.  For example, the following code defines a sample representation of a set of deposits in an 8-by-8 grid."
   ]
  },
  {
   "cell_type": "code",
   "execution_count": 239,
   "metadata": {},
   "outputs": [],
   "source": [
    "deposits = [(0,4,.3), (6, 2, 3), (3, 7, 2.2), (5, 5, .5), (3, 5, .8), (7,7, .3)]\n",
    "\n"
   ]
  },
  {
   "cell_type": "markdown",
   "metadata": {},
   "source": [
    "Given a list of deposits like the one above, write a function to create a string representation for a rectangular subregion of the land.  Your function should take a list of deposits, then a set of parameters denoting the top, bottom, left, and right edges of the subgrid.  It should return a multi-line string in which grid squares without deposits are represented by \"-\" and grid squares with a deposit are represented by \"X\"."
   ]
  },
  {
   "cell_type": "code",
   "execution_count": 241,
   "metadata": {},
   "outputs": [
    {
     "name": "stdout",
     "output_type": "stream",
     "text": [
      "----X---\n",
      "--------\n",
      "--------\n",
      "-----X-X\n",
      "--------\n",
      "-----X--\n",
      "--X-----\n",
      "-------X\n",
      "\n",
      "X--\n",
      "---\n",
      "--X\n",
      "\n"
     ]
    }
   ],
   "source": [
    "def display(deposits, top, bottom, left, right):\n",
    "    \"\"\"display a subgrid of the land, with rows starting at top and up to \n",
    "    but not including bottom, and columns starting at left and up to but\n",
    "    not including right.\"\"\"\n",
    "    \n",
    "    import sys\n",
    "    try:\n",
    "        top = int(top)\n",
    "        bottom = int(bottom)\n",
    "        left = int(left)\n",
    "        right = int(right)\n",
    "    except ValueError:\n",
    "        return 'Please enter valid parameters. '\n",
    "    else:\n",
    "        \n",
    "        \n",
    "        deposits = sorted(deposits)\n",
    "        ans = \"\"\n",
    "        # Find the number of rows and the number of columns\n",
    "        \n",
    "        rows = deposits[-1][0] + 1\n",
    "        cols = deposits[-1][1] + 1\n",
    "        grid=[]\n",
    "        \n",
    "        # Create a grid for all possible combinations of rows, cols with mineral value = 0\n",
    "\n",
    "        [grid.append([row,col,0]) for row in range(0,rows) for col in range(0,cols)]\n",
    "\n",
    "        for d_item in deposits:\n",
    "            for g_item in grid:\n",
    "                if d_item[0]==g_item[0] and d_item[1]==g_item[1]:\n",
    "                    g_item[2] = d_item[2]\n",
    "        \n",
    "        # check for sub grid for mineral value > 0 and print the character accordingly\n",
    "        for item in grid:\n",
    "            if item[0] >= top and item[0] < bottom and item[1] >= left and item[1] < right:\n",
    "\n",
    "                if item[2] >0:\n",
    "                    letter = 'X'\n",
    "                else:\n",
    "                    letter = '-'\n",
    "                if item[1] == cols -1:\n",
    "                    ans += letter + '\\n'\n",
    "                else:\n",
    "                    ans += letter\n",
    "        return ans\n",
    "    \n",
    "\n",
    "\n",
    "    \n",
    "print(display(deposits, 0, 8, 0, 8))\n",
    "print(display(deposits, 5, 8, 5, 8))"
   ]
  },
  {
   "cell_type": "markdown",
   "metadata": {},
   "source": [
    "For example, your function should replicate the following behavior for the example grid:\n",
    "```\n",
    "print(display(deposits, 0, 8, 0, 8))\n",
    "----X---\n",
    "--------\n",
    "--------\n",
    "-----X-X\n",
    "--------\n",
    "-----X--\n",
    "--X-----\n",
    "-------X\n",
    "\n",
    "print(display(deposits, 5, 8, 5, 8))\n",
    "X--\n",
    "---\n",
    "--X\n",
    "\n",
    "```\n"
   ]
  },
  {
   "cell_type": "markdown",
   "metadata": {},
   "source": [
    "Next, complete the following function to compute the total number of tons in a rectangular subregion of the grid."
   ]
  },
  {
   "cell_type": "code",
   "execution_count": 242,
   "metadata": {},
   "outputs": [
    {
     "name": "stdout",
     "output_type": "stream",
     "text": [
      "Total tons inside: 7.1\n"
     ]
    }
   ],
   "source": [
    "def tons_inside(deposits, top, bottom, left, right):\n",
    "    \n",
    "    \"\"\"Returns the total number of tons of deposits for which the row is at least top,\n",
    "    but strictly less than bottom, and the column is at least left, but strictly\n",
    "    less than right.\"\"\"\n",
    "    # Do not alter the function header.  \n",
    "    # Just fill in the code so it returns the correct number of tons.\n",
    "    tons = 0\n",
    "    for item in deposits:\n",
    "        if item[0] >= top and item[0] < bottom and item[1] >= left and item[1] < right:\n",
    "            tons += item[2]\n",
    "            \n",
    "    return 'Total tons inside: '  +  str(round(tons,2))\n",
    "   \n",
    "    \n",
    "print(tons_inside(deposits, 0, 8, 0, 8))"
   ]
  },
  {
   "cell_type": "markdown",
   "metadata": {
    "collapsed": true
   },
   "source": [
    "## Birthday planning (15 pts)\n",
    "\n",
    "Suppose you record a list of birthdays for your classmates, recorded as month day tuples.  An example is given below."
   ]
  },
  {
   "cell_type": "code",
   "execution_count": 243,
   "metadata": {
    "collapsed": true
   },
   "outputs": [],
   "source": [
    "dates = [(3,14),(2,8),(10,25),(5,17),(3,2),(7,25),(4,30),(8,7),(2,8),(1,22)]"
   ]
  },
  {
   "cell_type": "markdown",
   "metadata": {},
   "source": [
    "You read about the famous birthday problem (https://en.wikipedia.org/wiki/Birthday_problem) and you become interested in the number of pairs of classmates that share the same birthday.  Here is an algorithm you write to do this:"
   ]
  },
  {
   "cell_type": "code",
   "execution_count": 244,
   "metadata": {},
   "outputs": [
    {
     "name": "stdout",
     "output_type": "stream",
     "text": [
      "Total birthday pairs: 1\n"
     ]
    }
   ],
   "source": [
    "count = 0\n",
    "\n",
    "for person_a in dates:\n",
    "    for person_b in dates:\n",
    "        # Make sure we have different people\n",
    "        if person_a is person_b:\n",
    "            continue\n",
    "            \n",
    "        # Check both month and day\n",
    "        if person_a[0] == person_b[0] and person_a[1] == person_b[1]:\n",
    "            count += 1\n",
    "            \n",
    "            \n",
    "# We counted each pair twice (e.g. jane-bob and bob-jane) so divide by 2:\n",
    "print(\"Total birthday pairs:\", count//2)"
   ]
  },
  {
   "cell_type": "markdown",
   "metadata": {},
   "source": [
    "What is the (tightest) Big-O running time bound for the above algorithm?  You may assume that simple operations like equality check, addition, and print take constant time."
   ]
  },
  {
   "cell_type": "markdown",
   "metadata": {
    "collapsed": true
   },
   "source": [
    "Big-O running time bound is   O(N**2)"
   ]
  },
  {
   "cell_type": "markdown",
   "metadata": {},
   "source": [
    "\n",
    "You notice that your algorithm is inefficient in that it counts each pair twice.  For example, it will increment count once when person_a is Jane and person_b is Bob, and again when person_a is Bob and person_b is Jane.  Below, revise the algorithm so that it only looks at each pair once."
   ]
  },
  {
   "cell_type": "code",
   "execution_count": 247,
   "metadata": {
    "scrolled": true
   },
   "outputs": [
    {
     "name": "stdout",
     "output_type": "stream",
     "text": [
      "Total birthday pairs: 1\n"
     ]
    }
   ],
   "source": [
    "dates = [(3,14),(2,8),(10,25),(5,17),(3,2),(7,25),(4,30),(8,7),(2,8),(1,22)]\n",
    "\n",
    "count = 0\n",
    "\n",
    "checked = []\n",
    "for person_a in dates:\n",
    "    for person_b in dates:\n",
    "        # Avoid checking the same dates again\n",
    "        if person_a not in checked and person_b not in checked:\n",
    "            \n",
    "            # Make sure we have different people\n",
    "            if person_a is person_b:\n",
    "                continue\n",
    "\n",
    "            # Check both month and day\n",
    "            if person_a[0] == person_b[0] and person_a[1] == person_b[1]:\n",
    "                count += 1\n",
    "                checked.append((person_a[0],person_a[1]))\n",
    "            \n",
    "print(\"Total birthday pairs:\", count)"
   ]
  },
  {
   "cell_type": "markdown",
   "metadata": {},
   "source": [
    "What is the (tighest) Big-O running time bound for your new algorithm?  What does this tell you about whether your revision was worth making?\n",
    "\n"
   ]
  },
  {
   "cell_type": "markdown",
   "metadata": {},
   "source": [
    "Though it checks each pair once by having a temporary list which saves the pair already checked , it is still O(N**2) for the worst case."
   ]
  },
  {
   "cell_type": "markdown",
   "metadata": {},
   "source": [
    "Finally, create a third revision of your algorithm which has a faster Big-O running time bound that both the previous algorithms.\n",
    "\n",
    "Hint: Start by creating a list of 12 lists that are each 31 items long.  You'll need to do a little bit of algebra as a post-processing step."
   ]
  },
  {
   "cell_type": "code",
   "execution_count": 248,
   "metadata": {},
   "outputs": [
    {
     "name": "stdout",
     "output_type": "stream",
     "text": [
      "Total birthday pairs: 1\n"
     ]
    }
   ],
   "source": [
    "dates = [(3,14),(2,8),(10,25),(5,17),(3,2),(7,25),(4,30),(8,7),(2,8),(1,22)]\n",
    "calendar = [[0 for d in range(31)] for m in range(12) ]\n",
    "\n",
    "for item in dates:\n",
    "    calendar[item[0]][item[1]]=calendar[item[0]][item[1]]+1\n",
    "\n",
    "pairs = sum([1 for month in calendar for day in month if day > 1])\n",
    "\n",
    "print(\"Total birthday pairs:\", pairs)"
   ]
  },
  {
   "cell_type": "markdown",
   "metadata": {},
   "source": [
    "What is the (tightest) Big-O running time bound for your last algorithm?  Explain what trade-off you made to have a faster running time."
   ]
  },
  {
   "cell_type": "markdown",
   "metadata": {
    "collapsed": true
   },
   "source": [
    "Big-O running time bound is O(N) . We have to create a calendar list which is constant size equivalent to number of days in a year (12*31 in this case). This is the trade-off as we store the individual dates in the year ina seperate list.\n",
    "\n",
    "As dates grow , we always iterate the dates list once and iteration of calendar is always constant. so the Big-O running time bound is always O(N).\n"
   ]
  }
 ],
 "metadata": {
  "kernelspec": {
   "display_name": "Python 3",
   "language": "python",
   "name": "python3"
  },
  "language_info": {
   "codemirror_mode": {
    "name": "ipython",
    "version": 3
   },
   "file_extension": ".py",
   "mimetype": "text/x-python",
   "name": "python",
   "nbconvert_exporter": "python",
   "pygments_lexer": "ipython3",
   "version": "3.6.3"
  }
 },
 "nbformat": 4,
 "nbformat_minor": 1
}
