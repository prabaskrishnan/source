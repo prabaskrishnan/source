{
 "cells": [
  {
   "cell_type": "markdown",
   "metadata": {},
   "source": [
    "## Week 5 Assignment - W200 MIDS Python"
   ]
  },
  {
   "cell_type": "markdown",
   "metadata": {},
   "source": [
    "Write code in this Jupyter Notebook to solve each of the following problems. Each problem should have its solution in a separate cell. Please upload this **Notebook** with your solutions to your GitHub repository in your SUBMISSIONS/week_05 folder by 11:59PM PST the night before class."
   ]
  },
  {
   "cell_type": "markdown",
   "metadata": {},
   "source": [
    "## Part 1 - Function Exercises\n",
    "\n",
    "### 5-1-1 Nested (\"Wrapped\") Functions\n",
    "Write a function, `sum_digits`, which takes an `int` and returns the sum of its (positive value) digits. \n",
    "\n",
    "Write another function that \"wraps\" `sum_digits` in that it calls `sum_digits` from within it. Call this function `diff_sum_digits`. Use that function to compute the input number minus the sum of digits of input number.\n",
    "\n",
    "Write another function that \"wraps\" `diff_sum_digits` call it `wraps_diff_sum_digits` . If `diff_sum_digits` returns a result that has more than one digit (either negative or positive) have this new function replace the result with the sum of the digits of the result. Do this repeatedly until the result has just one digit, then display it.\n",
    "\n",
    "Below you'll find an example of what we mean when we say \"wraps\" - this is not a decorator function or anything like that, just a function that calls another function inside of it."
   ]
  },
  {
   "cell_type": "code",
   "execution_count": 135,
   "metadata": {
    "scrolled": true
   },
   "outputs": [
    {
     "name": "stdout",
     "output_type": "stream",
     "text": [
      "-5\n",
      "trivial example\n"
     ]
    }
   ],
   "source": [
    "def example_base_func(x):\n",
    "    \"Returns the value of the input * -1\"\n",
    "    return -1 * x\n",
    "\n",
    "def wraps_example_base_func(x):\n",
    "    temp_val = example_base_func(x)\n",
    "    if temp_val < 0:\n",
    "        return \"trivial example\"\n",
    "    \n",
    "print(example_base_func(5))\n",
    "print(wraps_example_base_func(5))\n"
   ]
  },
  {
   "cell_type": "markdown",
   "metadata": {},
   "source": [
    "You can use the sample output in this cell to sanity check your work.\n",
    "\n",
    "\n",
    "```python\n",
    "print(sum_digits(54321))\n",
    "print(sum_digits(-54321))\n",
    "print(diff_sum_digits(54321))\n",
    "print('final value: ' + str(wraps_diff_sum_digits(54321)))\n",
    "\n",
    "15\n",
    "15\n",
    "54306\n",
    "final value: 9\n",
    "```"
   ]
  },
  {
   "cell_type": "code",
   "execution_count": 136,
   "metadata": {},
   "outputs": [
    {
     "name": "stdout",
     "output_type": "stream",
     "text": [
      "15\n",
      "15\n",
      "54306\n",
      "final value: 9\n"
     ]
    }
   ],
   "source": [
    "### [Praba Santhanakrishnan]\n",
    "\n",
    "def sum_digits(num):\n",
    "    ans = 0\n",
    "    \n",
    "    try:\n",
    "        num=abs(num)\n",
    "    except TypeError:\n",
    "        print(\"Please enter Integer type value.\")\n",
    "    else:\n",
    "        while num > 10:\n",
    "            ans +=num%10\n",
    "            num =int(num/10)\n",
    "        ans+=num\n",
    "        return ans\n",
    "\n",
    "def diff_sum_digits(num):\n",
    "    try:\n",
    "        num=abs(num)\n",
    "        \n",
    "    except TypeError:\n",
    "        print(\"Please enter Integer type value.\")\n",
    "    else:\n",
    "        return num - sum_digits(num)\n",
    "\n",
    "def wraps_diff_sum_digits(num):\n",
    "    try:\n",
    "        num=abs(num)\n",
    "        \n",
    "    except TypeError:\n",
    "        print(\"Please enter Integer type value.\")\n",
    "    else:\n",
    "        ans = diff_sum_digits(num)\n",
    "        while ans >9 or ans < -9:\n",
    "            ans = sum_digits(ans)\n",
    "\n",
    "        return ans\n",
    "        \n",
    "    \n",
    "\n",
    "\n",
    "print(sum_digits(54321))\n",
    "\n",
    "print(sum_digits(-54321))\n",
    "print(diff_sum_digits(54321))\n",
    "print('final value: ' + str(wraps_diff_sum_digits(54321)))\n",
    "\n"
   ]
  },
  {
   "cell_type": "markdown",
   "metadata": {},
   "source": [
    "### 5-1-2 Pigs, Continued\n",
    "\n",
    "Write a function `is_consonant` that takes a character and returns `True` if it is a consonant.\n",
    "\n",
    "Use your function to create a new fuction `to_piglatin` that takes a word, moves all starting consonants (all consonants before the first vowel) to the end of the word, then adds *ay* to the end and returns the result. You may expect that the input will be just one word.\n",
    "\n",
    "*Extra Credit: Have this function check whether or not the input is multiple words and return the whole sentence in pig latin. For this you may assume that a sentence always ends with a period and the input is always one sentence, never more than one.*\n",
    "\n",
    "Examples:\n",
    "```\n",
    "to_piglatin('stay') -> Aystay\n",
    "to_piglatin('Jared') -> Aredjay \n",
    "to_piglatin('and') -> Anday\n",
    "to_piglatin('car') -> Arcay\n",
    "```"
   ]
  },
  {
   "cell_type": "code",
   "execution_count": 137,
   "metadata": {},
   "outputs": [
    {
     "name": "stdout",
     "output_type": "stream",
     "text": [
      "Aystay\n",
      "Aredjay\n",
      "Anday\n",
      "Arcay\n",
      "False\n",
      "True\n",
      "False\n",
      "True\n",
      "False\n"
     ]
    }
   ],
   "source": [
    "### [Praba Santhanakrishnan]\n",
    "\n",
    "def is_consonant(letter):\n",
    "    bool_consonant = False\n",
    "    try:\n",
    "        asc_value = ord(letter)\n",
    "    except TypeError:\n",
    "        return bool_consonant\n",
    "    else:\n",
    "        \n",
    "        \n",
    "        if (asc_value in range(65,92) or asc_value in range(97,124)) and asc_value not in [97, 101, 105, 111, 117, 65, 69, 73, 79, 85] :\n",
    "        \n",
    "            bool_consonant = True\n",
    "\n",
    "        return bool_consonant\n",
    "\n",
    "\n",
    "def to_piglatin(word):\n",
    "    \n",
    "    word= word.lower()    \n",
    "    count=0\n",
    "    for letter in word:            \n",
    "        if is_consonant(letter) is False:\n",
    "            break\n",
    "        count+=1\n",
    "    \n",
    "    return word[count].upper() + word[count+1:] + word[0:count] + 'ay'\n",
    "            \n",
    "   \n",
    "\n",
    "\n",
    "\n",
    "\n",
    "    \n",
    "print(to_piglatin('stay'))\n",
    "print(to_piglatin('Jared'))\n",
    "print(to_piglatin('and'))\n",
    "print(to_piglatin('car'))\n",
    "\n",
    "\n",
    "    \n",
    "print(is_consonant('A'))\n",
    "print(is_consonant('Z'))\n",
    "print(is_consonant('a'))\n",
    "print(is_consonant('b'))\n",
    "print(is_consonant(2))\n",
    "\n"
   ]
  },
  {
   "cell_type": "markdown",
   "metadata": {},
   "source": [
    "## Part 2 - Namespace Exercise\n",
    "\n",
    "### 5-2-1 Process Order\n",
    "\n",
    "The following script defines a list of customer orders.  Each item in the list is a tuple containing the name of the item, the number requested, and the price per item.\n",
    "\n",
    "Fill in just the `process_order` function below without changing any other code. This function should remove one of the elements of the order list and print a nice message about it each time through the loop. Finally, make sure that the final print statement correctly displays the total price for the entire list.\n",
    "\n",
    "Example:\n",
    "```\n",
    "You filled an order for 1 antacid for a total of $5.33\n",
    "You filled an order for 3 sour bites for a total of $6.99\n",
    "You filled an order for 1 gummy bears for a total of $1.99\n",
    "You filled an order for 4 oranges for a total of $12.88\n",
    "Total price:  27.19\n",
    "```"
   ]
  },
  {
   "cell_type": "code",
   "execution_count": 142,
   "metadata": {
    "scrolled": true
   },
   "outputs": [
    {
     "name": "stdout",
     "output_type": "stream",
     "text": [
      "You filled an order for 1 antacid for a total of  $5.33\n",
      "You filled an order for 3 sour bites for a total of  $6.99\n",
      "You filled an order for 1 gummy bears for a total of  $1.99\n",
      "You filled an order for 4 oranges for a total of  $12.88\n",
      "Total price:  27.19\n"
     ]
    }
   ],
   "source": [
    "### [Praba Santhanakrishnan]\n",
    "\n",
    "total = 0\n",
    "\n",
    "def process_order(x_list):\n",
    "    global total\n",
    "    # Enter solution here (note, remove \"pass\" from function)\n",
    "    print(\"You filled an order for \" + str(x_list[len(x_list)-1][1]) + \" \" + x_list[len(x_list)-1][0] + \" for a total of  $\" + str(x_list[len(x_list)-1][1] * x_list[len(x_list)-1][2]))\n",
    "    total = total + x_list[len(x_list)-1][1] * x_list[len(x_list)-1][2]\n",
    "    x_list.pop()\n",
    "    \n",
    "\n",
    "x = [(\"oranges\", 4, 3.22),(\"gummy bears\",1,1.99),(\"sour bites\", 3, 2.33), (\"antacid\", 1, 5.33)]\n",
    "while(len(x)>0):\n",
    "    process_order(x)\n",
    "print(\"Total price: \", total)\n"
   ]
  },
  {
   "cell_type": "markdown",
   "metadata": {},
   "source": [
    "## Part 3 - Functions as Objects\n",
    "\n",
    "### 5-3-1 A Flexible \"Scoring\" Function\n",
    "\n",
    "The following code defines a list of names and also contains a header for the function `best`.  This function should take two arguments: a function, `score`, and a list of strings, `names`.  Fill in the function so that it applies the `score` function to each string in `names` and returns the one with the highest score. If there are ties in the list, your function should return the first item with the maximum score. For this question, make the score function equal to the length of the word.\n",
    "\n",
    "Hint - it may help to define a temporary function that calculates a score as a placeholder while you troubleshoot.\n",
    "\n",
    "Example:\n",
    "```\n",
    "    McJagger has the longest name\n",
    "```"
   ]
  },
  {
   "cell_type": "code",
   "execution_count": 134,
   "metadata": {
    "scrolled": true
   },
   "outputs": [
    {
     "name": "stdout",
     "output_type": "stream",
     "text": [
      "McJagger has the longest name\n"
     ]
    }
   ],
   "source": [
    "### [Praba Santhanakrishnan]\n",
    "\n",
    "def score(item):\n",
    "    try:\n",
    "        return len(item)\n",
    "    except TypeError:\n",
    "         return 'Please pass only string input.'\n",
    "\n",
    "def best(score, names):\n",
    "    try:\n",
    "        x= max({name:score(name) for name in names}.items(), key=lambda k:k[1])[0]\n",
    "    except TypeError:\n",
    "        print('Please pass only string input.')\n",
    "    else:\n",
    "        return x\n",
    "\n",
    "names = [\"Ben\", \"April\", \"Zaber\", \"Alexis\", \"McJagger\", \"J.J.\"]\n",
    "longname = best(score,names)\n",
    "print(longname + ' has the longest name')\n",
    "\n",
    "\n"
   ]
  },
  {
   "cell_type": "markdown",
   "metadata": {},
   "source": [
    "### 5-3-2 Using Our Flexible Function\n",
    "\n",
    "Define a function, `number_of_vowels`, that returns the number of vowels in a string.  Use it with your `best` function to find the name in `names` with the most vowels.\n",
    "\n",
    "Next, pass a `lambda` function into your `best` function to find the name in `names` with the highest number of a's.\n",
    "\n",
    "See how easy it is to change the score function for different functionalities!\n",
    "\n",
    "Example: \n",
    "```\n",
    "Alexis has the most vowels\n",
    "Madonna has the most As\n",
    "```"
   ]
  },
  {
   "cell_type": "code",
   "execution_count": 133,
   "metadata": {},
   "outputs": [
    {
     "name": "stdout",
     "output_type": "stream",
     "text": [
      "aeiou has the most vowels\n",
      "Madonna has the most As\n"
     ]
    }
   ],
   "source": [
    "### [Praba Santhanakrishnan]\n",
    "\n",
    "def number_of_vowels(string):\n",
    "    try:\n",
    "        return sum([1 for x in string if x in ['a','e','i','o','u','A','E','I','O','U']] )\n",
    "    except TypeError:\n",
    "         return 'Please pass only string input.'\n",
    "        \n",
    "\n",
    "names = [\"Ben\", \"April\", \"Zaber\", \"Alexis\", \"McJagger\", \"J.J.\",\"Madonna\",\"aeiou\"]\n",
    "mostvowels = best(number_of_vowels,names)\n",
    "print(mostvowels + ' has the most vowels')\n",
    "        \n",
    "mostAs = best(lambda x:sum([1 for y in x if y in ['a','A']]),names)\n",
    "print(mostAs + ' has the most As')\n",
    "    "
   ]
  },
  {
   "cell_type": "markdown",
   "metadata": {},
   "source": [
    "## Part 4 - Recursion Basics\n",
    "\n",
    "### 5-4-1 Computing Fibonacci Numbers\n",
    "\n",
    "You are probably familiar (from two homework ago!) with the famous Fibonacci sequence of numbers, which begins like this:\n",
    "```\n",
    "1, 1, 2, 3, 5, 8, 13, 21...\n",
    "```\n",
    "We'll index from 0, so the 0th and 1st numbers are both 1.  The 2nd Fibonacci number is found by summing the 0th and 1st: 1 + 1 = 2.  The 3rd is found by summing the 1st and 2nd: 1 + 2 = 3.  After this point, each Fibonacci number is found by summing the previous 2.\n",
    "\n",
    "You are to write a recursive function to compute the nth Fibonacci number.  This means that your function will call itself and will **NOT** include explicit loops.\n",
    "\n",
    "Hint: Your function should include a line that looks a lot like the mathematical definition of the nth Fibonacci number.\n",
    "\n",
    "Another Hint: It's possible for a recursive function to call itself more than once.\n",
    "\n",
    "Once you are done, think about whether your function is efficient.  Compare it to a non-recursive implementation (from homework 3)."
   ]
  },
  {
   "cell_type": "code",
   "execution_count": 132,
   "metadata": {},
   "outputs": [
    {
     "name": "stdout",
     "output_type": "stream",
     "text": [
      "[1, 1, 2, 3, 5, 8, 13, 21, 34, 55]\n"
     ]
    }
   ],
   "source": [
    "### [Praba Santhanakrishnan]\n",
    "\n",
    "def Fibonacci(n):\n",
    "    try:\n",
    "        int(n)\n",
    "    except TypeError:\n",
    "        print('Please enter integer value. ')\n",
    "    else:\n",
    "        if n < 2:\n",
    "            return 1\n",
    "        else:\n",
    "            return Fibonacci(n-1) + Fibonacci(n-2)\n",
    "\n",
    "print([Fibonacci(i) for i in range(10)])\n",
    "\n",
    "\n",
    "    \n",
    "    \n"
   ]
  },
  {
   "cell_type": "markdown",
   "metadata": {},
   "source": [
    "## Part 5 - Exceptions Exercises\n",
    "\n",
    "### 5-5-1 Refactoring for Exceptions\n",
    "Refactor this code that attempts to compute a reciprocal so that it keeps prompting the user for a number repeatedly until the user successfully enters a valid number.  If the user enters 0, the program should print that zero does not have a reciprocal, then terminate."
   ]
  },
  {
   "cell_type": "code",
   "execution_count": 130,
   "metadata": {
    "scrolled": true
   },
   "outputs": [
    {
     "name": "stdout",
     "output_type": "stream",
     "text": [
      "Enter a number: 2\n",
      "The reciprocal of your number is 0.5\n"
     ]
    }
   ],
   "source": [
    "### [Praba Santhanakrishnan]\n",
    "\n",
    "while True:\n",
    "    try:\n",
    "        x = float(input(\"Enter a number: \"))\n",
    "        print(\"The reciprocal of your number is\", 1/x)\n",
    "        break\n",
    "    except ValueError:\n",
    "        print(\"You did not enter a valid number.\")\n",
    "        continue\n",
    "    except ZeroDivisionError:\n",
    "        print(\"Zero does not have a reciprocal\")\n",
    "        continue\n",
    "    except:\n",
    "        print(\"something else went wrong.\")\n",
    "        continue"
   ]
  },
  {
   "cell_type": "markdown",
   "metadata": {},
   "source": [
    "### 5-5-2 Raising Custom Exceptions\n",
    "\n",
    "Write a function that takes a list of grades and a corresponding list of percentages and returns the weighted average of the grades.  Your function should raise an exception if a percentage is less than 0 or greater than 100, and a different exception if the weights do not add to 100 points.\n",
    "\n",
    "Run your function on `grades1` with `weights1` and `grades2` with `weights2` and `grades3` with `weights3` and `grades4` with `weights4`, defined below.  Catch the errors generated in each case and print a useful message for the user.\n",
    "\n",
    "Example:\n",
    "```\n",
    "weighted_avg(grades4, weights4) -> % List: [0.22, 0.495, 0.15, 0.07]\n",
    "                                   Your weighted grade is: 93.5\n",
    "```"
   ]
  },
  {
   "cell_type": "code",
   "execution_count": 129,
   "metadata": {
    "scrolled": true
   },
   "outputs": [
    {
     "name": "stdout",
     "output_type": "stream",
     "text": [
      "Your weighted average is 85.0\n",
      "Input length of grades and weights do not match. \n",
      "Your weighted average is 77.3\n",
      "The total weight % must be 100. \n"
     ]
    }
   ],
   "source": [
    "### [Praba Santhanakrishnan]\n",
    "\n",
    "grades1 = [88,99,100,70]\n",
    "weights1 = [30, 30, 30, 5]\n",
    "\n",
    "grades2 = [78, 75, 80, 99]\n",
    "weights2 = [110, 10, -20, 0]\n",
    "\n",
    "grades3 = [84, 80, 67, 97]\n",
    "weights3 = [50, 25, 25]\n",
    "\n",
    "grades4 = [100, 80, 90, 75]\n",
    "weights4 = [20, 25, 25, 30]\n",
    "\n",
    "\n",
    "\n",
    "\n",
    "\n",
    "def weighted_avg(grades,weights):\n",
    "    \n",
    "    try:\n",
    "        \n",
    "        if sum(weights) != 100:\n",
    "            raise Exception(\"The total weight % must be 100. \")\n",
    "        if len(grades) != len(weights):\n",
    "            raise Exception(\"Input length of grades and weights do not match. \")\n",
    "        if sum([1 for g in grades if g<0 or g>100]) > 0:\n",
    "            raise Exception(\"Grades % must be between 0 and 100. \")\n",
    "    except Exception as e:\n",
    "        print(e)\n",
    "    else:\n",
    "\n",
    "        print('Your weighted average is ' + str(sum([grades[i]*weights[i]/100 for i in range(len(weights))])))\n",
    "              \n",
    "       \n",
    "    \n",
    "    \n",
    "    \n",
    "weighted_avg(grades4, weights4)\n",
    "\n",
    "weighted_avg(grades3, weights3)\n",
    "\n",
    "weighted_avg(grades2, weights2)\n",
    "\n",
    "weighted_avg(grades1, weights1)\n",
    "\n",
    "\n",
    "\n",
    "\n"
   ]
  }
 ],
 "metadata": {
  "anaconda-cloud": {},
  "kernelspec": {
   "display_name": "Python 3",
   "language": "python",
   "name": "python3"
  },
  "language_info": {
   "codemirror_mode": {
    "name": "ipython",
    "version": 3
   },
   "file_extension": ".py",
   "mimetype": "text/x-python",
   "name": "python",
   "nbconvert_exporter": "python",
   "pygments_lexer": "ipython3",
   "version": "3.6.3"
  }
 },
 "nbformat": 4,
 "nbformat_minor": 1
}
