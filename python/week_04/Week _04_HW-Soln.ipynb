{
 "cells": [
  {
   "cell_type": "markdown",
   "metadata": {},
   "source": [
    "# Week 4 Solutions - W200 MIDS Python\n"
   ]
  },
  {
   "cell_type": "markdown",
   "metadata": {},
   "source": [
    "### Part 1 - Loops"
   ]
  },
  {
   "cell_type": "markdown",
   "metadata": {},
   "source": [
    "### 4-1-1. For Loops"
   ]
  },
  {
   "cell_type": "code",
   "execution_count": 22,
   "metadata": {},
   "outputs": [
    {
     "name": "stdout",
     "output_type": "stream",
     "text": [
      "Enter one word: Home\n",
      "Enter another word: meter\n",
      "Letters in common: em"
     ]
    }
   ],
   "source": [
    "word1 = input(\"Enter one word: \")\n",
    "word2 = input(\"Enter another word: \")\n",
    "str=''\n",
    "result=[]\n",
    "[result.append(i) for i in word1 if i in word2 and i not in result]\n",
    "result.sort()\n",
    "\n",
    "print(\"Letters in common: \",end='')\n",
    "for i in result:\n",
    "    print(i,end='')\n",
    "\n"
   ]
  },
  {
   "cell_type": "markdown",
   "metadata": {
    "collapsed": true
   },
   "source": [
    "### 4-1-2. A Game of Chess"
   ]
  },
  {
   "cell_type": "code",
   "execution_count": null,
   "metadata": {
    "collapsed": true
   },
   "outputs": [],
   "source": [
    "## Pseudo Code :\n",
    "\n",
    "## We will create a matrix structure \"board\" with the list of lists , default all elements to 0\n",
    "## The structure will look like [[0,0,0],[0,0,0],[0,0,0]] for board size 3\n",
    "\n",
    "## Initialize the first cell (0,0) to 1 , the pawn starts from this location now\n",
    "\n",
    "## start a for loop for rows and start a inner loop for traversing through each cell\n",
    "\n",
    "## with in the loop if the cell value is greater than 0 , that means the pawn strats from there or traversed from another cell\n",
    "\n",
    "## now calculate the possible path from this cell , for example the two possible cell to go to from here is (i=1,j) and (i+1,j+1)\n",
    "\n",
    "## set the values in those cells to adding the current value of the cell , continue this till for each cell in the matrix (board)\n",
    "\n",
    "\n",
    "## Now it is time to print the matrix using for loop.\n"
   ]
  },
  {
   "cell_type": "code",
   "execution_count": 6,
   "metadata": {},
   "outputs": [
    {
     "name": "stdout",
     "output_type": "stream",
     "text": [
      "Enter a board size: 4\n",
      "\n",
      "\n",
      "1 0 0 0\n",
      "1 1 0 0\n",
      "1 2 1 0\n",
      "1 3 3 1\n"
     ]
    }
   ],
   "source": [
    "# Implementation :\n",
    "\n",
    "while True:\n",
    "    try:\n",
    "        n = int(input(\"Enter a board size: \"))\n",
    "    except:\n",
    "        print('Please enter a number for board size. ')\n",
    "        continue\n",
    "    else:\n",
    "        if n > 0:\n",
    "            board = [[ 0 for i in range(n)] for j in range(n)]\n",
    "\n",
    "            i=0\n",
    "            j=0\n",
    "            board[i][j] = 1\n",
    "\n",
    "            for i in range(n-1):\n",
    "                for j in range(n-1):\n",
    "                    if board[i][j]>0:\n",
    "                        board[i+1][j]= board[i+1][j]+board[i][j]\n",
    "                        board[i+1][j+1]=board[i+1][j+1]+board[i][j]\n",
    "\n",
    "            print('\\n')\n",
    "            for i in range(n):\n",
    "                for j in range(n):\n",
    "                    if j ==n-1:\n",
    "                        print(board[i][j])\n",
    "                    else:\n",
    "                        print(board[i][j],end = ' ')\n",
    "            break\n",
    "        else:\n",
    "            print('Please enter a positive number for board size. ')\n",
    "        continue\n"
   ]
  },
  {
   "cell_type": "markdown",
   "metadata": {
    "collapsed": true
   },
   "source": [
    "##  Part 2 - Algorithms"
   ]
  },
  {
   "cell_type": "markdown",
   "metadata": {
    "collapsed": true
   },
   "source": [
    "### 4-2-1. Fixing the Bisection Search\n"
   ]
  },
  {
   "cell_type": "code",
   "execution_count": 50,
   "metadata": {},
   "outputs": [
    {
     "name": "stdout",
     "output_type": "stream",
     "text": [
      "Enter a number:16\n",
      "low = 0.0 high = 16.0\n",
      "low = 0.0 high = 8.0\n",
      "low = 0.0 high = 4.0\n",
      "low = 2.0 high = 4.0\n",
      "low = 3.0 high = 4.0\n",
      "low = 3.5 high = 4.0\n",
      "low = 3.75 high = 4.0\n",
      "low = 3.875 high = 4.0\n",
      "low = 3.9375 high = 4.0\n",
      "low = 3.96875 high = 4.0\n",
      "low = 3.984375 high = 4.0\n",
      "low = 3.9921875 high = 4.0\n",
      "low = 3.99609375 high = 4.0\n",
      "low = 3.998046875 high = 4.0\n",
      "low = 3.9990234375 high = 4.0\n",
      "low = 3.99951171875 high = 4.0\n",
      "low = 3.999755859375 high = 4.0\n",
      "low = 3.9998779296875 high = 4.0\n",
      "low = 3.99993896484375 high = 4.0\n",
      "low = 3.999969482421875 high = 4.0\n",
      "number of guesses = 20\n",
      "3.9999923706054688 is close to square root of 16.0\n"
     ]
    }
   ],
   "source": [
    "## Bisection Search to Find a Square Root\n",
    "\n",
    "x = float(input(\"Enter a number:\"))\n",
    "epsilon = 0.00001\n",
    "\n",
    "num_guesses = 0\n",
    "if x<1.0:\n",
    "    low = x  # if the number is less than 1 , i.e decimal\n",
    "    high=1.0\n",
    "else:\n",
    "    low = 0.0\n",
    "    high = x\n",
    "ans = (high + low)/2.0\n",
    "while high - low >= 2 * epsilon:\n",
    "    print(\"low =\",low,\"high =\", high)\n",
    "    num_guesses += 1\n",
    "    if ans ** 2 < x:\n",
    "        low = ans\n",
    "    else:\n",
    "        high = ans\n",
    "    ans = (high + low)/2.0\n",
    "print('number of guesses =', num_guesses)\n",
    "print(ans, 'is close to square root of', x)"
   ]
  },
  {
   "cell_type": "markdown",
   "metadata": {},
   "source": [
    "### 4-2-2. Bisection Search Runtime"
   ]
  },
  {
   "cell_type": "code",
   "execution_count": 10,
   "metadata": {
    "collapsed": true
   },
   "outputs": [],
   "source": [
    "# Answer\n",
    "\n",
    "# epsilon*log(n)\n",
    "\n"
   ]
  },
  {
   "cell_type": "markdown",
   "metadata": {},
   "source": [
    "### 4-2-3. Explaining the Bisection Search"
   ]
  },
  {
   "cell_type": "code",
   "execution_count": 11,
   "metadata": {
    "collapsed": true
   },
   "outputs": [],
   "source": [
    "# Answer\n",
    "\n",
    "# Bisection algorithm uses divide and conquer method that speeds up the search. In every loop half the choices (window of search) \n",
    "# are eliminated , the search conducted for the remaining half only. (To the accuracy of 2 * epsilon in this case).\n",
    "\n",
    "# In the brute force algorithm loops through every single number , it takes longer time and more number of loops to find the \n",
    "# answer (square root) especially for the larger input number."
   ]
  },
  {
   "cell_type": "code",
   "execution_count": 12,
   "metadata": {
    "collapsed": true
   },
   "outputs": [],
   "source": [
    "#Answer\n",
    "# The Heron method uses the next guess which is (x/ans + ans)/2 , it is faster than eliminating half of the choices \n",
    "# in every guess in bisection search.\n"
   ]
  },
  {
   "cell_type": "markdown",
   "metadata": {},
   "source": [
    "### 4-2-4. Following Pseudocode for an Algorithm"
   ]
  },
  {
   "cell_type": "code",
   "execution_count": 70,
   "metadata": {},
   "outputs": [
    {
     "name": "stdout",
     "output_type": "stream",
     "text": [
      "Enter a number: 121\n",
      "The square root is 11.0000000000\n"
     ]
    }
   ],
   "source": [
    "# Implementation of digit -by -digit\n",
    "while True:\n",
    "    try:\n",
    "        x = float(input(\"Enter a number: \"))\n",
    "    except:\n",
    "        print(\"Please enter a number. \")\n",
    "        continue\n",
    "    else:\n",
    "        if x > 0:\n",
    "\n",
    "            epsilon = 0.00001\n",
    "            step = 1\n",
    "            guess = 0\n",
    "\n",
    "            while step > epsilon:\n",
    "                while True:\n",
    "                    if guess**2 <=x:\n",
    "                        guess +=step\n",
    "                        continue\n",
    "                    else:\n",
    "                        guess -=step\n",
    "                        step /=10\n",
    "                        break\n",
    "            print('The square root is ' +  \"%.10f\" % guess)\n",
    "            break\n",
    "        else:\n",
    "            print(\"Please enter a positive number. \")\n",
    "            continue"
   ]
  },
  {
   "cell_type": "markdown",
   "metadata": {},
   "source": [
    "## Part 3 - Comprehensions"
   ]
  },
  {
   "cell_type": "markdown",
   "metadata": {},
   "source": [
    "### 4-3. Comprehensions"
   ]
  },
  {
   "cell_type": "markdown",
   "metadata": {},
   "source": [
    "##### 4-3-1: Use a comprehension to make a list of the square numbers below 100 that give a remainder of 1 when divided by 3."
   ]
  },
  {
   "cell_type": "code",
   "execution_count": 15,
   "metadata": {},
   "outputs": [
    {
     "name": "stdout",
     "output_type": "stream",
     "text": [
      "[1, 4, 16, 25, 49, 64]\n"
     ]
    }
   ],
   "source": [
    "print([x**2 for x in range(10) if x**2 % 3==1])"
   ]
  },
  {
   "cell_type": "markdown",
   "metadata": {},
   "source": [
    "##### 4-3-2: A string is defined in the code snippet below. Split it into individual words and use a comprehension to make a list of the first letters of each word in the snippet."
   ]
  },
  {
   "cell_type": "code",
   "execution_count": 16,
   "metadata": {},
   "outputs": [
    {
     "name": "stdout",
     "output_type": "stream",
     "text": [
      "['I', 'l', 'm', 'l', 'a', 'q', 'm', 'a', 'a', 't', 'N', 'e', 'm', 'n', 't', 'm', 'n', 't', 's', 'n', 'm', 't', 'a', 'a', 't', 'b', 'F', 't', 't', 's', 'o', 'l', 'I', 'f']\n"
     ]
    }
   ],
   "source": [
    "text = \"I live my life a quarter mile at a time. \\\n",
    "Nothing else matters: not the mortgage, not the store, \\\n",
    "not my team and all their bullshit. \\\n",
    "For those ten seconds or less, I’m free.\"\n",
    "# the slashes just mean that the string continues onto the next line\n",
    "# if you print the text, it will make no difference\n",
    "\n",
    "print([x[0] for x in text.split()])"
   ]
  },
  {
   "cell_type": "markdown",
   "metadata": {},
   "source": [
    "##### 4-3-3: A Pythagorean triple is a set (x,y,z), with positive integers x≤y≤z such that $x^2+y^2=z^2$. Use a comprehension to make a list of all Pythagorean triples with numbers below 25."
   ]
  },
  {
   "cell_type": "code",
   "execution_count": 17,
   "metadata": {},
   "outputs": [
    {
     "name": "stdout",
     "output_type": "stream",
     "text": [
      "[(3, 4, 5), (5, 12, 13), (6, 8, 10), (8, 15, 17), (9, 12, 15), (12, 16, 20)]\n"
     ]
    }
   ],
   "source": [
    "k=[(x,y,z) for x in range(1,25) for y in range(1,25) for z in range(1,25) if x**2+y**2 == z**2 and x<=y and y<=z ]\n",
    "print(k)"
   ]
  },
  {
   "cell_type": "markdown",
   "metadata": {},
   "source": [
    "##### 4-3-4: Given a word, provided below, use a comprehension to make a list of all strings that can be formed by deleting exactly one character from the word."
   ]
  },
  {
   "cell_type": "code",
   "execution_count": 18,
   "metadata": {},
   "outputs": [
    {
     "name": "stdout",
     "output_type": "stream",
     "text": [
      "['elcomed', 'Wlcomed', 'Wecomed', 'Welomed', 'Welcmed', 'Welcoed', 'Welcomd', 'Welcome']\n"
     ]
    }
   ],
   "source": [
    "word= \"Welcomed\"\n",
    "\n",
    "print([word[:index] + word[(index+1):] for index in range(len(word))])"
   ]
  },
  {
   "cell_type": "markdown",
   "metadata": {},
   "source": [
    "##### 4-3-5: Given a word, provided below, use a comprehension to make a list of all strings that can be formed by replacing exactly one vowel in the word with a different vowel."
   ]
  },
  {
   "cell_type": "code",
   "execution_count": 20,
   "metadata": {},
   "outputs": [
    {
     "name": "stdout",
     "output_type": "stream",
     "text": [
      "['Baoted', 'Beoted', 'Bioted', 'Booted', 'Buoted', 'Boated', 'Boeted', 'Boited', 'Booted', 'Bouted', 'Bootad', 'Booted', 'Bootid', 'Bootod', 'Bootud']\n"
     ]
    }
   ],
   "source": [
    "word=\"Booted\"\n",
    "vowels = ['a','e','i','o','u']\n",
    "\n",
    "print([word[:index] + v + word[index + 1:] for index in range(len(word)) for v in vowels  if word[index] in vowels])"
   ]
  }
 ],
 "metadata": {
  "kernelspec": {
   "display_name": "Python 3",
   "language": "python",
   "name": "python3"
  },
  "language_info": {
   "codemirror_mode": {
    "name": "ipython",
    "version": 3
   },
   "file_extension": ".py",
   "mimetype": "text/x-python",
   "name": "python",
   "nbconvert_exporter": "python",
   "pygments_lexer": "ipython3",
   "version": "3.6.3"
  }
 },
 "nbformat": 4,
 "nbformat_minor": 2
}
