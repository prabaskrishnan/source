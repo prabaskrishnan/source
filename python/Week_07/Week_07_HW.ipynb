{
 "cells": [
  {
   "cell_type": "markdown",
   "metadata": {},
   "source": [
    "## Week 7 Assignment - W18 MIDS Python\n",
    "\n",
    "Assignment due date: 11:59PM PST the night before the Week 8 Live Session."
   ]
  },
  {
   "cell_type": "markdown",
   "metadata": {},
   "source": [
    "## Part 1 - Project Proposal\n",
    "Please complete your project proposal, as discussed in class and outlined in the project_1 folder.  You may submit your 1-2 page proposal in a Google Doc or PDF.  Please store your proposal (or a link to it) in your repo under the project_1 folder.\n",
    "This is worth 10 points of your **project** grade (not the grade for this homework)."
   ]
  },
  {
   "cell_type": "markdown",
   "metadata": {},
   "source": [
    "## Part 2 - A Quick Reading\n",
    "\n",
    "Please read the following article and write a couple sentences of reaction. What is the most interesting part?\n",
    "\n",
    "<a href=\"http://programmingisterrible.com/post/139222674273/write-code-that-is-easy-to-delete-not-easy-to\">Write code that is easy to delete, not easy to extend</a> This article is to explain an \"architectural\" perspective towards thinking about writing in large code bases. This might not really apply to the work that you are doing now but should provide some food for thought on upcoming projects. Think about the author's perspective and why he seems to have come to it. Please don't worry about knowing all the terminology or programs/systems that he refers to. I want you to extract what he's trying to say about writing code rather than the intricacies of the low-level systems that is referring to.\n"
   ]
  },
  {
   "cell_type": "markdown",
   "metadata": {},
   "source": [
    "**[Write Response Here]**\n",
    "\n",
    "I think this is a very intersting article on using common sense while writing the better manageable , maintainable code. It highlights the fine line on when to reuse vs when to write your own , when to modularize vs when to write big monoliths etc. People spend more time and effort on reengineering code than writing new most of the times , if the code is concise and clear , it makes the job easier for investigation when things go wrong. The best advice or takeaway is \"Becoming a professional software developer is accumulating a back-catalogue of regrets and mistakes. You learn nothing from success. It is not that you know what good code looks like, but the scars of bad code are fresh in your mind.\"\n"
   ]
  },
  {
   "cell_type": "markdown",
   "metadata": {},
   "source": [
    "#                               Please do 2 out of the 3 parts below.  \n",
    "#                        That is, please do two parts of Parts 3, 4 & 5."
   ]
  },
  {
   "cell_type": "markdown",
   "metadata": {},
   "source": [
    "## Part 3 - Building Two Classes\n",
    "\n",
    "Please design two classes in this notebook as follows:\n",
    "\n",
    "1\\. Please create a class called **playing_card**. This class should have: <br>\n",
    "- An attribute, \"rank\" that takes a value of 2-10, J, Q, K, or A. <br>\n",
    "- An attribute, \"suit\" that takes a value of \"♠\" \"♥\" \"♦\" or \"♣\". <br>\n",
    "- An __init__ function "
   ]
  },
  {
   "cell_type": "markdown",
   "metadata": {},
   "source": [
    "2\\. Please create a class called **deck**.  This class should have: <br>\n",
    "- An attribute, \"cards\", that holds a list of playing_card objects. <br>\n",
    "- An __init__ function that: <br>\n",
    "    - By default stores a full deck of 52 playing cards (with proper numbers and suits) in the \"cards\" list. <br>\n",
    "    - Allows the user to specify a specific suit.  In this case, the program should only populate the deck with the 13 cards of that suit.\n",
    "    - After the cards object is initialized, call the \"shuffle_deck()\" function (below).<br>\n",
    "    \n",
    "- A \"shuffle_deck()\" function that randomly changes the order of cards in the deck.<br>\n",
    "- A \"deal_card(card_count)\" function that removes the first X cards from the deck and returns them as a list.<br>\n",
    "    - Make sure this function gives an appropriate response when the deck is out of cards."
   ]
  },
  {
   "cell_type": "markdown",
   "metadata": {},
   "source": [
    "3\\. Please write a few lines of code in this notebook to demonstrate that the functions work as expected."
   ]
  },
  {
   "cell_type": "code",
   "execution_count": 148,
   "metadata": {},
   "outputs": [
    {
     "name": "stdout",
     "output_type": "stream",
     "text": [
      "(5, '♠') (2, '♠') (6, '♠') ('Q', '♠') ('K', '♠') (10, '♠') ('J', '♠') (3, '♠') ('A', '♠') (7, '♠') (9, '♠') (8, '♠') (4, '♠') \n",
      "Dealing 4 cards now.......\n",
      "[(4, '♠'), (8, '♠'), (9, '♠'), (7, '♠')]\n"
     ]
    }
   ],
   "source": [
    "## Praba Santhanakrishnan ##\n",
    "\n",
    "import random\n",
    "\n",
    "class playing_card:\n",
    "\n",
    "    \"\"\" Playing Card class , it has rank and suit attributes. rank accepts the values of 2-10, 'J','Q','K','A' and suit \n",
    "        accepts only \"♠\" ,\"♥\" ,\"♦\", \"♣\" \"\"\"\n",
    "    \n",
    "    # Initialize the rank and suit attributes , defaults to 'A' , \"♠\" if values are not provided.\n",
    "    \n",
    "    def __init__(self, rank = 'A' , suit = \"♠\"):\n",
    "        \n",
    "        try:\n",
    "            self.rank = rank\n",
    "            self.suit = suit\n",
    "        except ValueError as e:\n",
    "            print(e)\n",
    "            \n",
    "    # rank property set , get methods\n",
    "    @property\n",
    "    def rank(self):\n",
    "        return self.__rank\n",
    "    \n",
    "    @rank.setter\n",
    "    def rank(self,rank):\n",
    "        if rank in [2,3,4,5,6,7,8,9,10,'J','Q','K','A']:\n",
    "            self.__rank = rank\n",
    "        else:\n",
    "            raise Exception('Rank value: ' + str(rank) + ' not permitted.') \n",
    "            \n",
    "    # suit property set , get methods\n",
    "    @property\n",
    "    def suit(self):\n",
    "        return self.__suit\n",
    "    \n",
    "    @suit.setter\n",
    "    def suit(self,suit):\n",
    "        if suit in [\"♠\" ,\"♥\" ,\"♦\", \"♣\"]:\n",
    "            self.__suit = suit\n",
    "        else:\n",
    "            raise Exception('Suit value: ' + str(suit) + ' not permitted.') \n",
    "                 \n",
    "\n",
    "                \n",
    "                \n",
    "class deck:\n",
    "    \n",
    "    \"\"\" deck class , it has cards object as attribute. By default it creates all the cards in the deck , if a suit is provided\n",
    "        it creates only 13 cards object with the given suit \"\"\"\n",
    "    \n",
    "    def __init__(self, suit=None):\n",
    "        if suit is None:\n",
    "            \n",
    "            self.cards = [playing_card(rank,suit) for rank in [2,3,4,5,6,7,8,9,10,'J','Q','K','A'] for suit in [\"♠\" ,\"♥\" ,\"♦\", \"♣\"]]\n",
    "        else:\n",
    "            self.cards = [playing_card(rank,suit) for rank in [2,3,4,5,6,7,8,9,10,'J','Q','K','A']]\n",
    "          \n",
    "        \n",
    "    @property\n",
    "    def cards(self):\n",
    "        return self.__cards\n",
    "    \n",
    "    @cards.setter\n",
    "    def cards(self,cards):\n",
    "        self.__cards = cards\n",
    "        \n",
    "    def shuffle_deck(self):\n",
    "        random.shuffle(self.cards)\n",
    "        \n",
    "    def deal_cards(self,count):\n",
    "        d_cards = []\n",
    "        for i in range(count):\n",
    "            if len(self.cards) > 0:\n",
    "                x = self.cards.pop()\n",
    "                d_cards.append((x.rank,x.suit))\n",
    "            else:\n",
    "                raise Exception(\"Deck is empty.\")\n",
    "        return d_cards\n",
    "    \n",
    "            \n",
    "        \n",
    "        \n",
    "d1 = deck('♠')\n",
    "d1.shuffle_deck()\n",
    "for c in d1.cards:\n",
    "    print((c.rank,c.suit),end = ' ')\n",
    "print('\\nDealing 4 cards now.......')\n",
    "deal = d1.deal_cards(4)\n",
    "print(deal)\n"
   ]
  },
  {
   "cell_type": "markdown",
   "metadata": {},
   "source": [
    "## Part 4 - Galton's Box\n",
    "\n",
    "The following figure depicts Galton's box, a game in which marbles are dropped through N rows of pins.  In row 0, there is one position a marble can be in (labeled 0), in row 1, there are two positions (labeled 0 and 1), and so forth.  Each time the marble bounces from one row to the next, there is a 50% probability it bounces left and a 50% probability it bounces right.\n",
    "\n",
    "<img src=\"Galton_Box.png\">\n",
    "<img src=\"Galton2.jpg\">\n",
    "\n",
    "Notice that if a marble is in position x of row y, and it bounces left, it ends up in position x of row y+1.  If it bounces right, it ends up in position x+1.\n",
    "\n",
    "Create a class, **Marble**, to represent a single Marble that will drop through Galton's Box.  You should include attributes to represent the position of the marble.  Additionally, your \\_\\_init\\_\\_ method should accept a one-character label for use when printing the Marble.\n",
    "\n",
    "Next, create a class, **GaltonBox**, to represent the overall setup.  You should include the following methods:\n",
    "\n",
    "- \\_\\_init\\_\\_ - Your initializer should accept the size of the box, N.\n",
    "- insert\\_marble - This method should accept a Marble instance and sets its position to position 0, row 0.\n",
    "- time\\_step - This method should cause all Marbles in Galton's box to bounce to the next row, dropping left or right with equal probability.  When a marble reaches row N-1 at the bottom of the box, it should not move any more.  Note that you should simply allow marbles to occupy the same position (instead of working out a system to prevent a Marble from entering a position if another Marble is already there).\n",
    "- \\_\\_str\\_\\_ and \\_\\_repr\\_\\_ - Include methods to display the Marbles currently in the box.  To keep things simple, if there are multiple Marbles in a given position, you only have to display one of the labels.\n",
    "\n",
    "Your classes should mimic the following behavior (except that the horizontal positions are random):\n",
    "\n",
    "```\n",
    ">>> m1 = Marble(\"x\")\n",
    ">>> m2 = Marble(\"o\")\n",
    ">>> box = GaltonBox(3)\n",
    ">>> box.insert_marble(m1)\n",
    ">>> box\n",
    "x\n",
    "--\n",
    "---\n",
    ">>> box.time_step()\n",
    ">>> box\n",
    "-\n",
    "-x\n",
    "---\n",
    ">>> box.insert_marble(m2)\n",
    ">>> box\n",
    "o\n",
    "-x\n",
    "---\n",
    ">>> box.time_step()\n",
    ">>> box\n",
    "-\n",
    "o-\n",
    "-x-\n",
    ">>> box.time_step()\n",
    ">>> box\n",
    "-\n",
    "--\n",
    "ox-\n",
    "```\n",
    "\n"
   ]
  },
  {
   "cell_type": "code",
   "execution_count": 153,
   "metadata": {},
   "outputs": [
    {
     "data": {
      "text/plain": [
       "-\n",
       "w-\n",
       "o--\n",
       "x---\n",
       "-----"
      ]
     },
     "execution_count": 153,
     "metadata": {},
     "output_type": "execute_result"
    }
   ],
   "source": [
    "## Praba Santhanakrishnan ## \n",
    "\n",
    "import random\n",
    "\n",
    "class Marble:\n",
    "    \"\"\" Class for each Marble , which has a label \"\"\"\n",
    "    \n",
    "    def __init__(self,label):\n",
    "        self.label = label\n",
    "        \n",
    "    @property\n",
    "    def label(self):\n",
    "        return self.__label\n",
    "    \n",
    "    @label.setter\n",
    "    def label(self,label):\n",
    "        self.__label = label\n",
    "    \n",
    "    @property\n",
    "    def position(self):\n",
    "        return self.__position\n",
    "    \n",
    "    @position.setter\n",
    "    def position(self,position):\n",
    "        self.__position = position\n",
    "    \n",
    "    \n",
    "    @property\n",
    "    def row(self):\n",
    "        return self.__row\n",
    "    \n",
    "    @row.setter\n",
    "    def row(self,row):\n",
    "        self.__row = row\n",
    "        \n",
    "\n",
    "class GaltonBox:\n",
    "    \n",
    "    \"\"\" Class for the GaltonBox , takes the size as input and allows marbles to be inserted. \"\"\"\n",
    "    \n",
    "    def __init__(self,size):\n",
    "        self.size = size\n",
    "        self.marbles = []\n",
    "        \n",
    "        \n",
    "        \n",
    "    @property\n",
    "    def size(self):\n",
    "        return self.__size\n",
    "    \n",
    "    @size.setter\n",
    "    def size(self,size):\n",
    "        try:\n",
    "            size = int(size)\n",
    "        except:\n",
    "            raise Exception('Plese enter valid Size. ')\n",
    "        else:\n",
    "            if size < 1:\n",
    "                raise Exception('Please enter valid Size. ')\n",
    "            else:\n",
    "                self.__size = size   \n",
    "                \n",
    "                \n",
    "    # Method to insert the marbles into the Box\n",
    "    \n",
    "    def insert_marble(self,marble):\n",
    "        marble.position = 0\n",
    "        marble.row = 0\n",
    "        self.marbles.append(marble)\n",
    "        \n",
    "    # Advances each marble to the next row , position can be either left or right in the next row\n",
    "    \n",
    "    def time_step(self):\n",
    "        for m in self.marbles:\n",
    "            if m.row < self.size:\n",
    "                m.row = m.row+1\n",
    "                if random.randint(0,1) == 1:\n",
    "                    m.position +=1\n",
    "                    \n",
    "    # Returns the structure of the positions of each marble in the box\n",
    "    def __repr__(self):\n",
    "        \n",
    "        grid = {(m.row,m.position):m.label for m in self.marbles}\n",
    "        output=''\n",
    "        for i in range(0,self.size):\n",
    "            for j in range(i+1):\n",
    "                if (i,j) in grid:\n",
    "                    output += str(grid[(i,j)])\n",
    "                else:\n",
    "                    output += '-'\n",
    "            output += '\\n'\n",
    "        return output\n",
    "        \n",
    "    \n",
    "m1 = Marble(\"x\")\n",
    "m2 = Marble(\"o\")\n",
    "m3 = Marble(\"w\")\n",
    "\n",
    "box = GaltonBox(5)\n",
    "\n",
    "box.insert_marble(m1)\n",
    "\n",
    "box.time_step()\n",
    "\n",
    "box.insert_marble(m2)\n",
    "\n",
    "box.time_step()\n",
    "\n",
    "box.insert_marble(m3)\n",
    "\n",
    "box.time_step()\n",
    "\n",
    "box\n",
    "\n",
    "\n",
    "\n",
    "            \n",
    "    \n",
    "    "
   ]
  },
  {
   "cell_type": "markdown",
   "metadata": {},
   "source": [
    "**Bonus Investigation:** (Extra Credit: 2 points) Once your code is working, write a script to create a box with 20 rows, insert a few dozen Marbles, and repeatedly call time_step() until all Marbles are at the bottom.  Now adapt the following code to display a histogram of the final Marble positions.  What does the shape of the distribution look like?"
   ]
  },
  {
   "cell_type": "code",
   "execution_count": 147,
   "metadata": {
    "collapsed": true
   },
   "outputs": [],
   "source": [
    "box = GaltonBox(20)"
   ]
  },
  {
   "cell_type": "code",
   "execution_count": 145,
   "metadata": {},
   "outputs": [
    {
     "data": {
      "text/plain": [
       "(array([ 1.,  2.,  3.,  2.,  0.,  1.]),\n",
       " array([ 0.5,  1.5,  2.5,  3.5,  4.5,  5.5,  6.5]),\n",
       " <a list of 6 Patch objects>)"
      ]
     },
     "execution_count": 145,
     "metadata": {},
     "output_type": "execute_result"
    },
    {
     "data": {
      "image/png": "[encoded data removed]",
      "text/plain": [
       "<matplotlib.figure.Figure at 0x21a20175fd0>"
      ]
     },
     "metadata": {},
     "output_type": "display_data"
    }
   ],
   "source": [
    "%matplotlib inline\n",
    "import matplotlib.pyplot as plt\n",
    "import numpy as np\n",
    "\n",
    "x_positions = (2,3,4,6,7,4,3,2,3,1)\n",
    "cutoffs = np.arange(min(x_positions) - .5, max(x_positions)+.5)\n",
    "plt.hist(x_positions, bins = cutoffs)"
   ]
  },
  {
   "cell_type": "markdown",
   "metadata": {},
   "source": [
    "If you have taken a statistics course, you may recognize that the final position of each Marble follows a Binomial distribution.  Specifically, it is a Binomial distribution with parameters N and 0.5.  As you let N grow larger and larger, the Binomial distribution will approach the famous Normal distribution that you will see over and over in parametric statistics.  This is a consequence of an extremely important result known as the Central Limit Theorem."
   ]
  },
  {
   "cell_type": "markdown",
   "metadata": {},
   "source": [
    "## Part 5 - Sorting Marbles\n",
    "\n",
    "In a particular board game, there are N spaces in a row, numbered 0 through N - 1 from left to right. There are also N marbles, numbered 0 through N - 1, initially placed in some arbitrary order. After that, there are two moves available:\n",
    "\n",
    "- Switch: Switch the marbles in positions 0 and 1.\n",
    "- Rotate: Move the marble in position 0 to position N - 1, and move all other marbles one space to the left (one index lower).\n",
    "The objective is to arrange the marbles in order, with each marble i in position i.\n",
    "\n",
    "a. Write a class, MarblesBoard, to represent the game above. The class should be initialized with a particular sequence of Marbles.  Write an \\_\\_init\\_\\_ function that takes a starting sequence of marbles (the number of each marble listed in the positions from 0 to N - 1).\n",
    "Next, write switch() and rotate() methods to simulate the player's moves. Write a method, is_solved(), that returns True if the marbles are in the correct order.\n",
    "\n",
    "Additionally, you may want to write \\_\\_str\\_\\_ and \\_\\_repr\\_\\_ methods that display the current state of the board. Your class should behave like the following example.\n",
    "```\n",
    ">>> board = MarblesBoard((3,6,7,4,1,0,8,2,5)) \n",
    ">>> board \n",
    "3 6 7 4 1 0 8 2 5 \n",
    ">>> board.switch() \n",
    ">>> board \n",
    "6 3 7 4 1 0 8 2 5 \n",
    ">>> board.rotate() \n",
    ">>> board \n",
    "3 7 4 1 0 8 2 5 6 \n",
    ">>> board.switch() \n",
    ">>> board \n",
    "7 3 4 1 0 8 2 5 6\n",
    "```\n",
    "\n",
    "b. Write a second class, Solver, that actually plays the MarblesGame. You class should take a MarblesBoard in its initializer. Write a solve() method that repeatedly calls the switch() and rotate() methods of the given MarblesBoard until the game is solved.  You should print the state of the board after each move.  Additionally, print out the total number of moves at the end.\n",
    "\n",
    "You are to come up with your own algorithm for solving the marbles game.  Before you write your solve() method, you may want to practice solving some small versions of the marbles game yourself.  Here is an example of using a Solver.\n",
    "\n",
    "```\n",
    ">>> board2 = MarblesBoard((1,3,0,2))\n",
    ">>> solver = Solver(board2)\n",
    ">>> solver.solve()\n",
    "1 3 0 2 \n",
    "3 0 2 1 \n",
    "0 2 1 3 \n",
    "2 1 3 0 \n",
    "1 2 3 0 \n",
    "2 3 0 1 \n",
    "3 0 1 2 \n",
    "0 1 2 3 \n",
    "total steps: 7\n",
    "```\n",
    "\n",
    "Your Solver does not that to follow the fastest possible running time, but you should strive to make it reasonably efficient.  When you are done, compute the (tightest) big-O running time bound for your script.  \n",
    "\n",
    "You may be interested to know that your program is a variation of a well-known sorting algorithm called bubble sort.  Bubble sort would normally be used on a list of items, not on a rotating track, but adapting your algorithm to this setting would be easy."
   ]
  },
  {
   "cell_type": "code",
   "execution_count": null,
   "metadata": {
    "collapsed": true
   },
   "outputs": [],
   "source": [
    "## YOUR NAME HERE ## "
   ]
  },
  {
   "cell_type": "markdown",
   "metadata": {},
   "source": [
    "Below, explain what the big-O running time of your algorithm is."
   ]
  },
  {
   "cell_type": "markdown",
   "metadata": {},
   "source": [
    "**Your response here**"
   ]
  }
 ],
 "metadata": {
  "kernelspec": {
   "display_name": "Python 3",
   "language": "python",
   "name": "python3"
  },
  "language_info": {
   "codemirror_mode": {
    "name": "ipython",
    "version": 3
   },
   "file_extension": ".py",
   "mimetype": "text/x-python",
   "name": "python",
   "nbconvert_exporter": "python",
   "pygments_lexer": "ipython3",
   "version": "3.6.3"
  },
  "widgets": {
   "state": {},
   "version": "1.1.2"
  }
 },
 "nbformat": 4,
 "nbformat_minor": 1
}
