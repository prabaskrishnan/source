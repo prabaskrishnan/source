{
 "cells": [
  {
   "cell_type": "code",
   "execution_count": 4,
   "metadata": {},
   "outputs": [
    {
     "name": "stdout",
     "output_type": "stream",
     "text": [
      "Enter your name: Paul Laskowski\n",
      "Aulpay Askowskilay \n"
     ]
    }
   ],
   "source": [
    "# 3-1. Pig Latin Translator\n",
    "\n",
    "while True:\n",
    "    stringName = input(\"Enter your name: \").lower()\n",
    "    listName = stringName.split()\n",
    "    if len(listName) > 3 or len(listName) ==0:\n",
    "        print(\"Please enter up to three names.\")\n",
    "        continue\n",
    "    else:\n",
    "        break\n",
    "stringPLatin = \"\"\n",
    "while len(listName) > 0:\n",
    "    stringTemp = listName.pop()\n",
    "    stringTemp = stringTemp[1].upper()+ stringTemp[2:]+ stringTemp[0].lower() + \"ay\"\n",
    "    stringPLatin = stringTemp  +\" \"+stringPLatin\n",
    "\n",
    "print(stringPLatin)\n",
    "    \n",
    "    \n",
    "    \n",
    "    "
   ]
  },
  {
   "cell_type": "code",
   "execution_count": 6,
   "metadata": {},
   "outputs": [
    {
     "name": "stdout",
     "output_type": "stream",
     "text": [
      "Please enter the values of a,b,c & d: 1 2 3 4\n",
      "matrix:  ((1.0, 2.0), (3.0, 4.0))\n",
      "inverse:  ((-2.0, 1.0), (1.5, -0.5))\n"
     ]
    }
   ],
   "source": [
    "# 3-2. Matrix Inverter\n",
    "\n",
    "while True:\n",
    "    try:\n",
    "        elements = input(\"Please enter the values of a,b,c & d: \")\n",
    "        telements = tuple(map(float,elements.split()))\n",
    "        \n",
    "    except:\n",
    "        print(\"Please enter the vaule properly in the format of a b c d: \")\n",
    "        continue\n",
    "\n",
    "    else:\n",
    "        if len(telements) < 4:\n",
    "            print(\"Please enter 4 values. \")\n",
    "            continue\n",
    "\n",
    "            \n",
    "        else:\n",
    "            tmatrix = (telements[0:2],telements[2:4])\n",
    "            tinverse = ((telements[3],telements[1]*-1),(telements[2]*-1,telements[0])) \n",
    "            intmult = 1 / (telements[0]*telements[3]-telements[1]*telements[2])\n",
    "            tinverse = (tuple([intmult*i for i in tinverse[0]]) , tuple([intmult*i for i in tinverse[1]]))\n",
    "            print(\"matrix: \",tmatrix)\n",
    "            print (\"inverse: \",tinverse)\n",
    "            break\n",
    "\n",
    "\n",
    "\n",
    "\n",
    "    "
   ]
  },
  {
   "cell_type": "code",
   "execution_count": 7,
   "metadata": {},
   "outputs": [
    {
     "name": "stdout",
     "output_type": "stream",
     "text": [
      "What would you like to do? add\n",
      "What Day? Friday\n",
      "What would you like to add to friday's to-do list? practice clarinet\n",
      "Item added. \n",
      "What would you like to do? get\n",
      "What Day? Friday\n",
      "You have to practice clarinet.\n",
      "What would you like to do? quit\n",
      "Ending program. Thank you for using the to-do list!\n"
     ]
    }
   ],
   "source": [
    "# 3-2. To-do list\n",
    "dictToDo = {}\n",
    "while True:\n",
    "    stringAction = input(\"What would you like to do? \").lower()\n",
    "    if stringAction not in [\"add\",\"quit\",\"get\",\"a\",\"q\",\"g\"]:\n",
    "        print(\"Please enter either (a)dd , (g)et or (q)uit.\")\n",
    "        continue\n",
    "    if stringAction == \"quit\" or stringAction == \"q\":\n",
    "        # quit\n",
    "        print(\"Ending program. Thank you for using the to-do list!\")\n",
    "        break\n",
    "    while True:\n",
    "        stringDay = input(\"What Day? \").lower()\n",
    "        if stringDay not in [\"sunday\",\"monday\",\"tuesday\",\"wednesday\",\"thursday\",\"friday\",\"saturday\"]:\n",
    "            print(\"Please enter either Sunday, Monday, Tuesday, Wednesday, Thursday, Friday or Saturday.\")\n",
    "            continue\n",
    "        else:\n",
    "            break\n",
    "        \n",
    "    \n",
    "    \n",
    "    if stringAction == \"add\" or stringAction == \"a\":\n",
    "    \n",
    "        stringItem = input(\"What would you like to add to \"+ stringDay +\"'s to-do list? \")\n",
    "        # add to dict\n",
    "        if stringDay in dictToDo:\n",
    "            dictToDo[stringDay].append(stringItem) \n",
    "        else:\n",
    "            dictToDo[stringDay] = [stringItem]\n",
    "        print(\"Item added. \")\n",
    "    elif stringAction ==\"get\" or stringAction == \"g\":\n",
    "        # get from dict\n",
    "        if stringDay in dictToDo: \n",
    "            if len(dictToDo[stringDay]) == 1:\n",
    "                stringList = \"You have to \" + dictToDo[stringDay][0] +\".\"\n",
    "            else:\n",
    "                stringList = \"You have to \" \n",
    "                for item in dictToDo[stringDay]:\n",
    "                    stringList = stringList + item + \",\"\n",
    "                stringList = stringList[:len(stringList)-1] + \".\"    \n",
    "        else:\n",
    "            stringList = \"Nothing to show.\"\n",
    "                \n",
    "        print(stringList)\n",
    "        continue\n",
    "   \n",
    "\n",
    "    "
   ]
  },
  {
   "cell_type": "code",
   "execution_count": 8,
   "metadata": {},
   "outputs": [
    {
     "name": "stdout",
     "output_type": "stream",
     "text": [
      "Enter a number: 15\n",
      "1 1 2 3 5 8 13 "
     ]
    }
   ],
   "source": [
    "# 3-4 Fibnocci Series\n",
    "\n",
    "while True:\n",
    "    try:\n",
    "        n = int(input(\"Enter a number: \"))\n",
    "    except:\n",
    "        print(\"Please enter a number. \")\n",
    "        continue\n",
    "\n",
    "    else:\n",
    "        if n>0:\n",
    "            fib1 = 0\n",
    "            fib2 = 1\n",
    "            print(fib2,end = ' ')\n",
    "\n",
    "            fib = fib1 + fib2\n",
    "            while fib <= n:\n",
    "                print(fib,end = ' ')\n",
    "                fib1 = fib2\n",
    "                fib2 = fib\n",
    "                fib = fib1 + fib2\n",
    "        else:\n",
    "            print(\"Enter a positive number: \")\n",
    "            continue\n",
    "        break"
   ]
  },
  {
   "cell_type": "code",
   "execution_count": 9,
   "metadata": {},
   "outputs": [
    {
     "name": "stdout",
     "output_type": "stream",
     "text": [
      "Enter a row number: 4\n",
      "1 3 3 1 "
     ]
    }
   ],
   "source": [
    "# 3-5 Pascal's Triangle\n",
    "\n",
    "while True:\n",
    "    try:\n",
    "        n = int(input(\"Enter a row number: \"))\n",
    "    except:\n",
    "        print(\"Please enter a valid row number. \")\n",
    "        continue\n",
    "\n",
    "    else:\n",
    "        if n > 0:\n",
    "            x= [[1],[1,1]]\n",
    "\n",
    "            count = 2\n",
    "            while count < n:\n",
    "                listTemp=[1]\n",
    "                count2=0\n",
    "                while count2 <= len(x[count-1])-2:\n",
    "                    listTemp.append(x[count-1][count2]+x[count-1][count2+1])\n",
    "                    count2+=1\n",
    "\n",
    "                listTemp.append(1)\n",
    "                x.append(listTemp)\n",
    "\n",
    "                count+=1\n",
    "\n",
    "            for item in x[n-1]:\n",
    "                print(item,end = ' ') \n",
    "            \n",
    "            break\n",
    "        else:\n",
    "            print(\"Please enter positive row number.\")\n",
    "            continue\n",
    "\n",
    "\n",
    "    \n",
    "\n"
   ]
  }
 ],
 "metadata": {
  "kernelspec": {
   "display_name": "Python 3",
   "language": "python",
   "name": "python3"
  },
  "language_info": {
   "codemirror_mode": {
    "name": "ipython",
    "version": 3
   },
   "file_extension": ".py",
   "mimetype": "text/x-python",
   "name": "python",
   "nbconvert_exporter": "python",
   "pygments_lexer": "ipython3",
   "version": "3.6.3"
  }
 },
 "nbformat": 4,
 "nbformat_minor": 2
}
