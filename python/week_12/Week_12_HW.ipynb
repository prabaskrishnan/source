{
 "cells": [
  {
   "cell_type": "markdown",
   "metadata": {},
   "source": [
    "## Week 12 Assignment - W200 Python Fundamentals for Data Science, UC Berkeley MIDS\n",
    "\n",
    "Write code in this Jupyter Notebook to solve the following problems. Please upload this **Notebook** with your solutions to your GitHub repository in your SUBMISSIONS/week_12 folder by 11:59PM PST the night before class."
   ]
  },
  {
   "cell_type": "markdown",
   "metadata": {},
   "source": [
    "This homework assignment is Week 12 which corresponds to the Unit #11 async. If you turn-in anything on ISVC please do so under the Week 12 Assignment category. (Apologies for the confusion)"
   ]
  },
  {
   "cell_type": "markdown",
   "metadata": {},
   "source": [
    "## Objectives\n",
    "\n",
    "- Explore and get insights from a real dataset using pandas\n",
    "- Practice the use of pandas for: exploratory analysis, information gathering and discovery\n",
    "- Use matplotlib for plotting charts from the data"
   ]
  },
  {
   "cell_type": "markdown",
   "metadata": {},
   "source": [
    "## Data files\n",
    "\n",
    "In this assignment you will apply what you are learning to answer questions about campaign contributions in the Democratic presidential primary race. We will use the csv file located here: https://drive.google.com/file/d/1Lgg-PwXQ6TQLDowd6XyBxZw5g1NGWPjB/view?usp=sharing. You will need to download and save the csv in the same folder as this notebook. This file originally came from the U.S. Federal Election Commission (https://www.fec.gov/).\n",
    "\n",
    "** REMEMBER -- DO NOT PUT THIS DATA IN YOUR GITHUB REPO ! **\n",
    "\n",
    "Documentation for this data file can be found here: https://drive.google.com/file/d/11o_SByceenv0NgNMstM-dxC1jL7I9fHL/view?usp=sharing"
   ]
  },
  {
   "cell_type": "markdown",
   "metadata": {},
   "source": [
    "## General Guidelines:\n",
    "\n",
    "- This is a **real** dataset and so it contains errors and other pecularities to work through\n",
    "- The data is ~218mb which will take some time to load (and probably won't load in google sheets or Excel)\n",
    "- If you make assumptions please annotate them in your answer\n",
    "- While we've left one code/markdown cell for you after each question as a placeholder, some of your answers will require multiple cells to fully respond\n",
    "- Double click the markdown cells where it says YOUR ANSWER HERE to enter your written answers; if you need more cells to write answers in please make them markdown cells (rather than code cells)"
   ]
  },
  {
   "cell_type": "markdown",
   "metadata": {},
   "source": [
    "## Setup\n",
    "\n",
    "First, run the two cells below. \n",
    "\n",
    "The first cell will load in the data to a pandas dataframe named 'contrib'. Note we define a custom date parser to speed up import (we could have Python guess the date format, but this can make the load a lot slower).  \n",
    "\n",
    "The second cell subsets the data to look at the primary period.  Otherwise, we would see general election donations which would make it harder to draw conclusions about the primaries.  We will analyze through May 2016."
   ]
  },
  {
   "cell_type": "code",
   "execution_count": 1,
   "metadata": {},
   "outputs": [
    {
     "name": "stderr",
     "output_type": "stream",
     "text": [
      "C:\\Users\\praba\\Anaconda3\\lib\\site-packages\\IPython\\core\\interactiveshell.py:2698: DtypeWarning: Columns (6,11,12) have mixed types. Specify dtype option on import or set low_memory=False.\n",
      "  interactivity=interactivity, compiler=compiler, result=result)\n"
     ]
    }
   ],
   "source": [
    "# import the data\n",
    "import pandas as pd\n",
    "import matplotlib.pyplot as plt\n",
    "\n",
    "pd.options.display.float_format = '{:,.2f}'.format\n",
    "%matplotlib inline\n",
    "\n",
    "# Create date parser to pass to read_csv\n",
    "import datetime\n",
    "d = lambda x: pd.datetime.strptime(x, '%d-%b-%y')\n",
    "\n",
    "contrib = pd.read_csv('./P00000001-CA.csv', index_col=False, parse_dates = ['contb_receipt_dt'], date_parser=d)\n",
    "\n",
    "# Note - for now, it is okay to ignore the warning about mixed types.  "
   ]
  },
  {
   "cell_type": "code",
   "execution_count": 2,
   "metadata": {},
   "outputs": [
    {
     "name": "stdout",
     "output_type": "stream",
     "text": [
      "(1125659, 18)\n",
      "(654502, 18)\n"
     ]
    }
   ],
   "source": [
    "# Subset data to primary period \n",
    "print(contrib.shape)\n",
    "\n",
    "contrib = contrib.copy()[contrib['contb_receipt_dt'] <= datetime.datetime(2016, 5, 31)]\n",
    "print(contrib.shape)"
   ]
  },
  {
   "cell_type": "markdown",
   "metadata": {},
   "source": [
    "## 1. Data Exploration\n",
    "\n",
    "**1a.** First, let's take a preliminary look at our data:\n",
    "- Print the *shape* of the data. What does this tell you about the number of variables and rows you have?\n",
    "- Print a list of column names. \n",
    "- Review the documentation for this dataset (linked above). Do you have all of the columns you expect to have?\n",
    "- Sometimes variable names are not clear unless we read the documentation. In your own words, based on the documentation, what information does the \"election_tp\" variable contain?"
   ]
  },
  {
   "cell_type": "code",
   "execution_count": 3,
   "metadata": {
    "deletable": false,
    "nbgrader": {
     "checksum": "9f7a7938e43b14d3c7c49d6a278b0bb1",
     "grade": true,
     "grade_id": "cell-5d017805206f18b1",
     "locked": false,
     "points": 0,
     "schema_version": 1,
     "solution": true
    }
   },
   "outputs": [
    {
     "name": "stdout",
     "output_type": "stream",
     "text": [
      "(654502, 18)\n",
      "Index(['cmte_id', 'cand_id', 'cand_nm', 'contbr_nm', 'contbr_city',\n",
      "       'contbr_st', 'contbr_zip', 'contbr_employer', 'contbr_occupation',\n",
      "       'contb_receipt_amt', 'contb_receipt_dt', 'receipt_desc', 'memo_cd',\n",
      "       'memo_text', 'form_tp', 'file_num', 'tran_id', 'election_tp'],\n",
      "      dtype='object')\n",
      "['P2016' 'G2016' nan 'P2020']\n"
     ]
    }
   ],
   "source": [
    "# YOUR CODE HERE\n",
    "print(contrib.shape)\n",
    "print(contrib.columns)\n",
    "print(contrib.election_tp.unique())"
   ]
  },
  {
   "cell_type": "markdown",
   "metadata": {
    "deletable": false,
    "nbgrader": {
     "checksum": "e6a198453ec4b0171a064fef0bd7c678",
     "grade": true,
     "grade_id": "cell-3bc26919169bf4aa",
     "locked": false,
     "points": 5,
     "schema_version": 1,
     "solution": true
    }
   },
   "source": [
    "- 1a YOUR ANSWER HERE\n",
    "1. We do have all the columns in the document in the dataset as well.\n",
    "\n",
    "2. The 'election_tp' column contains the data in the formaot EYYYY , where E can denote whether it is P for Primary , G for General , O for other , C for convention , R for Runoff ,  S for special and E for recount and the YYYY for the year of the election."
   ]
  },
  {
   "cell_type": "markdown",
   "metadata": {},
   "source": [
    "**1b.** Print out the first 5 observations from the dataset to manually look through some of your data."
   ]
  },
  {
   "cell_type": "code",
   "execution_count": 4,
   "metadata": {
    "deletable": false,
    "nbgrader": {
     "checksum": "4fbf682f1c78b3614832c6f48ecd88c7",
     "grade": true,
     "grade_id": "cell-72bc97601b84f17d",
     "locked": false,
     "points": 5,
     "schema_version": 1,
     "solution": true
    }
   },
   "outputs": [
    {
     "data": {
      "text/html": [
       "<div>\n",
       "<style>\n",
       "    .dataframe thead tr:only-child th {\n",
       "        text-align: right;\n",
       "    }\n",
       "\n",
       "    .dataframe thead th {\n",
       "        text-align: left;\n",
       "    }\n",
       "\n",
       "    .dataframe tbody tr th {\n",
       "        vertical-align: top;\n",
       "    }\n",
       "</style>\n",
       "<table border=\"1\" class=\"dataframe\">\n",
       "  <thead>\n",
       "    <tr style=\"text-align: right;\">\n",
       "      <th></th>\n",
       "      <th>cmte_id</th>\n",
       "      <th>cand_id</th>\n",
       "      <th>cand_nm</th>\n",
       "      <th>contbr_nm</th>\n",
       "      <th>contbr_city</th>\n",
       "      <th>contbr_st</th>\n",
       "      <th>contbr_zip</th>\n",
       "      <th>contbr_employer</th>\n",
       "      <th>contbr_occupation</th>\n",
       "      <th>contb_receipt_amt</th>\n",
       "      <th>contb_receipt_dt</th>\n",
       "      <th>receipt_desc</th>\n",
       "      <th>memo_cd</th>\n",
       "      <th>memo_text</th>\n",
       "      <th>form_tp</th>\n",
       "      <th>file_num</th>\n",
       "      <th>tran_id</th>\n",
       "      <th>election_tp</th>\n",
       "    </tr>\n",
       "  </thead>\n",
       "  <tbody>\n",
       "    <tr>\n",
       "      <th>0</th>\n",
       "      <td>C00575795</td>\n",
       "      <td>P00003392</td>\n",
       "      <td>Clinton, Hillary Rodham</td>\n",
       "      <td>AULL, ANNE</td>\n",
       "      <td>LARKSPUR</td>\n",
       "      <td>CA</td>\n",
       "      <td>949,391,913.00</td>\n",
       "      <td>NaN</td>\n",
       "      <td>RETIRED</td>\n",
       "      <td>50.00</td>\n",
       "      <td>2016-04-26</td>\n",
       "      <td>NaN</td>\n",
       "      <td>X</td>\n",
       "      <td>* HILLARY VICTORY FUND</td>\n",
       "      <td>SA18</td>\n",
       "      <td>1091718</td>\n",
       "      <td>C4768722</td>\n",
       "      <td>P2016</td>\n",
       "    </tr>\n",
       "    <tr>\n",
       "      <th>1</th>\n",
       "      <td>C00575795</td>\n",
       "      <td>P00003392</td>\n",
       "      <td>Clinton, Hillary Rodham</td>\n",
       "      <td>CARROLL, MARYJEAN</td>\n",
       "      <td>CAMBRIA</td>\n",
       "      <td>CA</td>\n",
       "      <td>934,284,638.00</td>\n",
       "      <td>NaN</td>\n",
       "      <td>RETIRED</td>\n",
       "      <td>200.00</td>\n",
       "      <td>2016-04-20</td>\n",
       "      <td>NaN</td>\n",
       "      <td>X</td>\n",
       "      <td>* HILLARY VICTORY FUND</td>\n",
       "      <td>SA18</td>\n",
       "      <td>1091718</td>\n",
       "      <td>C4747242</td>\n",
       "      <td>P2016</td>\n",
       "    </tr>\n",
       "    <tr>\n",
       "      <th>2</th>\n",
       "      <td>C00575795</td>\n",
       "      <td>P00003392</td>\n",
       "      <td>Clinton, Hillary Rodham</td>\n",
       "      <td>GANDARA, DESIREE</td>\n",
       "      <td>FONTANA</td>\n",
       "      <td>CA</td>\n",
       "      <td>923,371,507.00</td>\n",
       "      <td>NaN</td>\n",
       "      <td>RETIRED</td>\n",
       "      <td>5.00</td>\n",
       "      <td>2016-04-02</td>\n",
       "      <td>NaN</td>\n",
       "      <td>X</td>\n",
       "      <td>* HILLARY VICTORY FUND</td>\n",
       "      <td>SA18</td>\n",
       "      <td>1091718</td>\n",
       "      <td>C4666603</td>\n",
       "      <td>P2016</td>\n",
       "    </tr>\n",
       "    <tr>\n",
       "      <th>3</th>\n",
       "      <td>C00577130</td>\n",
       "      <td>P60007168</td>\n",
       "      <td>Sanders, Bernard</td>\n",
       "      <td>LEE, ALAN</td>\n",
       "      <td>CAMARILLO</td>\n",
       "      <td>CA</td>\n",
       "      <td>930,111,214.00</td>\n",
       "      <td>AT&amp;T GOVERNMENT SOLUTIONS</td>\n",
       "      <td>SOFTWARE ENGINEER</td>\n",
       "      <td>40.00</td>\n",
       "      <td>2016-03-04</td>\n",
       "      <td>NaN</td>\n",
       "      <td>NaN</td>\n",
       "      <td>* EARMARKED CONTRIBUTION: SEE BELOW</td>\n",
       "      <td>SA17A</td>\n",
       "      <td>1077404</td>\n",
       "      <td>VPF7BKWA097</td>\n",
       "      <td>P2016</td>\n",
       "    </tr>\n",
       "    <tr>\n",
       "      <th>4</th>\n",
       "      <td>C00577130</td>\n",
       "      <td>P60007168</td>\n",
       "      <td>Sanders, Bernard</td>\n",
       "      <td>LEONELLI, ODETTE</td>\n",
       "      <td>REDONDO BEACH</td>\n",
       "      <td>CA</td>\n",
       "      <td>902,784,310.00</td>\n",
       "      <td>VERICOR ENTERPRISES INC.</td>\n",
       "      <td>PHARMACIST</td>\n",
       "      <td>35.00</td>\n",
       "      <td>2016-03-05</td>\n",
       "      <td>NaN</td>\n",
       "      <td>NaN</td>\n",
       "      <td>* EARMARKED CONTRIBUTION: SEE BELOW</td>\n",
       "      <td>SA17A</td>\n",
       "      <td>1077404</td>\n",
       "      <td>VPF7BKX3MB3</td>\n",
       "      <td>P2016</td>\n",
       "    </tr>\n",
       "  </tbody>\n",
       "</table>\n",
       "</div>"
      ],
      "text/plain": [
       "     cmte_id    cand_id                  cand_nm          contbr_nm  \\\n",
       "0  C00575795  P00003392  Clinton, Hillary Rodham         AULL, ANNE   \n",
       "1  C00575795  P00003392  Clinton, Hillary Rodham  CARROLL, MARYJEAN   \n",
       "2  C00575795  P00003392  Clinton, Hillary Rodham   GANDARA, DESIREE   \n",
       "3  C00577130  P60007168         Sanders, Bernard          LEE, ALAN   \n",
       "4  C00577130  P60007168         Sanders, Bernard   LEONELLI, ODETTE   \n",
       "\n",
       "     contbr_city contbr_st     contbr_zip            contbr_employer  \\\n",
       "0       LARKSPUR        CA 949,391,913.00                        NaN   \n",
       "1        CAMBRIA        CA 934,284,638.00                        NaN   \n",
       "2        FONTANA        CA 923,371,507.00                        NaN   \n",
       "3      CAMARILLO        CA 930,111,214.00  AT&T GOVERNMENT SOLUTIONS   \n",
       "4  REDONDO BEACH        CA 902,784,310.00   VERICOR ENTERPRISES INC.   \n",
       "\n",
       "   contbr_occupation  contb_receipt_amt contb_receipt_dt receipt_desc memo_cd  \\\n",
       "0            RETIRED              50.00       2016-04-26          NaN       X   \n",
       "1            RETIRED             200.00       2016-04-20          NaN       X   \n",
       "2            RETIRED               5.00       2016-04-02          NaN       X   \n",
       "3  SOFTWARE ENGINEER              40.00       2016-03-04          NaN     NaN   \n",
       "4         PHARMACIST              35.00       2016-03-05          NaN     NaN   \n",
       "\n",
       "                             memo_text form_tp  file_num      tran_id  \\\n",
       "0               * HILLARY VICTORY FUND    SA18   1091718     C4768722   \n",
       "1               * HILLARY VICTORY FUND    SA18   1091718     C4747242   \n",
       "2               * HILLARY VICTORY FUND    SA18   1091718     C4666603   \n",
       "3  * EARMARKED CONTRIBUTION: SEE BELOW   SA17A   1077404  VPF7BKWA097   \n",
       "4  * EARMARKED CONTRIBUTION: SEE BELOW   SA17A   1077404  VPF7BKX3MB3   \n",
       "\n",
       "  election_tp  \n",
       "0       P2016  \n",
       "1       P2016  \n",
       "2       P2016  \n",
       "3       P2016  \n",
       "4       P2016  "
      ]
     },
     "execution_count": 4,
     "metadata": {},
     "output_type": "execute_result"
    }
   ],
   "source": [
    "# YOUR CODE HERE\n",
    "\n",
    "contrib.head()"
   ]
  },
  {
   "cell_type": "markdown",
   "metadata": {},
   "source": [
    "**1c.** When working with a new dataset, it is important to explore and sanity check your variables. Pick **three** variables from the dataset above and run some quick sanity checks. For example, you may want to examine the maximum and minimum values, a frequency count, or something else. Use markdown cells to explain if your sanity checks \"pass\" your scrutiny or if you have concerns about the integrity of your data. "
   ]
  },
  {
   "cell_type": "code",
   "execution_count": 5,
   "metadata": {
    "deletable": false,
    "nbgrader": {
     "checksum": "0ec29a2cabd52709322d1cfd650babe7",
     "grade": true,
     "grade_id": "cell-23b51536d24c1645",
     "locked": false,
     "points": 0,
     "schema_version": 1,
     "solution": true
    }
   },
   "outputs": [
    {
     "name": "stdout",
     "output_type": "stream",
     "text": [
      "First date of contribution:  2013-11-05 00:00:00\n",
      "Last date of the contribution:  2016-05-31 00:00:00\n",
      "Maximum contribution amount:  -10000.0\n",
      "Minimum contribution amount:  10800.0\n",
      "The rows that have Zip is NaN:             cmte_id    cand_id                  cand_nm  \\\n",
      "133677   C00575795  P00003392  Clinton, Hillary Rodham   \n",
      "578967   C00577312  P60007242           Fiorina, Carly   \n",
      "784300   C00575795  P00003392  Clinton, Hillary Rodham   \n",
      "1030167  C00575795  P00003392  Clinton, Hillary Rodham   \n",
      "\n",
      "                            contbr_nm    contbr_city contbr_st contbr_zip  \\\n",
      "133677          DELUCA, MICHAEL FRANK    LOS ANGELES        CA        NaN   \n",
      "578967                    DURHAM, TIM       HAMILTON        CA        NaN   \n",
      "784300                  ROWGHANI, ALI  SAN FRANCISCO        CA        NaN   \n",
      "1030167  COLUMBUS, CHRISTOPHER JOSEPH  SAN FRANCISCO        CA        NaN   \n",
      "\n",
      "          contbr_employer   contbr_occupation  contb_receipt_amt  \\\n",
      "133677      SELF-EMPLOYED            PRODUCER           2,700.00   \n",
      "578967   CITY OF HAMILTON  TRANSIT BUS DRIVER             500.00   \n",
      "784300       Y COMBINATOR             PARTNER           2,700.00   \n",
      "1030167     SELF-EMPLOYED            DIRECTOR           2,700.00   \n",
      "\n",
      "        contb_receipt_dt receipt_desc memo_cd               memo_text form_tp  \\\n",
      "133677        2016-04-04          NaN       X  * HILLARY VICTORY FUND    SA18   \n",
      "578967        2015-09-17          NaN     NaN                     NaN   SA17A   \n",
      "784300        2016-05-23          NaN       X  * HILLARY VICTORY FUND    SA18   \n",
      "1030167       2016-04-07          NaN       X  * HILLARY VICTORY FUND    SA18   \n",
      "\n",
      "         file_num      tran_id election_tp  \n",
      "133677    1091718     C4669760       P2016  \n",
      "578967    1029240  SA17.297899       P2016  \n",
      "784300    1091720     C5583307       P2016  \n",
      "1030167   1091718     C4688665       P2016  \n",
      "Number of NaN in the contribution amount:  Empty DataFrame\n",
      "Columns: [cmte_id, cand_id, cand_nm, contbr_nm, contbr_city, contbr_st, contbr_zip, contbr_employer, contbr_occupation, contb_receipt_amt, contb_receipt_dt, receipt_desc, memo_cd, memo_text, form_tp, file_num, tran_id, election_tp]\n",
      "Index: []\n",
      "Different values count of form_tp columns:  SA17A    629741\n",
      "SA18      20240\n",
      "SB28A      4521\n",
      "Name: form_tp, dtype: int64\n",
      "Columns which has NaN values:  cmte_id                   0\n",
      "cand_id                   0\n",
      "cand_nm                   0\n",
      "contbr_nm                 0\n",
      "contbr_city               1\n",
      "contbr_st                 0\n",
      "contbr_zip                4\n",
      "contbr_employer       47665\n",
      "contbr_occupation      5194\n",
      "contb_receipt_amt         0\n",
      "contb_receipt_dt          0\n",
      "receipt_desc         644056\n",
      "memo_cd              628867\n",
      "memo_text            272941\n",
      "form_tp                   0\n",
      "file_num                  0\n",
      "tran_id                   0\n",
      "election_tp             138\n",
      "dtype: int64\n",
      "Unique candidates Name:  ['Clinton, Hillary Rodham' 'Sanders, Bernard' \"Cruz, Rafael Edward 'Ted'\"\n",
      " 'Walker, Scott' 'Bush, Jeb' 'Rubio, Marco' 'Kasich, John R.'\n",
      " 'Christie, Christopher J.' 'Paul, Rand' 'Webb, James Henry Jr.'\n",
      " 'Trump, Donald J.' 'Johnson, Gary' 'Carson, Benjamin S.' 'Fiorina, Carly'\n",
      " 'Santorum, Richard J.' 'Jindal, Bobby' 'Huckabee, Mike' 'Lessig, Lawrence'\n",
      " \"O'Malley, Martin Joseph\" 'Graham, Lindsey O.' 'Pataki, George E.'\n",
      " 'Stein, Jill' 'Perry, James R. (Rick)' 'Gilmore, James S III']\n",
      "Value coune for candidate name:  Sanders, Bernard             371795\n",
      "Clinton, Hillary Rodham      163509\n",
      "Cruz, Rafael Edward 'Ted'     57136\n",
      "Carson, Benjamin S.           27342\n",
      "Rubio, Marco                  14089\n",
      "Fiorina, Carly                 4696\n",
      "Paul, Rand                     4256\n",
      "Bush, Jeb                      3114\n",
      "Kasich, John R.                2988\n",
      "Trump, Donald J.               2255\n",
      "Walker, Scott                   713\n",
      "Huckabee, Mike                  531\n",
      "O'Malley, Martin Joseph         397\n",
      "Lessig, Lawrence                372\n",
      "Graham, Lindsey O.              342\n",
      "Christie, Christopher J.        333\n",
      "Stein, Jill                     197\n",
      "Perry, James R. (Rick)          116\n",
      "Webb, James Henry Jr.           106\n",
      "Santorum, Richard J.             84\n",
      "Johnson, Gary                    77\n",
      "Jindal, Bobby                    31\n",
      "Pataki, George E.                20\n",
      "Gilmore, James S III              3\n",
      "Name: cand_nm, dtype: int64\n",
      "Value count for candidate Id :  P60007168    371795\n",
      "P00003392    163509\n",
      "P60006111     57136\n",
      "P60005915     27342\n",
      "P60006723     14089\n",
      "P60007242      4696\n",
      "P40003576      4256\n",
      "P60008059      3114\n",
      "P60003670      2988\n",
      "P80001571      2255\n",
      "P60006046       713\n",
      "P80003478       531\n",
      "P60007671       397\n",
      "P60009685       372\n",
      "P60007697       342\n",
      "P60008521       333\n",
      "P20003984       197\n",
      "P20003281       116\n",
      "P60008885       106\n",
      "P20002721        84\n",
      "P20002671        77\n",
      "P60008398        31\n",
      "P60007572        20\n",
      "P80003379         3\n",
      "Name: cand_id, dtype: int64\n"
     ]
    }
   ],
   "source": [
    "# YOUR CODE HERE\n",
    "\n",
    "print('First date of contribution: ',contrib.contb_receipt_dt.min())\n",
    "print('Last date of the contribution: ', contrib.contb_receipt_dt.max())\n",
    "\n",
    "print('Maximum contribution amount: ', contrib.contb_receipt_amt.min())\n",
    "print('Minimum contribution amount: ', contrib.contb_receipt_amt.max())\n",
    "\n",
    "\n",
    "print('The rows that have Zip is NaN: ', contrib[contrib.contbr_zip.isnull()])\n",
    "\n",
    "print('Number of NaN in the contribution amount: ', contrib[contrib.contb_receipt_amt.isnull()])\n",
    "\n",
    "\n",
    "print('Different values count of form_tp columns: ', contrib.form_tp.value_counts())\n",
    "\n",
    "\n",
    "\n",
    "\n",
    "print('Columns which has NaN values: ', contrib.isnull().sum())\n",
    "\n",
    "\n",
    "print('Unique candidates Name: ', contrib.cand_nm.unique())\n",
    "print('Value coune for candidate name: ' , contrib.cand_nm.value_counts())\n",
    "print('Value count for candidate Id : ', contrib.cand_id.value_counts())"
   ]
  },
  {
   "cell_type": "markdown",
   "metadata": {
    "deletable": false,
    "nbgrader": {
     "checksum": "cfa64002e64474584dc1442b5a39b460",
     "grade": true,
     "grade_id": "cell-8a320c2ff7c24d98",
     "locked": false,
     "points": 0,
     "schema_version": 1,
     "solution": true
    }
   },
   "source": [
    "- 1c YOUR ANSWER HERE\n",
    "\n",
    "1. Checked to see the duration of  the contribution by checking the contb_receipt_dt variable max and min methods. The first day of the contribution was 5th November 2013 and the last day of the contribution was 31st May 2016.\n",
    "\n",
    "2. Similary the maximum contribution (contb_receipt_amt) was $10,800 and the minimum contribution was -$10,000 , that means a refund back to the contributor in this case.\n",
    "\n",
    "3. Checked to see if the count of individual candidate names matched with the count of candidate ids.\n",
    "\n",
    "Based on these tests , integrity seems to be ok , except few missing values in the few columns as listed in the script above.\n",
    "\n",
    "\n"
   ]
  },
  {
   "cell_type": "markdown",
   "metadata": {},
   "source": [
    "## 2. Exploring Campaign Contributions\n",
    "\n",
    "Let's investigate the donations to the candidates.\n",
    "\n",
    "**2a.** \n",
    "Create a table that shows the total number of donations to each candidate. Hint: use \"groupby\" as shown in async unit 11.07.\n",
    "\n",
    "When presenting data in a table, it is best to sort the data in a meaningful way. This makes it easier for your reader to examine what you've done and to get insights out of your tables. Use \"sort_values\" to sort the data so that candidates with the largest number of donations appear on top. From now on, all tables you present in this assignment (and course) should be sorted.\n",
    "\n",
    "What candidate recieved the largest number of contributions (variable 'contb_receipt_amt')?"
   ]
  },
  {
   "cell_type": "code",
   "execution_count": 6,
   "metadata": {
    "deletable": false,
    "nbgrader": {
     "checksum": "442b24601da06376c43cbe6ef5c5348a",
     "grade": true,
     "grade_id": "cell-6a453219105384dd",
     "locked": false,
     "points": 0,
     "schema_version": 1,
     "solution": true
    },
    "scrolled": true
   },
   "outputs": [
    {
     "name": "stdout",
     "output_type": "stream",
     "text": [
      "Number of donations to each candidate :  cand_nm\n",
      "Sanders, Bernard             371795\n",
      "Clinton, Hillary Rodham      163509\n",
      "Cruz, Rafael Edward 'Ted'     57136\n",
      "Carson, Benjamin S.           27342\n",
      "Rubio, Marco                  14089\n",
      "Fiorina, Carly                 4696\n",
      "Paul, Rand                     4256\n",
      "Bush, Jeb                      3114\n",
      "Kasich, John R.                2988\n",
      "Trump, Donald J.               2255\n",
      "Walker, Scott                   713\n",
      "Huckabee, Mike                  531\n",
      "O'Malley, Martin Joseph         397\n",
      "Lessig, Lawrence                372\n",
      "Graham, Lindsey O.              342\n",
      "Christie, Christopher J.        333\n",
      "Stein, Jill                     197\n",
      "Perry, James R. (Rick)          116\n",
      "Webb, James Henry Jr.           106\n",
      "Santorum, Richard J.             84\n",
      "Johnson, Gary                    77\n",
      "Jindal, Bobby                    31\n",
      "Pataki, George E.                20\n",
      "Gilmore, James S III              3\n",
      "Name: cand_id, dtype: int64\n",
      "\n",
      "\n",
      "Candidate who recieved the largest number of contributions  :  Sanders, Bernard\n"
     ]
    }
   ],
   "source": [
    "# YOUR CODE HERE\n",
    "\n",
    "candidate_group = contrib[contrib.contbr_st=='CA'].groupby('cand_nm')\n",
    "\n",
    "no_of_donations = candidate_group.cand_id.size().sort_values(ascending=False)\n",
    "\n",
    "print(\"Number of donations to each candidate : \" ,no_of_donations ,end='\\n\\n\\n')\n",
    "\n",
    "print(\"Candidate who recieved the largest number of contributions  : \" , candidate_group.contb_receipt_amt.count().sort_values(ascending=False).index[0])\n",
    "\n"
   ]
  },
  {
   "cell_type": "markdown",
   "metadata": {
    "deletable": false,
    "nbgrader": {
     "checksum": "c5a1b7f30648cced7269ccb9b1532bd6",
     "grade": true,
     "grade_id": "cell-90c49bd6471a3dc9",
     "locked": false,
     "points": 0,
     "schema_version": 1,
     "solution": true
    }
   },
   "source": [
    "- 2a YOUR ANSWER HERE\n",
    "\n",
    "\n",
    "Candidate who recieved the largest number of contributions  :  Sanders, Bernard\n"
   ]
  },
  {
   "cell_type": "markdown",
   "metadata": {},
   "source": [
    "**2b.** Now, create a table that shows the total **value** of donations to each candidate. What candidate raised the most money in California?"
   ]
  },
  {
   "cell_type": "code",
   "execution_count": 7,
   "metadata": {
    "scrolled": true
   },
   "outputs": [
    {
     "name": "stdout",
     "output_type": "stream",
     "text": [
      "cand_nm\n",
      "Clinton, Hillary Rodham     39,368,777.01\n",
      "Sanders, Bernard            18,773,871.31\n",
      "Cruz, Rafael Edward 'Ted'    6,286,460.34\n",
      "Rubio, Marco                 4,846,483.72\n",
      "Bush, Jeb                    3,325,536.83\n",
      "Carson, Benjamin S.          2,952,109.00\n",
      "Kasich, John R.              1,553,823.54\n",
      "Fiorina, Carly               1,468,489.42\n",
      "Trump, Donald J.               893,356.89\n",
      "Paul, Rand                     797,624.29\n",
      "Walker, Scott                  495,006.90\n",
      "Christie, Christopher J.       456,066.00\n",
      "Graham, Lindsey O.             408,595.00\n",
      "O'Malley, Martin Joseph        297,834.26\n",
      "Huckabee, Mike                 230,890.60\n",
      "Perry, James R. (Rick)         208,400.00\n",
      "Lessig, Lawrence               186,144.50\n",
      "Webb, James Henry Jr.           76,568.16\n",
      "Johnson, Gary                   41,187.60\n",
      "Santorum, Richard J.            36,304.88\n",
      "Pataki, George E.               30,450.00\n",
      "Stein, Jill                     27,918.00\n",
      "Jindal, Bobby                   23,231.26\n",
      "Gilmore, James S III             8,100.00\n",
      "Name: contb_receipt_amt, dtype: float64\n",
      "\n",
      "\n",
      "Candidate who received the largest amount of contributions  :  Clinton, Hillary Rodham\n"
     ]
    }
   ],
   "source": [
    "# YOUR CODE HERE\n",
    "\n",
    "amount_of_donation = candidate_group.contb_receipt_amt.sum().sort_values(ascending=False)\n",
    "\n",
    "print(amount_of_donation,end='\\n\\n\\n')\n",
    "print(\"Candidate who received the largest amount of contributions  : \" , amount_of_donation.index[0])"
   ]
  },
  {
   "cell_type": "markdown",
   "metadata": {
    "deletable": false,
    "nbgrader": {
     "checksum": "60d3e303837e9603de5b96e32af7d806",
     "grade": true,
     "grade_id": "cell-447dc63eff8ebc5f",
     "locked": false,
     "points": 0,
     "schema_version": 1,
     "solution": true
    }
   },
   "source": [
    "- 2b YOUR ANSWER HERE\n",
    "\n",
    "\n",
    "Candidate who received the largest amount of contributions  :  Clinton, Hillary Rodham\n",
    "\n"
   ]
  },
  {
   "cell_type": "markdown",
   "metadata": {},
   "source": [
    "**2c.** Combining your tables\n",
    "- What is the \"type\" of the two tables you printed above? Show if they are Series, or DataFrames.\n",
    "- Convert any Series to pandas DataFrames.\n",
    "- Update the variable (column) names to accurately describe what is shown\n",
    "- Merge together your tables to show the *count* and the *value* of donations to each candidate in one table. Use the \"join\" function."
   ]
  },
  {
   "cell_type": "code",
   "execution_count": 8,
   "metadata": {
    "scrolled": true
   },
   "outputs": [
    {
     "name": "stdout",
     "output_type": "stream",
     "text": [
      "<class 'pandas.core.series.Series'>\n",
      "<class 'pandas.core.series.Series'>\n",
      "<class 'pandas.core.frame.DataFrame'>\n",
      "<class 'pandas.core.frame.DataFrame'>\n"
     ]
    }
   ],
   "source": [
    "# YOUR CODE HERE\n",
    "\n",
    "print(type(no_of_donations))\n",
    "print(type(amount_of_donation))\n",
    "\n",
    "df_no_of_donations = pd.DataFrame(no_of_donations)\n",
    "df_amount_of_donation = pd.DataFrame(amount_of_donation)\n",
    "\n",
    "print(type(df_no_of_donations))\n",
    "print(type(df_amount_of_donation))\n",
    "df_no_of_donations.columns = ['No_of_Contributions']\n",
    "df_amount_of_donation.columns = ['Amount_of_Contributions']\n",
    "\n",
    "df_no_amount_of_donations = df_no_of_donations.join(df_amount_of_donation)"
   ]
  },
  {
   "cell_type": "markdown",
   "metadata": {},
   "source": [
    "**2d.** Calculate and add a new variable to your table that shows the average $ per donation."
   ]
  },
  {
   "cell_type": "code",
   "execution_count": 9,
   "metadata": {},
   "outputs": [
    {
     "name": "stdout",
     "output_type": "stream",
     "text": [
      "                           No_of_Contributions  Amount_of_Contributions  \\\n",
      "cand_nm                                                                   \n",
      "Sanders, Bernard                        371795            18,773,871.31   \n",
      "Clinton, Hillary Rodham                 163509            39,368,777.01   \n",
      "Cruz, Rafael Edward 'Ted'                57136             6,286,460.34   \n",
      "Carson, Benjamin S.                      27342             2,952,109.00   \n",
      "Rubio, Marco                             14089             4,846,483.72   \n",
      "Fiorina, Carly                            4696             1,468,489.42   \n",
      "Paul, Rand                                4256               797,624.29   \n",
      "Bush, Jeb                                 3114             3,325,536.83   \n",
      "Kasich, John R.                           2988             1,553,823.54   \n",
      "Trump, Donald J.                          2255               893,356.89   \n",
      "Walker, Scott                              713               495,006.90   \n",
      "Huckabee, Mike                             531               230,890.60   \n",
      "O'Malley, Martin Joseph                    397               297,834.26   \n",
      "Lessig, Lawrence                           372               186,144.50   \n",
      "Graham, Lindsey O.                         342               408,595.00   \n",
      "Christie, Christopher J.                   333               456,066.00   \n",
      "Stein, Jill                                197                27,918.00   \n",
      "Perry, James R. (Rick)                     116               208,400.00   \n",
      "Webb, James Henry Jr.                      106                76,568.16   \n",
      "Santorum, Richard J.                        84                36,304.88   \n",
      "Johnson, Gary                               77                41,187.60   \n",
      "Jindal, Bobby                               31                23,231.26   \n",
      "Pataki, George E.                           20                30,450.00   \n",
      "Gilmore, James S III                         3                 8,100.00   \n",
      "\n",
      "                           Avg_per_Donation  \n",
      "cand_nm                                      \n",
      "Sanders, Bernard                      50.50  \n",
      "Clinton, Hillary Rodham              240.77  \n",
      "Cruz, Rafael Edward 'Ted'            110.03  \n",
      "Carson, Benjamin S.                  107.97  \n",
      "Rubio, Marco                         343.99  \n",
      "Fiorina, Carly                       312.71  \n",
      "Paul, Rand                           187.41  \n",
      "Bush, Jeb                          1,067.93  \n",
      "Kasich, John R.                      520.02  \n",
      "Trump, Donald J.                     396.17  \n",
      "Walker, Scott                        694.26  \n",
      "Huckabee, Mike                       434.82  \n",
      "O'Malley, Martin Joseph              750.21  \n",
      "Lessig, Lawrence                     500.39  \n",
      "Graham, Lindsey O.                 1,194.72  \n",
      "Christie, Christopher J.           1,369.57  \n",
      "Stein, Jill                          141.72  \n",
      "Perry, James R. (Rick)             1,796.55  \n",
      "Webb, James Henry Jr.                722.34  \n",
      "Santorum, Richard J.                 432.20  \n",
      "Johnson, Gary                        534.90  \n",
      "Jindal, Bobby                        749.40  \n",
      "Pataki, George E.                  1,522.50  \n",
      "Gilmore, James S III               2,700.00  \n"
     ]
    }
   ],
   "source": [
    "# YOUR CODE HERE\n",
    "\n",
    "df_no_amount_of_donations['Avg_per_Donation'] = df_no_amount_of_donations['Amount_of_Contributions']/df_no_amount_of_donations['No_of_Contributions']\n",
    "\n",
    "print(df_no_amount_of_donations)"
   ]
  },
  {
   "cell_type": "markdown",
   "metadata": {},
   "source": [
    "**2e.** There are several interesting conclusions you can draw from the table you have created. Please comment on the results of your data analysis in a short paragraph. What have you learned about campaign contributions in California?"
   ]
  },
  {
   "cell_type": "markdown",
   "metadata": {},
   "source": [
    "- 2e YOUR ANSWER HERE\n",
    "\n",
    "Hilary had maximum amount of contributions , Bernard had maximum number of contributions. He also had lowest average contribution per donor.  James had fewest number of contributions but the average contribution was highest for him. State of california had many contributions to democrats than republicans overall both interms of number of contributions and total amount of contributions.\n",
    "\n"
   ]
  },
  {
   "cell_type": "markdown",
   "metadata": {},
   "source": [
    "## 3. Exploring Donor Occupation\n",
    "\n",
    "Above in part 2, we saw that some simple data analysis can give us insights into the campaign of our candidates. Now let's quickly look to see what *kind* of person is donating to each campaign using the \"contbr_occupation\" variable."
   ]
  },
  {
   "cell_type": "markdown",
   "metadata": {},
   "source": [
    "**3a.** Subset your data to create a data frame with only donations for Hillary Clinton. Then use value_counts() and head() to display the top 5 occupations (contbr_occupation) for her donors. Note: we are just interested in the count of donations, not the value of those donations."
   ]
  },
  {
   "cell_type": "code",
   "execution_count": 10,
   "metadata": {
    "deletable": false,
    "nbgrader": {
     "checksum": "20a71229316bf24a2ce62c52f72d8142",
     "grade": true,
     "grade_id": "cell-963603c5ed346a99",
     "locked": false,
     "points": 0,
     "schema_version": 1,
     "solution": true
    }
   },
   "outputs": [
    {
     "name": "stdout",
     "output_type": "stream",
     "text": [
      "RETIRED                  33450\n",
      "ATTORNEY                  7315\n",
      "INFORMATION REQUESTED     4742\n",
      "TEACHER                   3591\n",
      "HOMEMAKER                 3436\n",
      "Name: contbr_occupation, dtype: int64\n"
     ]
    }
   ],
   "source": [
    "clinton_contrib = contrib[contrib.cand_nm == 'Clinton, Hillary Rodham']\n",
    "\n",
    "print(clinton_contrib.contbr_occupation.value_counts().head())\n",
    "\n"
   ]
  },
  {
   "cell_type": "markdown",
   "metadata": {
    "deletable": false,
    "nbgrader": {
     "checksum": "426b589a9d6457f38381eb1c77678d4f",
     "grade": true,
     "grade_id": "cell-b6fc3f7c906c95a2",
     "locked": false,
     "points": 0,
     "schema_version": 1,
     "solution": true
    }
   },
   "source": [
    "- 3a YOUR ANSWER HERE"
   ]
  },
  {
   "cell_type": "markdown",
   "metadata": {},
   "source": [
    "**3b.** Imagine that you want to do the previous operation on several candidates.  To keep your work neat, you want to take the work you did on the Clinton-subset and wrap it in a function that you can apply to other subsets of the data.  Specifically, write a function called get_donors() that takes a DataFrame as input, and outputs a Series containing the counts for the top 5 occupations contained in that DataFrame."
   ]
  },
  {
   "cell_type": "code",
   "execution_count": 11,
   "metadata": {
    "deletable": false,
    "nbgrader": {
     "checksum": "81ebf2a2f96961b4464f6c35d2143427",
     "grade": true,
     "grade_id": "cell-bea2cf7a6fff8565",
     "locked": false,
     "points": 0,
     "schema_version": 1,
     "solution": true
    }
   },
   "outputs": [],
   "source": [
    "def get_donors(df):\n",
    "    \"\"\"This function takes a dataframe that contains a variable named contbr_occupation.\n",
    "    It outputs a Series containing the counts for the 5 most common values of that\n",
    "    variable.\"\"\"\n",
    "    \n",
    "    # YOUR CODE HERE\n",
    "    return df.contbr_occupation.value_counts().head()"
   ]
  },
  {
   "cell_type": "markdown",
   "metadata": {},
   "source": [
    "**3c.** Now try running your function on subsets of the dataframe corresponding to three candidates:\n",
    "    1. Hillary Clinton\n",
    "    2. Bernie Sanders\n",
    "    3. Donald Trump"
   ]
  },
  {
   "cell_type": "code",
   "execution_count": 12,
   "metadata": {
    "deletable": false,
    "nbgrader": {
     "checksum": "bffd2778d22127102347386bfb6f5b20",
     "grade": true,
     "grade_id": "cell-4ad1da24176f0450",
     "locked": false,
     "points": 0,
     "schema_version": 1,
     "solution": true
    }
   },
   "outputs": [
    {
     "name": "stdout",
     "output_type": "stream",
     "text": [
      "RETIRED                  33450\n",
      "ATTORNEY                  7315\n",
      "INFORMATION REQUESTED     4742\n",
      "TEACHER                   3591\n",
      "HOMEMAKER                 3436\n",
      "Name: contbr_occupation, dtype: int64\n",
      "NOT EMPLOYED         96371\n",
      "RETIRED              15048\n",
      "TEACHER              10167\n",
      "SOFTWARE ENGINEER     7861\n",
      "ENGINEER              7094\n",
      "Name: contbr_occupation, dtype: int64\n",
      "RETIRED                  849\n",
      "INFORMATION REQUESTED     70\n",
      "CEO                       57\n",
      "OWNER                     51\n",
      "PRESIDENT                 35\n",
      "Name: contbr_occupation, dtype: int64\n"
     ]
    }
   ],
   "source": [
    "# YOUR CODE HERE\n",
    "df =  contrib[contrib.cand_nm == 'Clinton, Hillary Rodham']\n",
    "result = get_donors(df)\n",
    "print(result)\n",
    "df =  contrib[contrib.cand_nm == 'Sanders, Bernard']\n",
    "result = get_donors(df)\n",
    "print(result)\n",
    "df =  contrib[contrib.cand_nm == 'Trump, Donald J.']\n",
    "result = get_donors(df)\n",
    "print(result)\n"
   ]
  },
  {
   "cell_type": "markdown",
   "metadata": {},
   "source": [
    "**3d.** Finally, use a groupby to divide the entire dataset by candidate.  Call .apply(get_donors) on your groupby object, which will apply the function you wrote to each subset of your data.  Look at your output and marvel at what Pandas can do in just one line!"
   ]
  },
  {
   "cell_type": "code",
   "execution_count": 13,
   "metadata": {},
   "outputs": [
    {
     "data": {
      "text/plain": [
       "cand_nm                                                          \n",
       "Bush, Jeb                  RETIRED                                     996\n",
       "                           HOMEMAKER                                   180\n",
       "                           ATTORNEY                                     92\n",
       "                           Q.A.                                         89\n",
       "                           PRESIDENT                                    84\n",
       "Carson, Benjamin S.        RETIRED                                   13692\n",
       "                           INFORMATION REQUESTED PER BEST EFFORTS     1614\n",
       "                           HOMEMAKER                                  1049\n",
       "                           PHYSICIAN                                   329\n",
       "                           R.N.                                        234\n",
       "Christie, Christopher J.   RETIRED                                      38\n",
       "                           NONE                                         22\n",
       "                           CONSULTANT                                   18\n",
       "                           CEO                                          16\n",
       "                           HOMEMAKER                                    15\n",
       "Clinton, Hillary Rodham    RETIRED                                   33450\n",
       "                           ATTORNEY                                   7315\n",
       "                           INFORMATION REQUESTED                      4742\n",
       "                           TEACHER                                    3591\n",
       "                           HOMEMAKER                                  3436\n",
       "Cruz, Rafael Edward 'Ted'  RETIRED                                   22956\n",
       "                           INFORMATION REQUESTED PER BEST EFFORTS     1651\n",
       "                           HOMEMAKER                                  1261\n",
       "                           ENGINEER                                   1080\n",
       "                           TEACHER                                     838\n",
       "Fiorina, Carly             RETIRED                                    1971\n",
       "                           HOMEMAKER                                   169\n",
       "                           ATTORNEY                                    140\n",
       "                           INFORMATION REQUESTED PER BEST EFFORTS       95\n",
       "                           INVESTOR                                     64\n",
       "                                                                     ...  \n",
       "Sanders, Bernard           NOT EMPLOYED                              96371\n",
       "                           RETIRED                                   15048\n",
       "                           TEACHER                                   10167\n",
       "                           SOFTWARE ENGINEER                          7861\n",
       "                           ENGINEER                                   7094\n",
       "Santorum, Richard J.       RETIRED                                      44\n",
       "                           ENGINEER                                      5\n",
       "                           MACHINIST                                     4\n",
       "                           INFORMATION REQUESTED                         3\n",
       "                           PSYCHOLOGIST                                  3\n",
       "Stein, Jill                RETIRED                                      32\n",
       "                           RESEARCHER                                   25\n",
       "                           WRITER                                       20\n",
       "                           SOFTWARE ENGINEER                             9\n",
       "                           FORMAL FINANCIAL SERVICES EMPLOYEE            9\n",
       "Trump, Donald J.           RETIRED                                     849\n",
       "                           INFORMATION REQUESTED                        70\n",
       "                           CEO                                          57\n",
       "                           OWNER                                        51\n",
       "                           PRESIDENT                                    35\n",
       "Walker, Scott              RETIRED                                     232\n",
       "                           INFORMATION REQUESTED                        70\n",
       "                           PRESIDENT                                    37\n",
       "                           HOMEMAKER                                    34\n",
       "                           ATTORNEY                                     31\n",
       "Webb, James Henry Jr.      RETIRED                                      14\n",
       "                           ATTORNEY                                      8\n",
       "                           DEPUTY DISTRICT ATTORNEY                      7\n",
       "                           MATH EDUCATOR                                 5\n",
       "                           NOT EMPLOYED                                  5\n",
       "Name: contbr_occupation, Length: 118, dtype: int64"
      ]
     },
     "execution_count": 13,
     "metadata": {},
     "output_type": "execute_result"
    }
   ],
   "source": [
    "# YOUR CODE HERE\n",
    "contrib.groupby('cand_nm').apply(get_donors)"
   ]
  },
  {
   "cell_type": "markdown",
   "metadata": {
    "collapsed": true,
    "deletable": false,
    "nbgrader": {
     "checksum": "14c2855e3d59f0da6b1afd5cf0da2da8",
     "grade": true,
     "grade_id": "cell-fd840cdd19d2bd2a",
     "locked": false,
     "points": 0,
     "schema_version": 1,
     "solution": true
    }
   },
   "source": [
    "**3e.** Comment on your findings in a short paragraph."
   ]
  },
  {
   "cell_type": "markdown",
   "metadata": {
    "deletable": false,
    "nbgrader": {
     "checksum": "43ce3d15cee7ab73f53fd8f054c9826c",
     "grade": true,
     "grade_id": "cell-dce8d3107c1463ca",
     "locked": false,
     "points": 0,
     "schema_version": 1,
     "solution": true
    }
   },
   "source": [
    "- 3e YOUR ANSWER HERE\n",
    "Almost for every candidate , more number of RETIRED people contributed money to them.  Lots of people who has teaching profession contribute to both democratic candidate Bernard and Hilary. Ben Carson had several physician and R.N contributing to him , it explains that he was also a physician and had a network of health care professionals who contributed to him."
   ]
  },
  {
   "cell_type": "markdown",
   "metadata": {},
   "source": [
    "**3f.** Think about your findings in section 3 vs. your findings in section 2 of this assignment. Do you have any new insights into the results you got in section 2, now that you see the top occupations for each candidate?"
   ]
  },
  {
   "cell_type": "markdown",
   "metadata": {
    "deletable": false,
    "nbgrader": {
     "checksum": "a5f4e6df0f32e24c492a9589ec87fef6",
     "grade": true,
     "grade_id": "cell-9e3f68b21dac8e10",
     "locked": false,
     "points": 0,
     "schema_version": 1,
     "solution": true
    }
   },
   "source": [
    "- 3f YOUR ANSWER HERE\n",
    "\n",
    " Jeb Bush higher average contributions among the top 5 amount of contributions. His contributions came from the people who has the professions such as attorneys and CEOs. Trump didn't rely much on contribution from the donors. HOMEMAKER contributed and surfaced within the top 5 contributors to almost all the candidates. Trump had contributions from CEOs and Presidents than any other candidates.\n"
   ]
  },
  {
   "cell_type": "markdown",
   "metadata": {},
   "source": [
    "\n",
    "## 4. Plotting Data\n",
    "\n",
    "There is an important element that we have not yet explored in this dataset - time."
   ]
  },
  {
   "cell_type": "markdown",
   "metadata": {},
   "source": [
    "**4a.** Please create a single line chart with the following elements:\n",
    "- Show the date on the x-axis\n",
    "- Show the contribution amount on the y-axis\n",
    "- Include a title\n",
    "- Include axis labels"
   ]
  },
  {
   "cell_type": "code",
   "execution_count": 31,
   "metadata": {
    "deletable": false,
    "nbgrader": {
     "checksum": "4f1a9e7ee0ded9d2b5af5777cb85e505",
     "grade": true,
     "grade_id": "cell-c14fbed9d72d54e3",
     "locked": false,
     "points": 0,
     "schema_version": 1,
     "solution": true
    }
   },
   "outputs": [
    {
     "data": {
      "text/plain": [
       "Text(0,0.5,'Amount')"
      ]
     },
     "execution_count": 31,
     "metadata": {},
     "output_type": "execute_result"
    },
    {
     "data": {
      "image/png": "[encoded data removed]",
      "text/plain": [
       "<matplotlib.figure.Figure at 0x2b2bb94a5f8>"
      ]
     },
     "metadata": {},
     "output_type": "display_data"
    }
   ],
   "source": [
    "# YOUR CODE HERE\n",
    "\n",
    "\n",
    "ax = contrib.plot(x='contb_receipt_dt',y='contb_receipt_amt', title='Amount of Contribution over date.')\n",
    "ax.set_xlabel(\"Date\")\n",
    "ax.set_ylabel(\"Amount\")\n",
    "\n"
   ]
  },
  {
   "cell_type": "markdown",
   "metadata": {},
   "source": [
    "**4b.** This chart is messy (and you should make better plots for your project). While there are better ways we can show this data, what conclusions can you draw from just your basic plot?"
   ]
  },
  {
   "cell_type": "markdown",
   "metadata": {
    "deletable": false,
    "nbgrader": {
     "checksum": "010f5de5f6af4c7f830d1cf7a81bbc0f",
     "grade": true,
     "grade_id": "cell-5617179133b06d0c",
     "locked": false,
     "points": 0,
     "schema_version": 1,
     "solution": true
    }
   },
   "source": [
    "- 4b YOUR ANSWER HERE\n",
    "\n",
    "- Most of the contributions happened between 2015-04 and 2016-04\n",
    "- Several contribution amounts were around $5000\n",
    "- Higest contribution amounts were aroud $10,000\n",
    "- There was one refund around the amount -$10,000\n",
    "- Majority of the refund amount was around -$2500\n",
    "\n",
    "\n"
   ]
  },
  {
   "cell_type": "markdown",
   "metadata": {},
   "source": [
    "**4c.** Brainstorm: If you were going to improve on this plot looking at donations over time, what could you display that would be more useful? You do not need to do any plotting for this question."
   ]
  },
  {
   "cell_type": "markdown",
   "metadata": {
    "deletable": false,
    "nbgrader": {
     "checksum": "6dc1481a003cdd752c5edfa9ac400879",
     "grade": true,
     "grade_id": "cell-f7a01ce9c5b10ac7",
     "locked": false,
     "points": 0,
     "schema_version": 1,
     "solution": true
    }
   },
   "source": [
    "- 4c YOUR ANSWER HERE\n",
    "\n",
    "- It would be interesting to see cumulative contribution amount over time\n",
    "- We could also plot different candidates contributions over the period of time\n",
    "- Also interesting to see what week day people contributed the most to least\n"
   ]
  },
  {
   "cell_type": "markdown",
   "metadata": {},
   "source": [
    "## If you have feedback for this homework, please submit it using the link below:\n",
    "\n",
    "http://goo.gl/forms/74yCiQTf6k"
   ]
  }
 ],
 "metadata": {
  "kernelspec": {
   "display_name": "Python 3",
   "language": "python",
   "name": "python3"
  },
  "language_info": {
   "codemirror_mode": {
    "name": "ipython",
    "version": 3
   },
   "file_extension": ".py",
   "mimetype": "text/x-python",
   "name": "python",
   "nbconvert_exporter": "python",
   "pygments_lexer": "ipython3",
   "version": "3.6.3"
  }
 },
 "nbformat": 4,
 "nbformat_minor": 2
}
