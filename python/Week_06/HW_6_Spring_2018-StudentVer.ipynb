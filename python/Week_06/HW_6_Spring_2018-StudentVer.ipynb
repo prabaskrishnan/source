{
 "cells": [
  {
   "cell_type": "markdown",
   "metadata": {
    "nbgrader": {
     "grade": false,
     "grade_id": "cell-6fb5624c32e80300",
     "locked": true,
     "schema_version": 1,
     "solution": false
    }
   },
   "source": [
    "## Week 6 Assignment - W200 MIDS Python\n",
    "\n",
    "Assignment due date: 11:59PM PST the night before the week 7 live session."
   ]
  },
  {
   "cell_type": "markdown",
   "metadata": {
    "nbgrader": {
     "grade": false,
     "grade_id": "cell-95bff42b3e3206d9",
     "locked": true,
     "schema_version": 1,
     "solution": false
    }
   },
   "source": [
    "# Part 1 Coding practice **reading and response**\n",
    "\n",
    "Your task for this week is to write a 250-word reading response to the article below. In addition, please list **3 questions** that you have from the article. Please write your response in a markdown cell, below this cell in the notebook.\n",
    "\n",
    "The writing response is a free response, so you may write about your reactions, an interesting thing that you saw in the article, something that really stuck out to you, etc.\n",
    "\n",
    "**Article**: [The PEP 8 Style Guide](https://www.python.org/dev/peps/pep-0008/#overriding-principle). This document is really important for Python coders because it describes best practices and customs for how one should write Python code. Please read it all and prepare your questions for class."
   ]
  },
  {
   "cell_type": "markdown",
   "metadata": {
    "nbgrader": {
     "grade": true,
     "grade_id": "cell-c4a1546ee8708c36",
     "locked": false,
     "points": 20,
     "schema_version": 1,
     "solution": true
    }
   },
   "source": [
    "#  PEP 8 Style Guide\n",
    "-Praba Santhanakrishnan\n",
    "\n",
    "First of all, it is very interesting to see so many people contributed to Python Enhancement Proposals.  Some great observations including the guidelines for importing. Especially the order in which the imports are grouped (Standard, Related Third Party and the local/Library specific imports). After reading this, I got the clarity on what type of imports to do. (Absolute imports are recommended) , I think it might have performance improvements to because of loading only the absolute packages that are required. \n",
    "\n",
    "Good point on updating the comment when the code changes, this has been an historic issue when it comes to debugging or investigating a production bug when the comments do not reflect the actual code and mislead the developers.\n",
    "Interesting observation - Python guidelines recommend using “_” (underscore) a lot more than in any other languages in the naming conventions.  Also, important to note the differences between Python2 versus Python3. (For example: raise ValueError, ‘message’ which is not legal in Python 3\n",
    "\n",
    "Great to understand the viewpoint on writing code that doesn’t break for different Python implementations. I always used = operator for comparing singletons like None instead of recommended is or is not. Also good suggestion on not relying on the except: for everything in the exception handlers and catching using the types of exceptions as much as possible. Naturally everyone tends to pack as much code in the try clause so that you don’t have to too many try clauses and catch as many exceptions in just a few try clauses. Good recommendation on avoiding these practices.\n",
    "\n",
    "\n",
    "1. Is there an editor that can warn the user if the PEP 8 Style Guide is not followed?\n",
    "2. What is the preference or recommendations on when to use dunder names or not?\n",
    "3. What is the recommendation/Guidelines on creating pacakages and its conventions?\n",
    "\n",
    "\n",
    "\n"
   ]
  },
  {
   "cell_type": "markdown",
   "metadata": {
    "nbgrader": {
     "grade": false,
     "grade_id": "cell-b2e42667c46be103",
     "locked": true,
     "schema_version": 1,
     "solution": false
    }
   },
   "source": [
    "# Part 2  - Cheating at Scrabble\n",
    "\n",
    "Write a Python script that takes a Scrabble rack **as a command-line argument** and prints all valid Scrabble words that can be constructed from that rack, along with their Scrabble scores, sorted by score. Valid Scrabble words are provided in the data source below.  A Scrabble rack is made up of any 7 characters.\n",
    "\n",
    "\n",
    "## There are a few of requirements:\n",
    "\n",
    "- This needs to be able to be **run as a command line tool** as you'll see below.\n",
    "\n",
    "\n",
    "- We will use the code embedded in the notebook to test your code, if you do the extra credit give us a similar line to test the extra credit functionality\n",
    "\n",
    "- Put comments in your code and docstrings in the functions as described in the PEP8 Style Guide above.\n",
    "\n",
    "- Please include a function called `score_word` in a separate module.  Import this function into your main solution code.\n",
    "\n",
    "- You need to handle input errors from the user and suggest what that error might be caused by (helpful error messages).\n",
    "\n",
    "- Implement wildcards as either `*` or `?`. That is, let the user specify a wildcard character that can take any value. There can be a total of two wild cards in any user input (one of each character).\n",
    "\n",
    "Runtime - should run in a reasonable amount of time (single digit minutes or seconds)\n",
    "You can use a pre-processed dictionary if this makes sense to you\n",
    "\n",
    "\n",
    "## Extra Credit (+10 points):\n",
    "\n",
    "- Allow a user to specify that a certain letter has to be at a certain location. Your program must work without it so this should be completely optional. For the extra credit, locations of certain letters must be specified at the command line, **it may not be some sort of user prompt.**\n",
    "\n",
    "\n",
    "## Example \n",
    "An example invocation and output:\n",
    "\n",
    "```sh\n",
    "$ python scrabble.py ZAEFIEE\n",
    "17 feeze\n",
    "17 feaze\n",
    "16 faze\n",
    "15 fiz\n",
    "15 fez\n",
    "12 zee\n",
    "12 zea\n",
    "11 za\n",
    "6 fie\n",
    "6 fee\n",
    "6 fae\n",
    "5 if\n",
    "5 fe\n",
    "5 fa\n",
    "5 ef\n",
    "2 ee\n",
    "2 ea\n",
    "2 ai\n",
    "2 ae\n",
    "```\n",
    "\n",
    "\n",
    "## The Data\n",
    "http://courses.cms.caltech.edu/cs11/material/advjava/lab1/sowpods.zip contains all words in the official SOWPODS word list, one word per line. You should download the word file and keep it in your repository so that the program is standalone (instead of accessing it over the web from Python).\n",
    "\n",
    "You can read data from a text file with the following code:\n",
    "```python\n",
    "with open(\"sowpods.txt\",\"r\") as infile:\n",
    "    raw_input = infile.readlines()\n",
    "    data = [datum.strip('\\n') for datum in raw_input]\n",
    "print(data[0:6])\n",
    "``` \n",
    "\n",
    "\n",
    "\n",
    "Here is a dictionary containing all letters and their Scrabble values:\n",
    "```python\n",
    "scores = {\"a\": 1, \"c\": 3, \"b\": 3, \"e\": 1, \"d\": 2, \"g\": 2,\n",
    "         \"f\": 4, \"i\": 1, \"h\": 4, \"k\": 5, \"j\": 8, \"m\": 3,\n",
    "         \"l\": 1, \"o\": 1, \"n\": 1, \"q\": 10, \"p\": 3, \"s\": 1,\n",
    "         \"r\": 1, \"u\": 1, \"t\": 1, \"w\": 4, \"v\": 4, \"y\": 4,\n",
    "         \"x\": 8, \"z\": 10}\n",
    "``` \n",
    "\n",
    "## Tips\n",
    "We recommend that you work on this and try to break down the problems into steps on your own before writing any code. Once you've scoped generally what you want to do, start writing some code and if you get stuck, take a step back and go back to thinking about the problem rather than trying to fix lots of errors at the code level. You should only use the Python standard library in this assignment, however any tool in the Python standard library is fair game.\n",
    "\n",
    "## Tips Part 2\n",
    "If you keep getting stuck check out: https://openhatch.org/wiki/Scrabble_challenge. This is where we got the idea for this assignment and it provides some helpful tips for guiding you along the way. If that link doesn't work you can use the [google cached version here](http://webcache.googleusercontent.com/search?q=cache:https://openhatch.org/wiki/Scrabble_challenge). However, we would sincerely recommend that you try to implement this first yourself before looking at the hints on the website.\n",
    "\n",
    "Good luck!\n",
    " "
   ]
  },
  {
   "cell_type": "markdown",
   "metadata": {},
   "source": [
    "### The code below will test your command line implementation of the scrabble.py code. Some of these tests are available for you to try.\n"
   ]
  },
  {
   "cell_type": "code",
   "execution_count": 8,
   "metadata": {
    "collapsed": true
   },
   "outputs": [],
   "source": [
    "\n",
    "import subprocess\n",
    "from nose.tools import assert_equal \n",
    "from nose.tools import assert_true\n",
    "from nose.tools import assert_greater\n",
    "from nose.tools import assert_less\n"
   ]
  },
  {
   "cell_type": "code",
   "execution_count": 9,
   "metadata": {
    "nbgrader": {
     "grade": true,
     "grade_id": "cell-6cb374b4f427be46",
     "locked": false,
     "points": 20,
     "schema_version": 1,
     "solution": true
    }
   },
   "outputs": [
    {
     "name": "stdout",
     "output_type": "stream",
     "text": [
      "Please pass valid argument.\n"
     ]
    }
   ],
   "source": [
    "\"\"\" This code should tell us we need a rack and there should be reasonable error anticipation \"\"\"\n",
    "# no rack error\n",
    "!python scrabble.py  \n",
    "\n",
    "### BEGIN HIDDEN TESTS \n",
    "### END HIDDEN TESTS"
   ]
  },
  {
   "cell_type": "code",
   "execution_count": 10,
   "metadata": {
    "nbgrader": {
     "grade": true,
     "grade_id": "cell-679eb0dae15dccd4",
     "locked": false,
     "points": 0,
     "schema_version": 1,
     "solution": true
    }
   },
   "outputs": [
    {
     "name": "stdout",
     "output_type": "stream",
     "text": [
      "[('PENGUIN', 10), ('PENING', 9), ('GENIP', 8), ('UNPEG', 8), ('INGENU', 7), ('PENNI', 7), ('PING', 7), ('PUNG', 7), ('UNPEN', 7), ('UNPIN', 7), ('GIP', 6), ('GUP', 6), ('PEG', 6), ('PEIN', 6), ('PENI', 6), ('PIG', 6), ('PINE', 6), ('PUG', 6), ('ENNUI', 5), ('GENU', 5), ('GIEN', 5), ('GINN', 5), ('NEP', 5), ('NIP', 5), ('PEN', 5), ('PIE', 5), ('PIN', 5), ('PIU', 5), ('PUN', 5), ('ENG', 4), ('GEN', 4), ('GIE', 4), ('GIN', 4), ('GNU', 4), ('GUE', 4), ('GUN', 4), ('NEG', 4), ('NINE', 4), ('PE', 4), ('PI', 4), ('UP', 4), ('GI', 3), ('GU', 3), ('INN', 3), ('NIE', 3), ('NUN', 3), ('UG', 3), ('UNI', 3), ('EN', 2), ('IN', 2), ('NE', 2), ('NU', 2), ('UN', 2)]\n",
      "[('ZIZ', 21), ('JIZ', 19), ('ZEX', 19), ('PHENIX', 18), ('PHIZ', 18), ('JINX', 18), ('ZINKE', 18), ('BENZIN', 17), ('PIZED', 17), ('HIZEN', 17), ('WINZE', 17), ('WIZEN', 17), ('PYXIE', 17), ('ZINEB', 16), ('PEIZE', 16), ('ZEK', 16), ('MIZEN', 16), ('PIEZO', 16), ('EQUIP', 16), ('PIQUE', 16), ('PRIZE', 16), ('PIZES', 16), ('UNZIP', 16), ('PIXY', 16), ('ENZIAN', 15), ('PIZE', 15), ('BIZE', 15), ('ZINC', 15), ('DIZEN', 15), ('ENFIX', 15), ('FEZ', 15), ('FIZ', 15), ('JINK', 15), ('JIMP', 15), ('JENNY', 15), ('PINKEY', 15), ('MENINX', 15), ('QUEP', 15), ('QUIP', 15), ('PREZ', 15), ('ZEPS', 15), ('ZIPS', 15), ('VIXEN', 15), ('WIZ', 15), ('PYX', 15), ('AZINE', 14), ('ZAP', 14), ('ZEP', 14), ('ZIP', 14), ('BEZ', 14), ('BIZ', 14), ('XENIC', 14), ('ZING', 14), ('PIXIE', 14), ('PUNJI', 14), ('JIVE', 14), ('KIPPEN', 14), ('KEX', 14), ('PIKEY', 14), ('PINKY', 14), ('PIXEL', 14), ('MIXEN', 14), ('MIZ', 14), ('POZ', 14), ('QUINE', 14), ('PIXES', 14), ('ZEINS', 14), ('ZINES', 14), ('NIXY', 14), ('JAPE', 13), ('APEX', 13), ('NAZE', 13), ('NAZI', 13), ('ZEIN', 13), ('ZINE', 13), ('BENJ', 13), ('JIBE', 13), ('IBEX', 13), ('PHENIC', 13), ('DJINN', 13), ('PINKED', 13), ('INDEX', 13), ('NIXED', 13), ('ZED', 13), ('JEEP', 13), ('JINNEE', 13), ('PFENNIG', 13), ('FIX', 13), ('EXING', 13), ('ZIG', 13), ('HIPPEN', 13), ('HEX', 13), ('ENJOIN', 13), ('JUPE', 13), ('JEW', 13), ('PINKENS', 13), ('KYPE', 13), ('PLEX', 13), ('MINX', 13), ('EXPO', 13), ('ZONE', 13), ('WIPPEN', 13), ('QUIN', 13), ('PREX', 13), ('SIZE', 13), ('ZINS', 13), ('ZITE', 13), ('VEX', 13), ('WEX', 13), ('YEX', 13), ('JAP', 12), ('JINNE', 12), ('NINJA', 12), ('NAPKIN', 12), ('PINKEN', 12), ('ANNEX', 12), ('PAX', 12), ('PIX', 12), ('XENIA', 12), ('ZEA', 12), ('ZIN', 12), ('JIB', 12), ('PINCH', 12), ('PECK', 12), ('PICK', 12), ('DJIN', 12), ('JEDI', 12), ('PIKED', 12), ('EXINE', 12), ('ZEE', 12), ('KNIFE', 12), ('PYEING', 12), ('PYNING', 12), ('PHEW', 12), ('WHIP', 12), ('HYPE', 12), ('JINNI', 12), ('PINKIE', 12), ('NIXIE', 12), ('JINNS', 12), ('KIKE', 12), ('KINK', 12), ('KEMP', 12), ('KIPP', 12), ('PERKIN', 12), ('PINKER', 12), ('PEKINS', 12), ('PUNKIE', 12), ('PUNKIN', 12), ('KNIVE', 12), ('LEZ', 12), ('ZEL', 12), ('MIX', 12), ('POX', 12), ('XENON', 12), ('NIPPY', 12), ('QIS', 12), ('NIXER', 12), ('REZ', 12), ('RIZ', 12), ('NIXES', 12), ('SPINNEY', 12), ('SEZ', 12), ('ZIT', 12), ('PINNACE', 11), ('JANE', 11), ('JANN', 11), ('JEAN', 11), ('JINN', 11), ('PEKAN', 11), ('PEKIN', 11), ('QI', 11), ('NIXE', 11), ('ZA', 11), ('BICEP', 11), ('PINBONE', 11), ('CHIP', 11), ('PECH', 11), ('PYIC', 11), ('PENDING', 11), ('IMPEND', 11), ('NIPPED', 11), ('WIPED', 11), ('DEX', 11), ('PYNED', 11), ('FIKE', 11), ('FINK', 11), ('KIEF', 11), ('PERFIN', 11), ('FENNY', 11), ('FINNY', 11), ('JIG', 11), ('PIGPEN', 11), ('HIKE', 11), ('HEMP', 11), ('WHINE', 11), ('HENNY', 11), ('HINNY', 11), ('HYP', 11), ('PINYIN', 11), ('JEON', 11), ('JOIN', 11), ('JINS', 11), ('PLINK', 11), ('MINKE', 11), ('PINKO', 11), ('POKIE', 11), ('PIKER', 11), ('PRINK', 11), ('KEPIS', 11), ('KIPES', 11), ('PENKS', 11), ('PIKES', 11), ('PINKS', 11), ('SPIKE', 11), ('SPINK', 11), ('KNEW', 11), ('WINK', 11), ('INKY', 11), ('KYNE', 11), ('YIKE', 11), ('ILEX', 11), ('WIMP', 11), ('YMPE', 11), ('POWNIE', 11), ('EXON', 11), ('OXEN', 11), ('PINYON', 11), ('PIONEY', 11), ('ZO', 11), ('PIPY', 11), ('PINERY', 11), ('SPINNY', 11), ('EXIT', 11), ('NEXT', 11), ('VINEW', 11), ('VEINY', 11), ('WENNY', 11), ('WINEY', 11), ('APNEIC', 10), ('NEAPING', 10), ('PEANING', 10), ('JAI', 10), ('JIN', 10), ('KEPI', 10), ('KIPE', 10), ('KNAP', 10), ('PAIK', 10), ('PEAK', 10), ('PENK', 10), ('PIKA', 10), ('PIKE', 10), ('PINK', 10), ('PENMAN', 10), ('PIEMAN', 10), ('NAPPIE', 10), ('PAVEN', 10), ('PAVIN', 10), ('AXE', 10), ('NIX', 10), ('PENNY', 10), ('PINEY', 10), ('PINNY', 10), ('BIPED', 10), ('BIKE', 10), ('BINK', 10), ('KIBE', 10), ('BINMEN', 10), ('BENNY', 10), ('INBYE', 10), ('PICENE', 10), ('PIECEN', 10), ('CHINE', 10), ('NICHE', 10), ('PICINE', 10), ('NECK', 10), ('NICK', 10), ('PENCIL', 10), ('PINCER', 10), ('PRINCE', 10), ('INCEPT', 10), ('PECTIN', 10), ('PEINCT', 10), ('WINCE', 10), ('YINCE', 10), ('PENNIED', 10), ('FINNED', 10), ('PINGED', 10), ('INKED', 10), ('IMPED', 10), ('PINNOED', 10), ('PIPED', 10), ('ENWIND', 10), ('WINNED', 10), ('DYNEIN', 10), ('PEENING', 10), ('PHENE', 10), ('JEE', 10), ('KEEP', 10), ('PEEK', 10), ('PEKE', 10), ('PENMEN', 10), ('PIEMEN', 10), ('FIEF', 10), ('FIFE', 10), ('NIFF', 10), ('KEF', 10), ('KIF', 10), ('PREIF', 10), ('PRIEF', 10), ('FIVE', 10), ('WIFE', 10), ('PEGH', 10), ('PEINING', 10), ('EKING', 10), ('PENNING', 10), ('OPENING', 10), ('PENGUIN', 10), ('NEWING', 10), ('KHI', 10), ('HEMIN', 10), ('PHEON', 10), ('PHONE', 10), ('UNHIP', 10), ('HIVE', 10), ('HEWN', 10), ('WHEN', 10), ('WHIN', 10), ('HYEN', 10), ('PIKI', 10), ('JOE', 10), ('JET', 10), ('JEU', 10), ('JUN', 10), ('ENLINK', 10), ('KELP', 10), ('KILP', 10), ('MIKE', 10), ('MINK', 10), ('KINONE', 10), ('KNOP', 10), ('POKE', 10), ('PONK', 10), ('PERK', 10), ('KEPS', 10), ('KIPS', 10), ('SKEP', 10), ('SKIP', 10), ('SPEK', 10), ('SPIK', 10), ('KEPT', 10), ('PUKE', 10), ('PUNK', 10), ('EWK', 10), ('KEY', 10), ('KYE', 10), ('LIPPEN', 10), ('NIPPLE', 10), ('LEX', 10), ('IMPONE', 10), ('PIMP', 10), ('MISPEN', 10), ('PIMENT', 10), ('PITMEN', 10), ('VIMEN', 10), ('MEINY', 10), ('MINNY', 10), ('PEPINO', 10), ('POWIN', 10), ('EXO', 10), ('NOX', 10), ('PEONY', 10), ('PIONY', 10), ('PIOYE', 10), ('PONEY', 10), ('NIPPER', 10), ('PEPSIN', 10), ('VIPER', 10), ('WIPER', 10), ('REX', 10), ('SWIPE', 10), ('WIPES', 10), ('SEX', 10), ('SIX', 10), ('XIS', 10), ('PYINS', 10), ('PYNES', 10), ('SNIPY', 10), ('SPINY', 10), ('YIPES', 10), ('PEWIT', 10), ('TEX', 10), ('TIX', 10), ('PIETY', 10), ('PUNNY', 10), ('VIVE', 10), ('VIEW', 10), ('WIVE', 10), ('ENVY', 10), ('VINY', 10), ('WINY', 10), ('WYNN', 10), ('PANCE', 9), ('PANIC', 9), ('PECAN', 9), ('PAINED', 9), ('PANNED', 9), ('PINDAN', 9), ('PINNED', 9), ('FAINNE', 9), ('NAPING', 9), ('PANGEN', 9), ('PANING', 9), ('PENANG', 9), ('PENING', 9), ('PINANG', 9), ('EPHA', 9), ('HEAP', 9), ('JA', 9), ('KEP', 9), ('KIP', 9), ('PANIM', 9), ('NAPPE', 9), ('PANNIER', 9), ('PANTINE', 9), ('PINNATE', 9), ('PAVE', 9), ('PAWN', 9), ('WIPE', 9), ('AX', 9), ('EX', 9), ('XI', 9), ('PINY', 9), ('PYIN', 9), ('PYNE', 9), ('YIPE', 9), ('BINNED', 9), ('BENIGN', 9), ('KEB', 9), ('VIBE', 9), ('INBY', 9), ('PENCE', 9), ('PIECE', 9), ('FICE', 9), ('CHIN', 9), ('INCH', 9), ('ICK', 9), ('CLIPE', 9), ('MINCE', 9), ('COPEN', 9), ('PONCE', 9), ('CRIPE', 9), ('PRICE', 9), ('EPICS', 9), ('SEPIC', 9), ('SPICE', 9), ('PUNCE', 9), ('CIVE', 9), ('VICE', 9), ('WICE', 9), ('PEINED', 9), ('PENNED', 9), ('FIEND', 9), ('FINED', 9), ('DIKE', 9), ('DINK', 9), ('KIND', 9), ('DIMP', 9), ('OPINED', 9), ('PIONED', 9), ('PONIED', 9), ('PINDER', 9), ('PIENDS', 9), ('SNIPED', 9), ('SPINED', 9), ('DIPNET', 9), ('PUNNED', 9), ('UNIPED', 9), ('VINED', 9), ('DWINE', 9), ('INDEW', 9), ('WIDEN', 9), ('WINED', 9), ('PEEING', 9), ('PENNINE', 9), ('PENNIES', 9), ('PINENES', 9), ('VEEP', 9), ('VENINE', 9), ('WEEP', 9), ('EFF', 9), ('IFF', 9), ('FEIGN', 9), ('FEH', 9), ('FLIP', 9), ('PELF', 9), ('FINNER', 9), ('SPIF', 9), ('PFUI', 9), ('UNFINE', 9), ('FEW', 9), ('FEY', 9), ('EHING', 9), ('HINGE', 9), ('NEIGH', 9), ('PIEING', 9), ('PINING', 9), ('GINK', 9), ('KING', 9), ('PINGLE', 9), ('GIMP', 9), ('MENING', 9), ('EPIGON', 9), ('PIGEON', 9), ('PINGER', 9), ('GENIPS', 9), ('GIPSEN', 9), ('GIVEN', 9), ('GWINE', 9), ('WINGE', 9), ('EYING', 9), ('GENNY', 9), ('GINNY', 9), ('GYNIE', 9), ('GYP', 9), ('NYING', 9), ('HEH', 9), ('HELP', 9), ('HENNIN', 9), ('HOPE', 9), ('PHON', 9), ('HEPS', 9), ('HESP', 9), ('HIPS', 9), ('PEHS', 9), ('PHIS', 9), ('PISH', 9), ('SHINNE', 9), ('SHIP', 9), ('HEPT', 9), ('HIPT', 9), ('PITH', 9), ('HEW', 9), ('HEY', 9), ('HYE', 9), ('YEH', 9), ('KININ', 9), ('NINEPIN', 9), ('PINNIES', 9), ('JO', 9), ('INKLE', 9), ('LIKEN', 9), ('EIKON', 9), ('ENOKI', 9), ('KOINE', 9), ('KOP', 9), ('INKER', 9), ('REINK', 9), ('KINES', 9), ('SKEIN', 9), ('KY', 9), ('PENNILL', 9), ('IMPEL', 9), ('PINNULE', 9), ('PLEW', 9), ('WINNLE', 9), ('LINENY', 9), ('LINNEY', 9), ('PILY', 9), ('YELP', 9), ('PRIME', 9), ('NIMPS', 9), ('NEMPT', 9), ('TEMPI', 9), ('PUMIE', 9), ('UMPIE', 9), ('MINY', 9), ('IPPON', 9), ('PENSION', 9), ('PINONES', 9), ('SPINONE', 9), ('PONTINE', 9), ('POWN', 9), ('OX', 9), ('PIOY', 9), ('PONY', 9), ('YONNIE', 9), ('PIPER', 9), ('PIPES', 9), ('PIPET', 9), ('PINUP', 9), ('PINNERS', 9), ('SPINNER', 9), ('ENPRINT', 9), ('PUNNIER', 9), ('PERV', 9), ('WINNER', 9), ('PREY', 9), ('PYRE', 9), ('RYPE', 9), ('PINNETS', 9), ('SPINNET', 9), ('TENPINS', 9), ('SPIV', 9), ('VENINS', 9), ('PEWS', 9), ('SPEW', 9), ('WISP', 9), ('ESPY', 9), ('PYES', 9), ('SYPE', 9), ('YEPS', 9), ('YIPS', 9), ('INVENT', 9), ('WEPT', 9), ('NINETY', 9), ('PITY', 9), ('PYET', 9), ('TYPE', 9), ('XU', 9), ('PUNY', 9), ('IVY', 9), ('WEY', 9), ('WYE', 9), ('WYN', 9), ('YEW', 9), ('PENNIA', 8), ('PINNAE', 8), ('PEBA', 8), ('CANINE', 8), ('CANNIE', 8), ('CAPE', 8), ('CAPI', 8), ('ENCINA', 8), ('EPIC', 8), ('NEANIC', 8), ('PACE', 8), ('PICA', 8), ('PICE', 8), ('NAPED', 8), ('PANED', 8), ('PIEND', 8), ('PINED', 8), ('PENNAE', 8), ('PINENE', 8), ('FAINE', 8), ('FAP', 8), ('APING', 8), ('GENIP', 8), ('HAP', 8), ('HENNA', 8), ('HEP', 8), ('HIP', 8), ('PAH', 8), ('PEH', 8), ('PHI', 8), ('PANINI', 8), ('PINNIE', 8), ('AKIN', 8), ('IKAN', 8), ('KAIE', 8), ('KAIN', 8), ('KANE', 8), ('KINA', 8), ('KINE', 8), ('NAIK', 8), ('ALPINE', 8), ('PENIAL', 8), ('PENNAL', 8), ('PINEAL', 8), ('PINNAL', 8), ('PIMA', 8), ('PANINO', 8), ('PAPE', 8), ('PIPA', 8), ('PIPE', 8), ('PANIER', 8), ('PANNER', 8), ('PINNER', 8), ('RAPINE', 8), ('ASPINE', 8), ('INSPAN', 8), ('PANNES', 8), ('PENNIS', 8), ('PINNAS', 8), ('SPINAE', 8), ('PANTIE', 8), ('PATINE', 8), ('PINETA', 8), ('PINNET', 8), ('TENPIN', 8), ('AVINE', 8), ('NAEVI', 8), ('NAIVE', 8), ('PAV', 8), ('VENIN', 8), ('PAW', 8), ('PEW', 8), ('WAP', 8), ('WINNA', 8), ('PAY', 8), ('PYA', 8), ('PYE', 8), ('YAP', 8), ('YEP', 8), ('YIP', 8), ('BICE', 8), ('BEEP', 8), ('FIB', 8), ('BEGIN', 8), ('BEING', 8), ('BINGE', 8), ('BLIP', 8), ('PLEB', 8), ('NIMB', 8), ('BOEP', 8), ('BONNIE', 8), ('BENNIS', 8), ('INBENT', 8), ('PUBE', 8), ('WEB', 8), ('BEY', 8), ('BYE', 8), ('CEPE', 8), ('GENIC', 8), ('CHE', 8), ('CHI', 8), ('ECH', 8), ('HIC', 8), ('ICH', 8), ('CLIP', 8), ('EMIC', 8), ('MICE', 8), ('CONINE', 8), ('COPE', 8), ('CEPS', 8), ('PECS', 8), ('PICS', 8), ('SPEC', 8), ('SPIC', 8), ('INCENT', 8), ('PUCE', 8), ('ICY', 8), ('DINNED', 8), ('PENED', 8), ('DEFI', 8), ('DEIF', 8), ('FEND', 8), ('FIND', 8), ('ENDING', 8), ('GINNED', 8), ('HEID', 8), ('HEND', 8), ('HIDE', 8), ('HIED', 8), ('HIND', 8), ('KED', 8), ('KID', 8), ('LEPID', 8), ('PILED', 8), ('PLIED', 8), ('DENIM', 8), ('MINED', 8), ('POIND', 8), ('PRIDE', 8), ('PRIED', 8), ('REDIP', 8), ('RIPED', 8), ('PENDS', 8), ('SIPED', 8), ('SPEND', 8), ('SPIDE', 8), ('SPIED', 8), ('TEPID', 8), ('PENDU', 8), ('UPEND', 8), ('DIVE', 8), ('VEND', 8), ('VIDE', 8), ('VIED', 8), ('WEID', 8), ('WEND', 8), ('WIDE', 8), ('WIND', 8), ('DENY', 8), ('DYNE', 8), ('NYED', 8), ('KEEN', 8), ('KNEE', 8), ('PENILE', 8), ('PEEP', 8), ('PENNER', 8), ('REPINE', 8), ('PENIES', 8), ('PENNES', 8), ('NEIVE', 8), ('NIEVE', 8), ('NEWIE', 8), ('ELFIN', 8), ('FEM', 8), ('FOP', 8), ('FINER', 8), ('INFER', 8), ('FENIS', 8), ('FINES', 8), ('NEIFS', 8), ('NIEFS', 8), ('NIFES', 8), ('FEINT', 8), ('FIENT', 8), ('FY', 8), ('HING', 8), ('NIGH', 8), ('PIING', 8), ('KEG', 8), ('PLING', 8), ('MINGE', 8), ('GIPON', 8), ('OPING', 8), ('PENGO', 8), ('PINGO', 8), ('GRIPE', 8), ('PINGS', 8), ('UNPEG', 8), ('GIVE', 8), ('WING', 8), ('HEM', 8), ('HIM', 8), ('HOP', 8), ('PHO', 8), ('POH', 8), ('RHINE', 8), ('SHINE', 8), ('NINTH', 8), ('PHT', 8), ('THEIN', 8), ('THINE', 8), ('HUP', 8), ('PUH', 8), ('IMPI', 8), ('MINNIE', 8), ('PINION', 8), ('PIPI', 8), ('PINIER', 8), ('PIRNIE', 8), ('PINIES', 8), ('PINITE', 8), ('TIEPIN', 8), ('KILN', 8), ('LIKE', 8), ('LINK', 8), ('IKON', 8), ('KENO', 8), ('KINO', 8), ('OINK', 8), ('KEIR', 8), ('KERN', 8), ('KIER', 8), ('KIRN', 8), ('NERK', 8), ('REIK', 8), ('RENK', 8), ('RINK', 8), ('EIKS', 8), ('INKS', 8), ('KENS', 8), ('KINS', 8), ('NEKS', 8), ('SEIK', 8), ('SIKE', 8), ('SINK', 8), ('SKEN', 8), ('SKIN', 8), ('KENT', 8), ('KITE', 8), ('KNIT', 8), ('TIKE', 8), ('TINK', 8), ('KUNE', 8), ('NEUK', 8), ('NUKE', 8), ('PENILL', 8), ('LIMP', 8), ('PLIM', 8), ('LOIPEN', 8), ('PINOLE', 8), ('PENSIL', 8), ('SPINEL', 8), ('SPLINE', 8), ('LEPTIN', 8), ('PINTLE', 8), ('LINEUP', 8), ('LUPINE', 8), ('UNPILE', 8), ('LEVIN', 8), ('LIVEN', 8), ('LINEY', 8), ('LINNY', 8), ('PLY', 8), ('MIME', 8), ('MOPE', 8), ('POEM', 8), ('POME', 8), ('PERM', 8), ('PREM', 8), ('PRIM', 8), ('IMPS', 8), ('MIPS', 8), ('SIMP', 8), ('SPIM', 8), ('EMPT', 8), ('TEMP', 8), ('TINMEN', 8), ('PIUM', 8), ('VIM', 8), ('MEW', 8), ('WEM', 8), ('PENNON', 8), ('NINNY', 8), ('PEPO', 8), ('POEP', 8), ('POPE', 8), ('ORPINE', 8), ('PERNIO', 8), ('PIONER', 8), ('PROINE', 8), ('OPINES', 8), ('PINONS', 8), ('PONIES', 8), ('POINTE', 8), ('PONENT', 8), ('PONTIE', 8), ('UNOPEN', 8), ('ENVOI', 8), ('OVINE', 8), ('POW', 8), ('WOP', 8), ('PERP', 8), ('PREP', 8), ('REPP', 8), ('RIPP', 8), ('PEPS', 8), ('PIPS', 8), ('REPINS', 8), ('RIPENS', 8), ('SNIPER', 8), ('NIPTER', 8), ('PTERIN', 8), ('PRUINE', 8), ('PUNIER', 8), ('PUNNER', 8), ('PURINE', 8), ('UNRIPE', 8), ('RIVEN', 8), ('VINER', 8), ('REWIN', 8), ('PRY', 8), ('SNIPES', 8), ('SPINES', 8), ('INSTEP', 8), ('NEPITS', 8), ('SPINET', 8), ('PUISNE', 8), ('SUPINE', 8), ('UNPENS', 8), ('UNPINS', 8), ('VEINS', 8), ('VINES', 8), ('VISNE', 8), ('SEWIN', 8), ('SINEW', 8), ('SWINE', 8), ('WINES', 8), ('WINNS', 8), ('SPY', 8), ('PITTEN', 8), ('PUNNET', 8), ('UNPENT', 8), ('TWINE', 8), ('TWP', 8), ('TENNY', 8), ('TINNY', 8), ('PUY', 8), ('YUP', 8), ('APIAN', 7), ('APNEA', 7), ('PAEAN', 7), ('PANNE', 7), ('PENNA', 7), ('PENNI', 7), ('PINNA', 7), ('BAP', 7), ('BENNI', 7), ('CAP', 7), ('CEP', 7), ('ENIAC', 7), ('NANCE', 7), ('PAC', 7), ('PEC', 7), ('PIC', 7), ('APED', 7), ('PADI', 7), ('PAID', 7), ('PAND', 7), ('PEND', 7), ('PIED', 7), ('PENIE', 7), ('PENNE', 7), ('FAIN', 7), ('FANE', 7), ('FENI', 7), ('FINE', 7), ('NAIF', 7), ('NEIF', 7), ('NIEF', 7), ('NIFE', 7), ('EANING', 7), ('GAPE', 7), ('INNAGE', 7), ('PAGE', 7), ('PANG', 7), ('PEAG', 7), ('PING', 7), ('HAEN', 7), ('HAIN', 7), ('AKE', 7), ('EIK', 7), ('INK', 7), ('KAE', 7), ('KAI', 7), ('KEA', 7), ('KEN', 7), ('KIN', 7), ('NEK', 7), ('LAPIN', 7), ('PANEL', 7), ('PENAL', 7), ('PILEA', 7), ('PLAIN', 7), ('PLANE', 7), ('PLENA', 7), ('AMINE', 7), ('AMP', 7), ('ANIME', 7), ('IMP', 7), ('MAP', 7), ('MINAE', 7), ('PAM', 7), ('OPINE', 7), ('PAEON', 7), ('PIANO', 7), ('PINON', 7), ('APP', 7), ('PAP', 7), ('PEP', 7), ('PIP', 7), ('ARPEN', 7), ('PAIRE', 7), ('PERAI', 7), ('REPIN', 7), ('RIPEN', 7), ('ASPEN', 7), ('NAPES', 7), ('NEAPS', 7), ('NIPAS', 7), ('PAINS', 7), ('PAISE', 7), ('PANES', 7), ('PEANS', 7), ('PEINS', 7), ('PENIS', 7), ('PIANS', 7), ('PINAS', 7), ('PINES', 7), ('SEPIA', 7), ('SNEAP', 7), ('SNIPE', 7), ('SPAIN', 7), ('SPANE', 7), ('SPEAN', 7), ('SPINA', 7), ('SPINE', 7), ('INAPT', 7), ('INEPT', 7), ('NEPIT', 7), ('PAINT', 7), ('PATEN', 7), ('PATIN', 7), ('PIETA', 7), ('PINTA', 7), ('TAPEN', 7), ('UNPEN', 7), ('UNPIN', 7), ('NAVE', 7), ('NEVI', 7), ('VAIN', 7), ('VANE', 7), ('VEIN', 7), ('VENA', 7), ('VIAE', 7), ('VINA', 7), ('VINE', 7), ('ANEW', 7), ('WAIN', 7), ('WANE', 7), ('WEAN', 7), ('WENA', 7), ('WINE', 7), ('WINN', 7), ('AYIN', 7), ('YEAN', 7), ('BIB', 7), ('EBB', 7), ('BEND', 7), ('BIDE', 7), ('BIND', 7), ('DIEB', 7), ('BENNE', 7), ('BING', 7), ('GIBE', 7), ('MIB', 7), ('BONIE', 7), ('BONNE', 7), ('BOP', 7), ('BINER', 7), ('BRINE', 7), ('BENIS', 7), ('BINES', 7), ('PUB', 7), ('BY', 7), ('CEDI', 7), ('CIDE', 7), ('DICE', 7), ('ICED', 7), ('NIECE', 7), ('CH', 7), ('CLINE', 7), ('INCLE', 7), ('MIC', 7), ('CONIN', 7), ('CONNE', 7), ('COP', 7), ('NONCE', 7), ('CRINE', 7), ('NICER', 7), ('CINES', 7), ('SINCE', 7), ('CUNEI', 7), ('CUP', 7), ('DINED', 7), ('NIDED', 7), ('DEEP', 7), ('INDENE', 7), ('PEED', 7), ('DEF', 7), ('DIF', 7), ('FED', 7), ('FID', 7), ('DEIGN', 7), ('DINGE', 7), ('EDH', 7), ('HID', 7), ('DINNLE', 7), ('LINDEN', 7), ('LINNED', 7), ('PLED', 7), ('DIME', 7), ('IDEM', 7), ('MEND', 7), ('MIND', 7), ('DOPE', 7), ('ONDINE', 7), ('OPED', 7), ('POND', 7), ('DINNER', 7), ('DRIP', 7), ('ENDRIN', 7), ('DIPS', 7), ('PEDS', 7), ('SINNED', 7), ('SPED', 7), ('DENTIN', 7), ('DIPT', 7), ('INDENT', 7), ('INTEND', 7), ('TINNED', 7), ('DUPE', 7), ('UNDINE', 7), ('DEV', 7), ('DIV', 7), ('VID', 7), ('DEW', 7), ('WED', 7), ('DEY', 7), ('DYE', 7), ('YID', 7), ('FEEN', 7), ('ENGINE', 7), ('GEEP', 7), ('EEK', 7), ('EKE', 7), ('NEPER', 7), ('PREEN', 7), ('NEEPS', 7), ('PEENS', 7), ('PEISE', 7), ('PENES', 7), ('EEVN', 7), ('EVEN', 7), ('NEVE', 7), ('ENEW', 7), ('WEEN', 7), ('EYEN', 7), ('EYNE', 7), ('FEG', 7), ('FIG', 7), ('GIF', 7), ('FINI', 7), ('FILE', 7), ('LIEF', 7), ('LIFE', 7), ('FINO', 7), ('FOEN', 7), ('FOIN', 7), ('FONE', 7), ('INFO', 7), ('FERN', 7), ('FIER', 7), ('FIRE', 7), ('FIRN', 7), ('REIF', 7), ('RIFE', 7), ('FEIS', 7), ('FENS', 7), ('FINS', 7), ('NEFS', 7), ('SEIF', 7), ('FENT', 7), ('ENUF', 7), ('GINGE', 7), ('GHI', 7), ('INGINE', 7), ('GINNEL', 7), ('MENG', 7), ('MING', 7), ('PONG', 7), ('ENRING', 7), ('ERNING', 7), ('GINNER', 7), ('GRIP', 7), ('PRIG', 7), ('ENSIGN', 7), ('GIPS', 7), ('PEGS', 7), ('PIGS', 7), ('INGENU', 7), ('PUNG', 7), ('VEG', 7), ('VIG', 7), ('WIG', 7), ('GEY', 7), ('ELHI', 7), ('HEIL', 7), ('HM', 7), ('HONE', 7), ('HEIR', 7), ('HERN', 7), ('HIRE', 7), ('EISH', 7), ('HENS', 7), ('HIES', 7), ('HINS', 7), ('HISN', 7), ('NESH', 7), ('NISH', 7), ('SHIN', 7), ('SINH', 7), ('HENT', 7), ('HINT', 7), ('THEN', 7), ('THIN', 7), ('LIPIN', 7), ('PILEI', 7), ('IMINE', 7), ('ELK', 7), ('ILK', 7), ('LEK', 7), ('KOI', 7), ('KON', 7), ('OIK', 7), ('OKE', 7), ('ERK', 7), ('IRK', 7), ('KIR', 7), ('KIS', 7), ('SIK', 7), ('SKI', 7), ('KET', 7), ('KIT', 7), ('EUK', 7), ('KUE', 7), ('UKE', 7), ('LIMEN', 7), ('LOIPE', 7), ('PELON', 7), ('PLEON', 7), ('PERIL', 7), ('PILER', 7), ('PLIER', 7), ('PILES', 7), ('PLIES', 7), ('SLIPE', 7), ('SPEIL', 7), ('SPIEL', 7), ('SPILE', 7), ('LUPIN', 7), ('EVIL', 7), ('LIVE', 7), ('VEIL', 7), ('VILE', 7), ('VLEI', 7), ('LWEI', 7), ('WEIL', 7), ('WIEL', 7), ('WILE', 7), ('INLY', 7), ('LINY', 7), ('LYNE', 7), ('MEM', 7), ('MIM', 7), ('MONIE', 7), ('MOP', 7), ('NOMEN', 7), ('POM', 7), ('INERM', 7), ('MINER', 7), ('MEINS', 7), ('MIENS', 7), ('MINES', 7), ('NEMNS', 7), ('MEINT', 7), ('NUMEN', 7), ('UMP', 7), ('MY', 7), ('POP', 7), ('ORPIN', 7), ('PRION', 7), ('PROIN', 7), ('PRONE', 7), ('OPENS', 7), ('OPSIN', 7), ('PEONS', 7), ('PIONS', 7), ('POISE', 7), ('PONES', 7), ('PSION', 7), ('SNOEP', 7), ('NETOP', 7), ('PINOT', 7), ('PINTO', 7), ('PITON', 7), ('POINT', 7), ('POTIN', 7), ('OVEN', 7), ('VINO', 7), ('ENOW', 7), ('NOWN', 7), ('WINO', 7), ('YONI', 7), ('PUP', 7), ('PRIER', 7), ('RIPER', 7), ('EPRIS', 7), ('PERIS', 7), ('PERNS', 7), ('PIERS', 7), ('PIRNS', 7), ('PRIES', 7), ('PRISE', 7), ('RIPES', 7), ('SPEIR', 7), ('SPIER', 7), ('SPIRE', 7), ('PIERT', 7), ('PRENT', 7), ('PRINT', 7), ('TRIPE', 7), ('PRUNE', 7), ('PURIN', 7), ('UNRIP', 7), ('RIVE', 7), ('VIER', 7), ('VIRE', 7), ('WEIR', 7), ('WIRE', 7), ('WREN', 7), ('RENY', 7), ('PISES', 7), ('SIPES', 7), ('SNIPS', 7), ('SPIES', 7), ('SPINS', 7), ('PENTS', 7), ('PIETS', 7), ('PINTS', 7), ('PISTE', 7), ('SPENT', 7), ('SPITE', 7), ('STIPE', 7), ('VIES', 7), ('VINS', 7), ('VISE', 7), ('NEWS', 7), ('SEWN', 7), ('WENS', 7), ('WINS', 7), ('WISE', 7), ('NYES', 7), ('SNYE', 7), ('SYEN', 7), ('SYNE', 7), ('YENS', 7), ('YINS', 7), ('PETIT', 7), ('PETTI', 7), ('INPUT', 7), ('UPTIE', 7), ('VENT', 7), ('VINT', 7), ('VITE', 7), ('NEWT', 7), ('TWIN', 7), ('WENT', 7), ('WITE', 7), ('TINY', 7), ('TYIN', 7), ('TYNE', 7), ('YETI', 7), ('YITE', 7), ('NAPA', 6), ('NAPE', 6), ('NEAP', 6), ('NIPA', 6), ('PAIN', 6), ('PANE', 6), ('PEAN', 6), ('PEIN', 6), ('PENI', 6), ('PIAN', 6), ('PINA', 6), ('PINE', 6), ('BANE', 6), ('BANI', 6), ('BEAN', 6), ('BEIN', 6), ('BENI', 6), ('BIEN', 6), ('BINE', 6), ('NABE', 6), ('ACNE', 6), ('ANCE', 6), ('CAIN', 6), ('CANE', 6), ('CANN', 6), ('CINE', 6), ('NICE', 6), ('DAINE', 6), ('DAP', 6), ('DINNA', 6), ('DIP', 6), ('INNED', 6), ('PAD', 6), ('PED', 6), ('NEEP', 6), ('PEEN', 6), ('PENE', 6), ('FAE', 6), ('FAN', 6), ('FEN', 6), ('FIE', 6), ('FIN', 6), ('NEF', 6), ('GAP', 6), ('GIP', 6), ('INGAN', 6), ('PEG', 6), ('PIG', 6), ('AHI', 6), ('HAE', 6), ('HAN', 6), ('HEN', 6), ('HIE', 6), ('HIN', 6), ('NAH', 6), ('KA', 6), ('KI', 6), ('LEAP', 6), ('LIPA', 6), ('LIPE', 6), ('PAIL', 6), ('PALE', 6), ('PEAL', 6), ('PELA', 6), ('PIAL', 6), ('PILA', 6), ('PILE', 6), ('PLAN', 6), ('PLEA', 6), ('PLIE', 6), ('AMEN', 6), ('AMIE', 6), ('AMIN', 6), ('MAIN', 6), ('MANE', 6), ('MANI', 6), ('MEAN', 6), ('MEIN', 6), ('MIEN', 6), ('MINA', 6), ('MINE', 6), ('NAME', 6), ('NEMA', 6), ('NEMN', 6), ('NANNIE', 6), ('EONIAN', 6), ('NOPE', 6), ('OPEN', 6), ('PEON', 6), ('PION', 6), ('PONE', 6), ('APER', 6), ('INANER', 6), ('NARINE', 6), ('PAIR', 6), ('PARE', 6), ('PEAR', 6), ('PERI', 6), ('PERN', 6), ('PIER', 6), ('PIRN', 6), ('RANINE', 6), ('RAPE', 6), ('REAP', 6), ('RIPE', 6), ('APES', 6), ('APSE', 6), ('INANES', 6), ('INSANE', 6), ('NAPS', 6), ('NEPS', 6), ('NIPS', 6), ('PAIS', 6), ('PANS', 6), ('PASE', 6), ('PEAS', 6), ('PENS', 6), ('PIAS', 6), ('PIES', 6), ('PINS', 6), ('PISE', 6), ('SANNIE', 6), ('SIENNA', 6), ('SIPE', 6), ('SNAP', 6), ('SNIP', 6), ('SPAE', 6), ('SPAN', 6), ('SPIE', 6), ('SPIN', 6), ('INNATE', 6), ('PANT', 6), ('PATE', 6), ('PEAT', 6), ('PENT', 6), ('PIET', 6), ('PINT', 6), ('PITA', 6), ('TANNIE', 6), ('TAPE', 6), ('TEPA', 6), ('PUNA', 6), ('AVE', 6), ('VAE', 6), ('VAN', 6), ('VIA', 6), ('VIE', 6), ('VIN', 6), ('AWE', 6), ('AWN', 6), ('NAW', 6), ('NEW', 6), ('WAE', 6), ('WAI', 6), ('WAN', 6), ('WEN', 6), ('WIN', 6), ('ANY', 6), ('AYE', 6), ('NAY', 6), ('NYE', 6), ('YAE', 6), ('YEA', 6), ('YEN', 6), ('YIN', 6), ('BED', 6), ('BID', 6), ('DEB', 6), ('DIB', 6), ('BEEN', 6), ('BENE', 6), ('BEG', 6), ('BIG', 6), ('GIB', 6), ('BILE', 6), ('BLIN', 6), ('BONE', 6), ('EBON', 6), ('BIER', 6), ('BREI', 6), ('BREN', 6), ('BRIE', 6), ('BRIN', 6), ('BENS', 6), ('BINS', 6), ('BISE', 6), ('NEBS', 6), ('NIBS', 6), ('SNEB', 6), ('SNIB', 6), ('BENT', 6), ('BINT', 6), ('BITE', 6), ('BUNN', 6), ('UNBE', 6), ('CID', 6), ('CIG', 6), ('CEIL', 6), ('CIEL', 6), ('LICE', 6), ('CION', 6), ('COIN', 6), ('CONE', 6), ('CONI', 6), ('CONN', 6), ('ICON', 6), ('ONCE', 6), ('CIRE', 6), ('ERIC', 6), ('ICER', 6), ('RICE', 6), ('CENS', 6), ('ICES', 6), ('SICE', 6), ('CENT', 6), ('CITE', 6), ('ETIC', 6), ('TICE', 6), ('UNCE', 6), ('UNCI', 6), ('DEID', 6), ('DIED', 6), ('DIENE', 6), ('DING', 6), ('GIED', 6), ('INDIE', 6), ('ELDIN', 6), ('LINED', 6), ('DIM', 6), ('MED', 6), ('MID', 6), ('DONNE', 6), ('DOP', 6), ('ONNED', 6), ('POD', 6), ('DINER', 6), ('DENIS', 6), ('DINES', 6), ('NIDES', 6), ('SDEIN', 6), ('SINED', 6), ('SNIDE', 6), ('IDENT', 6), ('TEIND', 6), ('TINED', 6), ('DUP', 6), ('INDUE', 6), ('NUDIE', 6), ('PUD', 6), ('EPEE', 6), ('FEE', 6), ('EIGNE', 6), ('GENIE', 6), ('NEINEI', 6), ('LEEP', 6), ('PEEL', 6), ('PELE', 6), ('MENE', 6), ('NEEM', 6), ('NERINE', 6), ('PEER', 6), ('PERE', 6), ('PREE', 6), ('PEES', 6), ('SEEP', 6), ('EVE', 6), ('VEE', 6), ('EWE', 6), ('WEE', 6), ('EYE', 6), ('ELF', 6), ('FIL', 6), ('FOE', 6), ('FON', 6), ('ERF', 6), ('FER', 6), ('FIR', 6), ('REF', 6), ('RIF', 6), ('EFS', 6), ('FES', 6), ('IFS', 6), ('SIF', 6), ('EFT', 6), ('FET', 6), ('FIT', 6), ('TEF', 6), ('FEU', 6), ('FUN', 6), ('GING', 6), ('GENII', 6), ('INGLE', 6), ('LIGNE', 6), ('GEM', 6), ('MEG', 6), ('MIG', 6), ('ENNOG', 6), ('ERING', 6), ('GREIN', 6), ('NIGER', 6), ('REIGN', 6), ('RENIG', 6), ('SEGNI', 6), ('SENGI', 6), ('SINGE', 6), ('TINGE', 6), ('GUP', 6), ('PUG', 6), ('HOE', 6), ('HOI', 6), ('HON', 6), ('NOH', 6), ('HER', 6), ('REH', 6), ('EHS', 6), ('HES', 6), ('HIS', 6), ('ISH', 6), ('SHE', 6), ('ETH', 6), ('HET', 6), ('HIT', 6), ('NTH', 6), ('THE', 6), ('HUE', 6), ('HUI', 6), ('HUN', 6), ('PILI', 6), ('MINI', 6), ('INTINE', 6), ('TINNIE', 6), ('TIPI', 6), ('IWI', 6), ('KO', 6), ('PELL', 6), ('PILL', 6), ('LIME', 6), ('LIMN', 6), ('MILE', 6), ('LIPO', 6), ('LOPE', 6), ('OLPE', 6), ('ONLINE', 6), ('POLE', 6), ('LERP', 6), ('PIRL', 6), ('LEPS', 6), ('LINENS', 6), ('LIPS', 6), ('LISP', 6), ('SLIP', 6), ('LEPT', 6), ('LINNET', 6), ('PELT', 6), ('PLUE', 6), ('PULE', 6), ('PULI', 6), ('UNLINE', 6), ('LEV', 6), ('LEW', 6), ('LEY', 6), ('LYE', 6), ('MM', 6), ('MENO', 6), ('MINO', 6), ('NOME', 6), ('OMEN', 6), ('EMIR', 6), ('MERI', 6), ('MIRE', 6), ('RIEM', 6), ('RIME', 6), ('MISE', 6), ('NIMS', 6), ('SEMI', 6), ('EMIT', 6), ('ITEM', 6), ('MENT', 6), ('MINT', 6), ('MITE', 6), ('TIME', 6), ('MENU', 6), ('MUNI', 6), ('NEUM', 6), ('RENNIN', 6), ('IONONE', 6), ('NOOP', 6), ('POON', 6), ('PORE', 6), ('PORN', 6), ('REPO', 6), ('RONNIE', 6), ('ROPE', 6), ('EPOS', 6), ('OPES', 6), ('PESO', 6), ('PISO', 6), ('POIS', 6), ('PONS', 6), ('POSE', 6), ('INTONE', 6), ('POET', 6), ('PONT', 6), ('POTE', 6), ('TOPE', 6), ('TOPI', 6), ('NOUP', 6), ('UPON', 6), ('EVO', 6), ('VOE', 6), ('NOW', 6), ('OWE', 6), ('OWN', 6), ('WOE', 6), ('WON', 6), ('NOY', 6), ('ONY', 6), ('OYE', 6), ('YON', 6), ('INNERS', 6), ('PIRS', 6), ('RENINS', 6), ('REPS', 6), ('RIPS', 6), ('RISP', 6), ('SINNER', 6), ('INTERN', 6), ('PERT', 6), ('RIPT', 6), ('TINNER', 6), ('TRIP', 6), ('PUER', 6), ('PUIR', 6), ('PURE', 6), ('PURI', 6), ('UNREIN', 6), ('REV', 6), ('REW', 6), ('RYE', 6), ('PISS', 6), ('PSIS', 6), ('SEPS', 6), ('SIPS', 6), ('PEST', 6), ('PETS', 6), ('PITS', 6), ('SENNIT', 6), ('SEPT', 6), ('SINNET', 6), ('SPET', 6), ('SPIT', 6), ('STEP', 6), ('TENNIS', 6), ('TIPS', 6), ('ENNUIS', 6), ('PUNS', 6), ('SPUE', 6), ('SPUN', 6), ('SUPE', 6), ('VIS', 6), ('SEW', 6), ('WIS', 6), ('NYS', 6), ('SEY', 6), ('SNY', 6), ('SYE', 6), ('SYN', 6), ('YES', 6), ('INTENT', 6), ('TIPT', 6), ('PTUI', 6), ('PUNT', 6), ('VET', 6), ('EWT', 6), ('TEW', 6), ('WET', 6), ('WIT', 6), ('TYE', 6), ('YET', 6), ('UEY', 6), ('APE', 5), ('INANE', 5), ('NAP', 5), ('NEP', 5), ('NIP', 5), ('PAN', 5), ('PEA', 5), ('PEN', 5), ('PIA', 5), ('PIE', 5), ('PIN', 5), ('BAN', 5), ('BEN', 5), ('BIN', 5), ('NAB', 5), ('NEB', 5), ('NIB', 5), ('ACE', 5), ('CAN', 5), ('ICE', 5), ('AIDE', 5), ('DEAN', 5), ('DENI', 5), ('DINE', 5), ('IDEA', 5), ('NIDE', 5), ('NIED', 5), ('AINEE', 5), ('PEE', 5), ('EF', 5), ('FA', 5), ('FE', 5), ('IF', 5), ('AGEN', 5), ('AGIN', 5), ('GAEN', 5), ('GAIN', 5), ('GANE', 5), ('GEAN', 5), ('GENA', 5), ('GIEN', 5), ('GINN', 5), ('AH', 5), ('EH', 5), ('HA', 5), ('HE', 5), ('HI', 5), ('ALIEN', 5), ('ALINE', 5), ('ALP', 5), ('ANILE', 5), ('ELAIN', 5), ('LAP', 5), ('LEP', 5), ('LIANE', 5), ('LINEN', 5), ('LIP', 5), ('PAL', 5), ('AIM', 5), ('AMI', 5), ('MAE', 5), ('MAN', 5), ('MEN', 5), ('MNA', 5), ('NAM', 5), ('NIM', 5), ('ANION', 5), ('APO', 5), ('OPE', 5), ('POA', 5), ('POI', 5), ('INNER', 5), ('PAR', 5), ('PER', 5), ('PIR', 5), ('PRE', 5), ('RAINE', 5), ('RAP', 5), ('RENIN', 5), ('REP', 5), ('RIP', 5), ('ANISE', 5), ('ASP', 5), ('ISNAE', 5), ('NINES', 5), ('PAS', 5), ('PES', 5), ('PIS', 5), ('PSI', 5), ('SAINE', 5), ('SAP', 5), ('SENNA', 5), ('SIP', 5), ('SPA', 5), ('ANENT', 5), ('APT', 5), ('ENTIA', 5), ('PAT', 5), ('PET', 5), ('PIT', 5), ('TAP', 5), ('TENIA', 5), ('TINEA', 5), ('TIP', 5), ('ENNUI', 5), ('PIU', 5), ('PUN', 5), ('AW', 5), ('WE', 5), ('AY', 5), ('NY', 5), ('YA', 5), ('YE', 5), ('BEE', 5), ('BEL', 5), ('LIB', 5), ('BIO', 5), ('BOI', 5), ('BON', 5), ('NOB', 5), ('OBE', 5), ('OBI', 5), ('REB', 5), ('RIB', 5), ('BES', 5), ('BIS', 5), ('SIB', 5), ('BET', 5), ('BIT', 5), ('BUN', 5), ('NUB', 5), ('CEE', 5), ('CEL', 5), ('CON', 5), ('ECO', 5), ('REC', 5), ('CIS', 5), ('SEC', 5), ('SIC', 5), ('CIT', 5), ('TEC', 5), ('TIC', 5), ('CUE', 5), ('ECU', 5), ('DID', 5), ('DEEN', 5), ('DENE', 5), ('EIDE', 5), ('IDEE', 5), ('NEED', 5), ('DEG', 5), ('DIG', 5), ('GED', 5), ('GID', 5), ('NIDI', 5), ('DEIL', 5), ('DELI', 5), ('DIEL', 5), ('EILD', 5), ('IDLE', 5), ('LEND', 5), ('LIED', 5), ('LIND', 5), ('DINO', 5), ('DOEN', 5), ('DONE', 5), ('NODE', 5), ('NODI', 5), ('DERN', 5), ('DIRE', 5), ('IRED', 5), ('NERD', 5), ('REND', 5), ('RIDE', 5), ('RIND', 5), ('DENS', 5), ('DESI', 5), ('DIES', 5), ('DINS', 5), ('ENDS', 5), ('IDES', 5), ('NEDS', 5), ('NIDS', 5), ('SEND', 5), ('SIDE', 5), ('SIND', 5), ('SNED', 5), ('DENT', 5), ('DIET', 5), ('DINT', 5), ('DITE', 5), ('EDIT', 5), ('TEND', 5), ('TIDE', 5), ('TIED', 5), ('TIND', 5), ('DUNE', 5), ('NUDE', 5), ('UNDE', 5), ('GENE', 5), ('EME', 5), ('MEE', 5), ('RENNE', 5), ('NENES', 5), ('SEINE', 5), ('TENNE', 5), ('OF', 5), ('EGG', 5), ('GIG', 5), ('IGG', 5), ('GLEI', 5), ('GLEN', 5), ('LENG', 5), ('LING', 5), ('GONE', 5), ('INGO', 5), ('NONG', 5), ('GIRN', 5), ('GREN', 5), ('GRIN', 5), ('RING', 5), ('EGIS', 5), ('ENGS', 5), ('GENS', 5), ('GIES', 5), ('GINS', 5), ('NEGS', 5), ('SIGN', 5), ('SING', 5), ('SNIG', 5), ('GEIT', 5), ('GENT', 5), ('GITE', 5), ('TIGE', 5), ('TING', 5), ('GENU', 5), ('HO', 5), ('OH', 5), ('SH', 5), ('UH', 5), ('LININ', 5), ('INION', 5), ('NISEI', 5), ('ELM', 5), ('MEL', 5), ('MIL', 5), ('ELOIN', 5), ('LOP', 5), ('OLEIN', 5), ('POL', 5), ('LINER', 5), ('ELSIN', 5), ('LENIS', 5), ('LIENS', 5), ('LINES', 5), ('LINNS', 5), ('NELIS', 5), ('SILEN', 5), ('ELINT', 5), ('ENLIT', 5), ('INLET', 5), ('INTEL', 5), ('LENTI', 5), ('PLU', 5), ('PUL', 5), ('EMO', 5), ('MOE', 5), ('MOI', 5), ('MON', 5), ('NOM', 5), ('MIR', 5), ('REM', 5), ('RIM', 5), ('EMS', 5), ('ISM', 5), ('MES', 5), ('MIS', 5), ('SIM', 5), ('MET', 5), ('EMU', 5), ('MEU', 5), ('MUN', 5), ('NINON', 5), ('ONION', 5), ('OOP', 5), ('POO', 5), ('IRONE', 5), ('PRO', 5), ('RONIN', 5), ('RONNE', 5), ('EOSIN', 5), ('NEONS', 5), ('NOISE', 5), ('NONES', 5), ('NONIS', 5), ('OPS', 5), ('POS', 5), ('SONNE', 5), ('SOP', 5), ('NITON', 5), ('NOINT', 5), ('NONET', 5), ('OPT', 5), ('POT', 5), ('TENNO', 5), ('TENON', 5), ('TONNE', 5), ('TOP', 5), ('OUP', 5), ('UNION', 5), ('UPO', 5), ('OW', 5), ('WO', 5), ('OY', 5), ('YO', 5), ('REINS', 5), ('RESIN', 5), ('RINES', 5), ('RINSE', 5), ('RISEN', 5), ('SERIN', 5), ('SIREN', 5), ('INERT', 5), ('INTER', 5), ('NITER', 5), ('NITRE', 5), ('TRINE', 5), ('INRUN', 5), ('INURE', 5), ('INURN', 5), ('PUR', 5), ('URINE', 5), ('URP', 5), ('NISSE', 5), ('SENSI', 5), ('SIENS', 5), ('SINES', 5), ('SNIES', 5), ('INSET', 5), ('NEIST', 5), ('NITES', 5), ('PST', 5), ('SENTI', 5), ('SIENT', 5), ('STEIN', 5), ('TINES', 5), ('PUS', 5), ('SUP', 5), ('UPS', 5), ('ETTIN', 5), ('PUT', 5), ('TUP', 5), ('UNITE', 5), ('UNTIE', 5), ('UNTIN', 5), ('YU', 5), ('AINE', 4), ('ANAN', 4), ('ANNA', 4), ('EINA', 4), ('NAAN', 4), ('NAIN', 4), ('NANA', 4), ('NANE', 4), ('NINE', 4), ('PA', 4), ('PE', 4), ('PI', 4), ('AB', 4), ('BA', 4), ('BE', 4), ('BI', 4), ('AID', 4), ('AND', 4), ('DAE', 4), ('DAN', 4), ('DEI', 4), ('DEN', 4), ('DIE', 4), ('DIN', 4), ('END', 4), ('IDE', 4), ('NED', 4), ('NID', 4), ('EINE', 4), ('NENE', 4), ('AGE', 4), ('ENG', 4), ('GAE', 4), ('GAN', 4), ('GEN', 4), ('GIE', 4), ('GIN', 4), ('NAG', 4), ('NEG', 4), ('INIA', 4), ('ANIL', 4), ('ELAN', 4), ('ILEA', 4), ('LAIN', 4), ('LANE', 4), ('LEAN', 4), ('LIEN', 4), ('LINE', 4), ('LINN', 4), ('NAIL', 4), ('NEAL', 4), ('AM', 4), ('EM', 4), ('MA', 4), ('ME', 4), ('MI', 4), ('AEON', 4), ('ANNO', 4), ('ANON', 4), ('EOAN', 4), ('NAOI', 4), ('NEON', 4), ('NONA', 4), ('NONE', 4), ('NONI', 4), ('ONIE', 4), ('OP', 4), ('PO', 4), ('AIRN', 4), ('EARN', 4), ('NARE', 4), ('NEAR', 4), ('RAIN', 4), ('RANI', 4), ('REAN', 4), ('REIN', 4), ('RINE', 4), ('AINS', 4), ('ANES', 4), ('ANIS', 4), ('ANNS', 4), ('EANS', 4), ('INNS', 4), ('ISNA', 4), ('NANS', 4), ('NIES', 4), ('SAIN', 4), ('SANE', 4), ('SEAN', 4), ('SENA', 4), ('SIEN', 4), ('SINE', 4), ('ANTE', 4), ('ANTI', 4), ('ETNA', 4), ('NEAT', 4), ('NITE', 4), ('TAIN', 4), ('TANE', 4), ('TINE', 4), ('AUNE', 4), ('UNAI', 4), ('UP', 4), ('BO', 4), ('OB', 4), ('DEE', 4), ('DEL', 4), ('ELD', 4), ('LED', 4), ('LID', 4), ('DOE', 4), ('DON', 4), ('NOD', 4), ('ODE', 4), ('RED', 4), ('RID', 4), ('DIS', 4), ('EDS', 4), ('IDS', 4), ('SED', 4), ('DIT', 4), ('TED', 4), ('TID', 4), ('DUE', 4), ('DUI', 4), ('DUN', 4), ('GEE', 4), ('ERNE', 4), ('REEN', 4), ('ENES', 4), ('ESNE', 4), ('SEEN', 4), ('SENE', 4), ('SNEE', 4), ('ETEN', 4), ('NETE', 4), ('TEEN', 4), ('TENE', 4), ('GEL', 4), ('LEG', 4), ('LIG', 4), ('EGO', 4), ('GEO', 4), ('GIO', 4), ('GOE', 4), ('GON', 4), ('NOG', 4), ('ERG', 4), ('REG', 4), ('RIG', 4), ('GIS', 4), ('SEG', 4), ('GET', 4), ('GIT', 4), ('TEG', 4), ('TIG', 4), ('GNU', 4), ('GUE', 4), ('GUN', 4), ('NISI', 4), ('INTI', 4), ('NILL', 4), ('ENOL', 4), ('LENO', 4), ('LINO', 4), ('LION', 4), ('LOIN', 4), ('LONE', 4), ('NOEL', 4), ('NOIL', 4), ('NOLE', 4), ('LEIR', 4), ('LIER', 4), ('LIRE', 4), ('NIRL', 4), ('RIEL', 4), ('RILE', 4), ('ISLE', 4), ('LEIS', 4), ('LENS', 4), ('LIES', 4), ('LINS', 4), ('NILS', 4), ('SEIL', 4), ('SILE', 4), ('LENT', 4), ('LINT', 4), ('LITE', 4), ('TEIL', 4), ('TILE', 4), ('LIEU', 4), ('LUNE', 4), ('MO', 4), ('OM', 4), ('MU', 4), ('UM', 4), ('NOON', 4), ('INRO', 4), ('IRON', 4), ('NOIR', 4), ('NORI', 4), ('ONER', 4), ('ROIN', 4), ('RONE', 4), ('EONS', 4), ('IONS', 4), ('NOES', 4), ('NOSE', 4), ('ONES', 4), ('SONE', 4), ('INTO', 4), ('NOTE', 4), ('OINT', 4), ('TONE', 4), ('EUOI', 4), ('NOUN', 4), ('ERNS', 4), ('IRES', 4), ('REIS', 4), ('RENS', 4), ('RINS', 4), ('RISE', 4), ('SEIR', 4), ('SIRE', 4), ('RENT', 4), ('RITE', 4), ('TERN', 4), ('TIER', 4), ('TIRE', 4), ('TRIE', 4), ('TRIN', 4), ('IURE', 4), ('RUIN', 4), ('RUNE', 4), ('NESS', 4), ('SEIS', 4), ('SENS', 4), ('SIES', 4), ('SINS', 4), ('NEST', 4), ('NETS', 4), ('NITS', 4), ('SENT', 4), ('SITE', 4), ('SNIT', 4), ('STEN', 4), ('STIE', 4), ('TENS', 4), ('TIES', 4), ('TINS', 4), ('NUNS', 4), ('SUNN', 4), ('UNIS', 4), ('NETT', 4), ('TENT', 4), ('TINT', 4), ('TITE', 4), ('ETUI', 4), ('TUNE', 4), ('UNIT', 4), ('AIA', 3), ('AIN', 3), ('ANA', 3), ('ANE', 3), ('ANI', 3), ('ANN', 3), ('EAN', 3), ('INN', 3), ('NAE', 3), ('NAN', 3), ('NIE', 3), ('AD', 3), ('DA', 3), ('DE', 3), ('DI', 3), ('ED', 3), ('ID', 3), ('EEN', 3), ('ENE', 3), ('NEE', 3), ('AG', 3), ('GI', 3), ('AIL', 3), ('ALE', 3), ('LEA', 3), ('LEI', 3), ('LIE', 3), ('LIN', 3), ('NIL', 3), ('EON', 3), ('ION', 3), ('NON', 3), ('ONE', 3), ('AIR', 3), ('ARE', 3), ('EAR', 3), ('ERA', 3), ('ERN', 3), ('IRE', 3), ('RAI', 3), ('RAN', 3), ('REI', 3), ('REN', 3), ('RIA', 3), ('RIN', 3), ('AIS', 3), ('EAS', 3), ('ENS', 3), ('INS', 3), ('NAS', 3), ('NIS', 3), ('SAE', 3), ('SAI', 3), ('SAN', 3), ('SEA', 3), ('SEI', 3), ('SEN', 3), ('SIN', 3), ('AIT', 3), ('ANT', 3), ('ATE', 3), ('EAT', 3), ('ETA', 3), ('ITA', 3), ('NAT', 3), ('NET', 3), ('NIT', 3), ('TAE', 3), ('TAI', 3), ('TAN', 3), ('TEA', 3), ('TEN', 3), ('TIE', 3), ('TIN', 3), ('AUE', 3), ('EAU', 3), ('NUN', 3), ('UNI', 3), ('DO', 3), ('OD', 3), ('EEL', 3), ('LEE', 3), ('ERE', 3), ('REE', 3), ('SEE', 3), ('TEE', 3), ('GO', 3), ('GU', 3), ('UG', 3), ('ELL', 3), ('ILL', 3), ('OIL', 3), ('OLE', 3), ('ELS', 3), ('LES', 3), ('LIS', 3), ('SEL', 3), ('ELT', 3), ('LET', 3), ('LIT', 3), ('TEL', 3), ('TIL', 3), ('LEU', 3), ('ULE', 3), ('NOO', 3), ('ONO', 3), ('OON', 3), ('NOR', 3), ('ORE', 3), ('REO', 3), ('ROE', 3), ('IOS', 3), ('ISO', 3), ('NOS', 3), ('OES', 3), ('ONS', 3), ('OSE', 3), ('SON', 3), ('NOT', 3), ('TOE', 3), ('TON', 3), ('ERR', 3), ('ERS', 3), ('RES', 3), ('SER', 3), ('SIR', 3), ('SRI', 3), ('RET', 3), ('RIT', 3), ('NUR', 3), ('RUE', 3), ('RUN', 3), ('URE', 3), ('URN', 3), ('ESS', 3), ('SIS', 3), ('EST', 3), ('ITS', 3), ('SET', 3), ('SIT', 3), ('TES', 3), ('TIS', 3), ('NUS', 3), ('SUE', 3), ('SUI', 3), ('SUN', 3), ('UNS', 3), ('USE', 3), ('TET', 3), ('TIT', 3), ('NUT', 3), ('TUI', 3), ('TUN', 3), ('UTE', 3), ('AA', 2), ('AE', 2), ('AI', 2), ('AN', 2), ('EA', 2), ('EN', 2), ('IN', 2), ('NA', 2), ('NE', 2), ('EE', 2), ('AL', 2), ('EL', 2), ('LA', 2), ('LI', 2), ('IO', 2), ('NO', 2), ('OE', 2), ('OI', 2), ('ON', 2), ('AR', 2), ('ER', 2), ('RE', 2), ('AS', 2), ('ES', 2), ('IS', 2), ('SI', 2), ('AT', 2), ('ET', 2), ('IT', 2), ('TA', 2), ('TE', 2), ('TI', 2), ('NU', 2), ('UN', 2), ('LO', 2), ('OO', 2), ('OR', 2), ('OS', 2), ('SO', 2), ('TO', 2), ('OU', 2), ('UR', 2), ('ST', 2), ('US', 2), ('UT', 2)]\n"
     ]
    }
   ],
   "source": [
    "\"\"\" Does not fail due to trivial mistakes and takes wildcards \"\"\" \n",
    "# does not fail due to case\n",
    "!python scrabble.py PENguin  \n",
    "# takes wildcards\n",
    "!python scrabble.py PEN*?in    \n",
    "\n",
    "# Word list for 'PENguin' should look like the words_list1 below (formatting might be different)\n",
    "word_list1 = [('PENGUIN', 10), ('PENING', 9), ('GENIP', 8), ('UNPEG', 8), ('INGENU', 7), ('PENNI', 7), ('PING', 7), \n",
    "             ('PUNG', 7), ('UNPEN', 7), ('UNPIN', 7), ('GIP', 6), ('GUP', 6), ('PEG', 6), ('PEIN', 6), ('PENI', 6), \n",
    "             ('PIG', 6), ('PINE', 6), ('PUG', 6), ('ENNUI', 5), ('GENU', 5), ('GIEN', 5), ('GINN', 5), ('NEP', 5), \n",
    "             ('NIP', 5), ('PEN', 5), ('PIE', 5), ('PIN', 5), ('PIU', 5), ('PUN', 5), ('ENG', 4), ('GEN', 4), ('GIE', 4), \n",
    "             ('GIN', 4), ('GNU', 4), ('GUE', 4), ('GUN', 4), ('NEG', 4), ('NINE', 4), ('PE', 4), ('PI', 4), ('UP', 4), \n",
    "             ('GI', 3), ('GU', 3), ('INN', 3), ('NIE', 3), ('NUN', 3), ('UG', 3), ('UNI', 3), ('EN', 2), ('IN', 2), \n",
    "             ('NE', 2), ('NU', 2), ('UN', 2)]\n",
    "\n",
    "# Word list for 'PEN*?in is far too long!\n",
    "\n",
    "### BEGIN HIDDEN TESTS \n",
    "### END HIDDEN TESTS"
   ]
  },
  {
   "cell_type": "code",
   "execution_count": 11,
   "metadata": {
    "collapsed": true,
    "nbgrader": {
     "grade": true,
     "grade_id": "cell-c75db1883eda598b",
     "locked": true,
     "points": 20,
     "schema_version": 1,
     "solution": false
    }
   },
   "outputs": [],
   "source": [
    "\"\"\" The code checks if a list of words is created - if this cell runs without an error than it passed \"\"\"\n",
    "\n",
    "#test the code in the command line\n",
    "cmd = [ 'python', 'scrabble.py', 'PENGUIN' ]\n",
    "out=bytes.decode(subprocess.Popen( cmd, stdout=subprocess.PIPE ).communicate()[0]).strip()\n",
    "assert_greater(len(out), 0)\n",
    "\n",
    "### BEGIN HIDDEN TESTS \n",
    "### END HIDDEN TESTS"
   ]
  },
  {
   "cell_type": "code",
   "execution_count": 12,
   "metadata": {
    "collapsed": true,
    "nbgrader": {
     "grade": true,
     "grade_id": "cell-bbdac153d30cb686",
     "locked": true,
     "points": 20,
     "schema_version": 1,
     "solution": false
    }
   },
   "outputs": [],
   "source": [
    "\"\"\" The code checks if a list of words is created - if this cell runs without an error than it passed \"\"\"\n",
    "\n",
    "cmd = [ 'python', 'scrabble.py', 'PENGU*?' ]\n",
    "out=bytes.decode(subprocess.Popen( cmd, stdout=subprocess.PIPE ).communicate()[0])\n",
    "assert_greater(len(out), 0)\n",
    "\n",
    "### BEGIN HIDDEN TESTS \n",
    "### END HIDDEN TESTS\n"
   ]
  },
  {
   "cell_type": "code",
   "execution_count": 13,
   "metadata": {
    "nbgrader": {
     "grade": true,
     "grade_id": "cell-d558229c3d138228",
     "locked": true,
     "points": 20,
     "schema_version": 1,
     "solution": false
    }
   },
   "outputs": [
    {
     "name": "stdout",
     "output_type": "stream",
     "text": [
      "Total time was 22.2277193069458 seconds\n"
     ]
    }
   ],
   "source": [
    "\"\"\" The code should run in seconds to a few minutes. If < 5 minutes this cell will just print out your time\"\"\"\n",
    "import time\n",
    "start=time.time()\n",
    "\n",
    "#test the code in the command line\n",
    "cmd = [ 'python', 'scrabble.py', 'PENGU*?' ]\n",
    "out=bytes.decode(subprocess.Popen( cmd, stdout=subprocess.PIPE ).communicate()[0])\n",
    "\n",
    "tot_time=time.time()-start\n",
    "print('Total time was {} seconds'.format(tot_time))\n",
    "assert_less(tot_time, 300)\n"
   ]
  },
  {
   "cell_type": "code",
   "execution_count": 14,
   "metadata": {
    "nbgrader": {
     "grade": true,
     "grade_id": "cell-a4d25cc447ae3e6a",
     "locked": false,
     "points": 10,
     "schema_version": 1,
     "solution": true
    }
   },
   "outputs": [
    {
     "name": "stdout",
     "output_type": "stream",
     "text": [
      "[('UNPEG', 8), ('UNPEN', 7), ('UNPIN', 7), ('GIP', 6), ('GUP', 6), ('NEP', 5), ('NIP', 5)]\n"
     ]
    }
   ],
   "source": [
    "\"\"\" Implement extra credit call/run the code here \"\"\"\n",
    "\"\"\" The code checks if a list of words is created - if this cell runs without an error than it passed \"\"\"\n",
    "\n",
    "!python scrabble.py PENguin P 2\n",
    "\n",
    "#test the code in the command line\n",
    "cmd = [ 'python', 'scrabble.py', 'PENGUIN' , 'P','2']\n",
    "out=bytes.decode(subprocess.Popen( cmd, stdout=subprocess.PIPE ).communicate()[0]).strip()\n",
    "assert_greater(len(out), 0)\n",
    "\n",
    "### BEGIN HIDDEN TESTS \n",
    "### END HIDDEN TESTS"
   ]
  },
  {
   "cell_type": "code",
   "execution_count": null,
   "metadata": {
    "collapsed": true
   },
   "outputs": [],
   "source": []
  }
 ],
 "metadata": {
  "celltoolbar": "Create Assignment",
  "kernelspec": {
   "display_name": "Python 3",
   "language": "python",
   "name": "python3"
  },
  "language_info": {
   "codemirror_mode": {
    "name": "ipython",
    "version": 3
   },
   "file_extension": ".py",
   "mimetype": "text/x-python",
   "name": "python",
   "nbconvert_exporter": "python",
   "pygments_lexer": "ipython3",
   "version": "3.6.3"
  },
  "widgets": {
   "state": {},
   "version": "1.1.2"
  }
 },
 "nbformat": 4,
 "nbformat_minor": 2
}
